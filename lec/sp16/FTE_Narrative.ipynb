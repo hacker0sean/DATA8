{
 "cells": [
  {
   "cell_type": "markdown",
   "metadata": {},
   "source": [
    "# Introducing Tables in a data narrative"
   ]
  },
  {
   "cell_type": "code",
   "execution_count": 227,
   "metadata": {
    "collapsed": false
   },
   "outputs": [
    {
     "data": {
      "text/plain": [
       "'0.5.19'"
      ]
     },
     "execution_count": 227,
     "metadata": {},
     "output_type": "execute_result"
    }
   ],
   "source": [
    "# HIDDEN\n",
    "# This useful nonsense should just go at the top of your notebook.\n",
    "from datascience import *\n",
    "# For documentation see http://data8.org/datascience/tables.html\n",
    "%matplotlib inline\n",
    "import matplotlib.pyplot as plots\n",
    "import numpy as np\n",
    "from numpy import mean\n",
    "plots.style.use('fivethirtyeight')\n",
    "from ipywidgets import interact\n",
    "# datascience version number of last run of this notebook\n",
    "version.__version__"
   ]
  },
  {
   "cell_type": "markdown",
   "metadata": {},
   "source": [
    "## A question of size\n",
    "\n",
    "The university might like to understand the differences in large and small departments.  For example, is the student experience more personal in a small department or program?  Do they have more or less access to faculty.  To approach this question, it wants to understand the current departmental demographics and develop a strategy for putting a committee together to study the issue.\n",
    "\n",
    "Let's start with some data."
   ]
  },
  {
   "cell_type": "code",
   "execution_count": 244,
   "metadata": {
    "collapsed": false
   },
   "outputs": [],
   "source": [
    "# read a table full of data from a file or a URL\n",
    "# assigning it to a variable gives it a name\n",
    "\n",
    "#raw_fte = Table.read_table('./data/deptFTE.csv')\n",
    "raw_fte = Table.read_table(\"https://deculler.github.io/DataScienceTableDemos/data/deptFTE.csv\")"
   ]
  },
  {
   "cell_type": "code",
   "execution_count": 245,
   "metadata": {
    "collapsed": false
   },
   "outputs": [
    {
     "data": {
      "text/html": [
       "<table border=\"1\" class=\"dataframe\">\n",
       "    <thead>\n",
       "        <tr>\n",
       "            <th>Div</th> <th>Dept</th> <th>FTE</th>\n",
       "        </tr>\n",
       "    </thead>\n",
       "    <tbody>\n",
       "        <tr>\n",
       "            <td>Clg of Chemistry  </td> <td>Chem & Biomolecular Eng  </td> <td>16.5</td>\n",
       "        </tr>\n",
       "    </tbody>\n",
       "        <tr>\n",
       "            <td>Clg of Chemistry  </td> <td>Chemistry                </td> <td>42  </td>\n",
       "        </tr>\n",
       "    </tbody>\n",
       "        <tr>\n",
       "            <td>Clg of Chemistry  </td> <td>Other Chemistry Programs </td> <td>0   </td>\n",
       "        </tr>\n",
       "    </tbody>\n",
       "        <tr>\n",
       "            <td>Clg of Engineering</td> <td>App Sci & Tech Grad Grp  </td> <td>0   </td>\n",
       "        </tr>\n",
       "    </tbody>\n",
       "        <tr>\n",
       "            <td>Clg of Engineering</td> <td>Bioengineering           </td> <td>19.5</td>\n",
       "        </tr>\n",
       "    </tbody>\n",
       "        <tr>\n",
       "            <td>Clg of Engineering</td> <td>Civil & Environmental Eng</td> <td>40.5</td>\n",
       "        </tr>\n",
       "    </tbody>\n",
       "        <tr>\n",
       "            <td>Clg of Engineering</td> <td>Electrical Eng & Comp Sci</td> <td>90.5</td>\n",
       "        </tr>\n",
       "    </tbody>\n",
       "        <tr>\n",
       "            <td>Clg of Engineering</td> <td>Engineering Science      </td> <td>0   </td>\n",
       "        </tr>\n",
       "    </tbody>\n",
       "        <tr>\n",
       "            <td>Clg of Engineering</td> <td>Industrial Eng & Ops Rsch</td> <td>14  </td>\n",
       "        </tr>\n",
       "    </tbody>\n",
       "        <tr>\n",
       "            <td>Clg of Engineering</td> <td>Materials Science & Eng  </td> <td>13  </td>\n",
       "        </tr>\n",
       "    </tbody>\n",
       "</table>\n",
       "<p>... (113 rows omitted)</p"
      ],
      "text/plain": [
       "Div                | Dept                      | FTE\n",
       "Clg of Chemistry   | Chem & Biomolecular Eng   | 16.5\n",
       "Clg of Chemistry   | Chemistry                 | 42\n",
       "Clg of Chemistry   | Other Chemistry Programs  | 0\n",
       "Clg of Engineering | App Sci & Tech Grad Grp   | 0\n",
       "Clg of Engineering | Bioengineering            | 19.5\n",
       "Clg of Engineering | Civil & Environmental Eng | 40.5\n",
       "Clg of Engineering | Electrical Eng & Comp Sci | 90.5\n",
       "Clg of Engineering | Engineering Science       | 0\n",
       "Clg of Engineering | Industrial Eng & Ops Rsch | 14\n",
       "Clg of Engineering | Materials Science & Eng   | 13\n",
       "... (113 rows omitted)"
      ]
     },
     "execution_count": 245,
     "metadata": {},
     "output_type": "execute_result"
    }
   ],
   "source": [
    "# By referring to the name, we can render the contents of the Table, i.e., the data,\n",
    "# regardless of the amount of data.  Only a piece is rendered.\n",
    "raw_fte"
   ]
  },
  {
   "cell_type": "code",
   "execution_count": 247,
   "metadata": {
    "collapsed": false
   },
   "outputs": [
    {
     "data": {
      "text/plain": [
       "1510.2500000000002"
      ]
     },
     "execution_count": 247,
     "metadata": {},
     "output_type": "execute_result"
    }
   ],
   "source": [
    "# How easy is it to access the data?\n",
    "Total_FTE = sum(raw_fte['FTE'])\n",
    "Total_FTE"
   ]
  },
  {
   "cell_type": "code",
   "execution_count": 249,
   "metadata": {
    "collapsed": false
   },
   "outputs": [
    {
     "data": {
      "text/plain": [
       "12.278455284552846"
      ]
     },
     "execution_count": 249,
     "metadata": {},
     "output_type": "execute_result"
    }
   ],
   "source": [
    "# But be careful working on raw data before you've had a chance to understand it.\n",
    "mean(raw_fte['FTE'])"
   ]
  },
  {
   "cell_type": "markdown",
   "metadata": {},
   "source": [
    "## Refining the data and the argument"
   ]
  },
  {
   "cell_type": "markdown",
   "metadata": {
    "collapsed": true
   },
   "source": [
    "Often the first step is to clean or manipulate the raw data into a more useful form.\n",
    "Here, we will do just a tiny bit.  Many of the rows have 0 FTE, as they are groups that somehow overlay departments or other institutional programs."
   ]
  },
  {
   "cell_type": "code",
   "execution_count": 252,
   "metadata": {
    "collapsed": false
   },
   "outputs": [
    {
     "data": {
      "text/html": [
       "<table border=\"1\" class=\"dataframe\">\n",
       "    <thead>\n",
       "        <tr>\n",
       "            <th>Div</th> <th>Dept</th> <th>FTE</th>\n",
       "        </tr>\n",
       "    </thead>\n",
       "    <tbody>\n",
       "        <tr>\n",
       "            <td>Clg of Chemistry  </td> <td>Chem & Biomolecular Eng  </td> <td>16.5 </td>\n",
       "        </tr>\n",
       "    </tbody>\n",
       "        <tr>\n",
       "            <td>Clg of Chemistry  </td> <td>Chemistry                </td> <td>42   </td>\n",
       "        </tr>\n",
       "    </tbody>\n",
       "        <tr>\n",
       "            <td>Clg of Engineering</td> <td>Bioengineering           </td> <td>19.5 </td>\n",
       "        </tr>\n",
       "    </tbody>\n",
       "        <tr>\n",
       "            <td>Clg of Engineering</td> <td>Civil & Environmental Eng</td> <td>40.5 </td>\n",
       "        </tr>\n",
       "    </tbody>\n",
       "        <tr>\n",
       "            <td>Clg of Engineering</td> <td>Electrical Eng & Comp Sci</td> <td>90.5 </td>\n",
       "        </tr>\n",
       "    </tbody>\n",
       "        <tr>\n",
       "            <td>Clg of Engineering</td> <td>Industrial Eng & Ops Rsch</td> <td>14   </td>\n",
       "        </tr>\n",
       "    </tbody>\n",
       "        <tr>\n",
       "            <td>Clg of Engineering</td> <td>Materials Science & Eng  </td> <td>13   </td>\n",
       "        </tr>\n",
       "    </tbody>\n",
       "        <tr>\n",
       "            <td>Clg of Engineering</td> <td>Mechanical Engineering   </td> <td>41   </td>\n",
       "        </tr>\n",
       "    </tbody>\n",
       "        <tr>\n",
       "            <td>Clg of Engineering</td> <td>Nuclear Engineering      </td> <td>8    </td>\n",
       "        </tr>\n",
       "    </tbody>\n",
       "        <tr>\n",
       "            <td>Clg of Env Design </td> <td>Architecture             </td> <td>29.75</td>\n",
       "        </tr>\n",
       "    </tbody>\n",
       "</table>\n",
       "<p>... (57 rows omitted)</p"
      ],
      "text/plain": [
       "Div                | Dept                      | FTE\n",
       "Clg of Chemistry   | Chem & Biomolecular Eng   | 16.5\n",
       "Clg of Chemistry   | Chemistry                 | 42\n",
       "Clg of Engineering | Bioengineering            | 19.5\n",
       "Clg of Engineering | Civil & Environmental Eng | 40.5\n",
       "Clg of Engineering | Electrical Eng & Comp Sci | 90.5\n",
       "Clg of Engineering | Industrial Eng & Ops Rsch | 14\n",
       "Clg of Engineering | Materials Science & Eng   | 13\n",
       "Clg of Engineering | Mechanical Engineering    | 41\n",
       "Clg of Engineering | Nuclear Engineering       | 8\n",
       "Clg of Env Design  | Architecture              | 29.75\n",
       "... (57 rows omitted)"
      ]
     },
     "execution_count": 252,
     "metadata": {},
     "output_type": "execute_result"
    }
   ],
   "source": [
    "# Create a new table from the raw table where a predicate is satisfied.\n",
    "# Here the simplest predicate, the values are not zero (which is like False for numbers)\n",
    "raw_fte.where('FTE')"
   ]
  },
  {
   "cell_type": "code",
   "execution_count": 176,
   "metadata": {
    "collapsed": true
   },
   "outputs": [],
   "source": [
    "# Assign this value to a variable so we can use it in what follows.\n",
    "fte = raw_fte.where('FTE')"
   ]
  },
  {
   "cell_type": "code",
   "execution_count": 177,
   "metadata": {
    "collapsed": false
   },
   "outputs": [
    {
     "data": {
      "text/html": [
       "<table border=\"1\" class=\"dataframe\">\n",
       "    <thead>\n",
       "        <tr>\n",
       "            <th>Div</th> <th>Dept</th> <th>FTE</th>\n",
       "        </tr>\n",
       "    </thead>\n",
       "    <tbody>\n",
       "        <tr>\n",
       "            <td>Clg of Chemistry  </td> <td>Chem & Biomolecular Eng  </td> <td>16.5 </td>\n",
       "        </tr>\n",
       "    </tbody>\n",
       "        <tr>\n",
       "            <td>Clg of Chemistry  </td> <td>Chemistry                </td> <td>42   </td>\n",
       "        </tr>\n",
       "    </tbody>\n",
       "        <tr>\n",
       "            <td>Clg of Engineering</td> <td>Bioengineering           </td> <td>19.5 </td>\n",
       "        </tr>\n",
       "    </tbody>\n",
       "        <tr>\n",
       "            <td>Clg of Engineering</td> <td>Civil & Environmental Eng</td> <td>40.5 </td>\n",
       "        </tr>\n",
       "    </tbody>\n",
       "        <tr>\n",
       "            <td>Clg of Engineering</td> <td>Electrical Eng & Comp Sci</td> <td>90.5 </td>\n",
       "        </tr>\n",
       "    </tbody>\n",
       "        <tr>\n",
       "            <td>Clg of Engineering</td> <td>Industrial Eng & Ops Rsch</td> <td>14   </td>\n",
       "        </tr>\n",
       "    </tbody>\n",
       "        <tr>\n",
       "            <td>Clg of Engineering</td> <td>Materials Science & Eng  </td> <td>13   </td>\n",
       "        </tr>\n",
       "    </tbody>\n",
       "        <tr>\n",
       "            <td>Clg of Engineering</td> <td>Mechanical Engineering   </td> <td>41   </td>\n",
       "        </tr>\n",
       "    </tbody>\n",
       "        <tr>\n",
       "            <td>Clg of Engineering</td> <td>Nuclear Engineering      </td> <td>8    </td>\n",
       "        </tr>\n",
       "    </tbody>\n",
       "        <tr>\n",
       "            <td>Clg of Env Design </td> <td>Architecture             </td> <td>29.75</td>\n",
       "        </tr>\n",
       "    </tbody>\n",
       "</table>\n",
       "<p>... (57 rows omitted)</p"
      ],
      "text/plain": [
       "Div                | Dept                      | FTE\n",
       "Clg of Chemistry   | Chem & Biomolecular Eng   | 16.5\n",
       "Clg of Chemistry   | Chemistry                 | 42\n",
       "Clg of Engineering | Bioengineering            | 19.5\n",
       "Clg of Engineering | Civil & Environmental Eng | 40.5\n",
       "Clg of Engineering | Electrical Eng & Comp Sci | 90.5\n",
       "Clg of Engineering | Industrial Eng & Ops Rsch | 14\n",
       "Clg of Engineering | Materials Science & Eng   | 13\n",
       "Clg of Engineering | Mechanical Engineering    | 41\n",
       "Clg of Engineering | Nuclear Engineering       | 8\n",
       "Clg of Env Design  | Architecture              | 29.75\n",
       "... (57 rows omitted)"
      ]
     },
     "execution_count": 177,
     "metadata": {},
     "output_type": "execute_result"
    }
   ],
   "source": [
    "# What is the value of this variable?\n",
    "fte"
   ]
  },
  {
   "cell_type": "markdown",
   "metadata": {},
   "source": [
    "### Explaining python\n",
    "\n",
    "A method is invoked on a object, including a table, using `.` (dot) and `( )` with arguments.\n",
    "\n",
    "`<table object>`.`<method>( <arguments> )`\n",
    "\n",
    "Here `raw_fte` is the table; we are invoking `where` on it, passing a column label `FTE`.  It returns a table derived from this one consisting of the rows that are non-zero (\"truthy\") in the `FTE` column.\n",
    "\n",
    "You may notice that we created `raw_fte` in a similar fashion, invoking `read_table` on the `Table` class and passing it a string describing a path to the data."
   ]
  },
  {
   "cell_type": "code",
   "execution_count": 178,
   "metadata": {
    "collapsed": false
   },
   "outputs": [
    {
     "data": {
      "text/html": [
       "<table border=\"1\" class=\"dataframe\">\n",
       "    <thead>\n",
       "        <tr>\n",
       "            <th>statistic</th> <th>Div</th> <th>Dept</th> <th>FTE</th>\n",
       "        </tr>\n",
       "    </thead>\n",
       "    <tbody>\n",
       "        <tr>\n",
       "            <td>min      </td> <td>Clg of Chemistry        </td> <td>African American Studies </td> <td>1      </td>\n",
       "        </tr>\n",
       "    </tbody>\n",
       "        <tr>\n",
       "            <td>max      </td> <td>School of Social Welfare</td> <td>UGIS-UG Interdisc Studies</td> <td>90.5   </td>\n",
       "        </tr>\n",
       "    </tbody>\n",
       "        <tr>\n",
       "            <td>median   </td> <td>                        </td> <td>                         </td> <td>15     </td>\n",
       "        </tr>\n",
       "    </tbody>\n",
       "        <tr>\n",
       "            <td>sum      </td> <td>                        </td> <td>                         </td> <td>1510.25</td>\n",
       "        </tr>\n",
       "    </tbody>\n",
       "</table>"
      ],
      "text/plain": [
       "statistic | Div                      | Dept                      | FTE\n",
       "min       | Clg of Chemistry         | African American Studies  | 1\n",
       "max       | School of Social Welfare | UGIS-UG Interdisc Studies | 90.5\n",
       "median    |                          |                           | 15\n",
       "sum       |                          |                           | 1510.25"
      ]
     },
     "execution_count": 178,
     "metadata": {},
     "output_type": "execute_result"
    }
   ],
   "source": [
    "# Descriptive statistics are built in to Tables\n",
    "# Table.stats returns a table of summaries for each column, like R summary\n",
    "# The value returned from the expression is rendered in the notebook\n",
    "fte.stats()"
   ]
  },
  {
   "cell_type": "code",
   "execution_count": 179,
   "metadata": {
    "collapsed": false
   },
   "outputs": [
    {
     "data": {
      "text/plain": [
       "67"
      ]
     },
     "execution_count": 179,
     "metadata": {},
     "output_type": "execute_result"
    }
   ],
   "source": [
    "# Tables have attributes, such as their length and width\n",
    "#  - they are values, not functions, so no ()\n",
    "fte.num_rows"
   ]
  },
  {
   "cell_type": "code",
   "execution_count": 250,
   "metadata": {
    "collapsed": false
   },
   "outputs": [
    {
     "data": {
      "text/plain": [
       "56"
      ]
     },
     "execution_count": 250,
     "metadata": {},
     "output_type": "execute_result"
    }
   ],
   "source": [
    "# Using these in expressions, which return a value\n",
    "raw_fte.num_rows - fte.num_rows"
   ]
  },
  {
   "cell_type": "code",
   "execution_count": 251,
   "metadata": {
    "collapsed": false
   },
   "outputs": [
    {
     "data": {
      "text/plain": [
       "22.541044776119403"
      ]
     },
     "execution_count": 251,
     "metadata": {},
     "output_type": "execute_result"
    }
   ],
   "source": [
    "mean(fte['FTE'])"
   ]
  },
  {
   "cell_type": "markdown",
   "metadata": {},
   "source": [
    "### Data exploration"
   ]
  },
  {
   "cell_type": "code",
   "execution_count": 181,
   "metadata": {
    "collapsed": false
   },
   "outputs": [
    {
     "data": {
      "text/html": [
       "<table border=\"1\" class=\"dataframe\">\n",
       "    <thead>\n",
       "        <tr>\n",
       "            <th>Dept</th> <th>FTE</th>\n",
       "        </tr>\n",
       "    </thead>\n",
       "    <tbody>\n",
       "        <tr>\n",
       "            <td>Chem & Biomolecular Eng  </td> <td>16.5 </td>\n",
       "        </tr>\n",
       "    </tbody>\n",
       "        <tr>\n",
       "            <td>Chemistry                </td> <td>42   </td>\n",
       "        </tr>\n",
       "    </tbody>\n",
       "        <tr>\n",
       "            <td>Bioengineering           </td> <td>19.5 </td>\n",
       "        </tr>\n",
       "    </tbody>\n",
       "        <tr>\n",
       "            <td>Civil & Environmental Eng</td> <td>40.5 </td>\n",
       "        </tr>\n",
       "    </tbody>\n",
       "        <tr>\n",
       "            <td>Electrical Eng & Comp Sci</td> <td>90.5 </td>\n",
       "        </tr>\n",
       "    </tbody>\n",
       "        <tr>\n",
       "            <td>Industrial Eng & Ops Rsch</td> <td>14   </td>\n",
       "        </tr>\n",
       "    </tbody>\n",
       "        <tr>\n",
       "            <td>Materials Science & Eng  </td> <td>13   </td>\n",
       "        </tr>\n",
       "    </tbody>\n",
       "        <tr>\n",
       "            <td>Mechanical Engineering   </td> <td>41   </td>\n",
       "        </tr>\n",
       "    </tbody>\n",
       "        <tr>\n",
       "            <td>Nuclear Engineering      </td> <td>8    </td>\n",
       "        </tr>\n",
       "    </tbody>\n",
       "        <tr>\n",
       "            <td>Architecture             </td> <td>29.75</td>\n",
       "        </tr>\n",
       "    </tbody>\n",
       "</table>\n",
       "<p>... (57 rows omitted)</p"
      ],
      "text/plain": [
       "Dept                      | FTE\n",
       "Chem & Biomolecular Eng   | 16.5\n",
       "Chemistry                 | 42\n",
       "Bioengineering            | 19.5\n",
       "Civil & Environmental Eng | 40.5\n",
       "Electrical Eng & Comp Sci | 90.5\n",
       "Industrial Eng & Ops Rsch | 14\n",
       "Materials Science & Eng   | 13\n",
       "Mechanical Engineering    | 41\n",
       "Nuclear Engineering       | 8\n",
       "Architecture              | 29.75\n",
       "... (57 rows omitted)"
      ]
     },
     "execution_count": 181,
     "metadata": {},
     "output_type": "execute_result"
    }
   ],
   "source": [
    "# Data exploration is often important to understand what you are working with.\n",
    "# Create a table by selecting columns from a table.\n",
    "fte.select(['Dept', 'FTE'])"
   ]
  },
  {
   "cell_type": "code",
   "execution_count": 182,
   "metadata": {
    "collapsed": false
   },
   "outputs": [
    {
     "data": {
      "image/png": "[encoded data removed]",
      "text/plain": [
       "<matplotlib.figure.Figure at 0x117e31e48>"
      ]
     },
     "metadata": {},
     "output_type": "display_data"
    }
   ],
   "source": [
    "# Operators on tables can be composed - the result of one is provided to the next\n",
    "# Select two columns of a Table\n",
    "# Produce a bar plot using one column as labels (or barh to see them all)\n",
    "#   - the resulting graph is rendered in the document\n",
    "fte.select(['Dept', 'FTE']).bar('Dept')"
   ]
  },
  {
   "cell_type": "markdown",
   "metadata": {},
   "source": [
    "Visualization often is essential to understand the data that you are working with, before doing any kind of summarization or analysis"
   ]
  },
  {
   "cell_type": "markdown",
   "metadata": {},
   "source": [
    "### Computational concept: composition\n",
    "* Functional composition: use the results of one as input to another\n",
    "* Sequential composition: give the result of a computation a name and use it in a subsequent computation"
   ]
  },
  {
   "cell_type": "code",
   "execution_count": 183,
   "metadata": {
    "collapsed": false
   },
   "outputs": [
    {
     "data": {
      "image/png": "[encoded data removed]",
      "text/plain": [
       "<matplotlib.figure.Figure at 0x118bcf2e8>"
      ]
     },
     "metadata": {},
     "output_type": "display_data"
    }
   ],
   "source": [
    "# Operators on tables keep the rows together, for example sorting on\n",
    "# a column produces a new table with the rows reordered.\n",
    "# Here we compose that with some visualization\n",
    "#\n",
    "# fte.select(['Dept', 'FTE']).sort('FTE').barh('Dept')\n",
    "dept_fte = fte.select(['Dept', 'FTE'])\n",
    "sorted_fte = dept_fte.sort('FTE')\n",
    "sorted_fte.barh('Dept')"
   ]
  },
  {
   "cell_type": "markdown",
   "metadata": {},
   "source": [
    "### Statistical concept: frequency analysis"
   ]
  },
  {
   "cell_type": "code",
   "execution_count": 184,
   "metadata": {
    "collapsed": false
   },
   "outputs": [
    {
     "data": {
      "image/png": "[encoded data removed]",
      "text/plain": [
       "<matplotlib.figure.Figure at 0x118755358>"
      ]
     },
     "metadata": {},
     "output_type": "display_data"
    }
   ],
   "source": [
    "# The data itself is often overwelming in its detail.  Frequency analysis\n",
    "# seeks to understand patterns, such as what is common and what is rare.\n",
    "\n",
    "fte.hist('FTE')"
   ]
  },
  {
   "cell_type": "markdown",
   "metadata": {},
   "source": [
    "Like so many things is life, the 80/20 rule... most departments are small, but the few large ones have a lot in them."
   ]
  },
  {
   "cell_type": "code",
   "execution_count": 185,
   "metadata": {
    "collapsed": false
   },
   "outputs": [
    {
     "data": {
      "text/html": [
       "<table border=\"1\" class=\"dataframe\">\n",
       "    <thead>\n",
       "        <tr>\n",
       "            <th>bin</th> <th>FTE count</th>\n",
       "        </tr>\n",
       "    </thead>\n",
       "    <tbody>\n",
       "        <tr>\n",
       "            <td>1    </td> <td>16       </td>\n",
       "        </tr>\n",
       "    </tbody>\n",
       "        <tr>\n",
       "            <td>9.95 </td> <td>27       </td>\n",
       "        </tr>\n",
       "    </tbody>\n",
       "        <tr>\n",
       "            <td>18.9 </td> <td>5        </td>\n",
       "        </tr>\n",
       "    </tbody>\n",
       "        <tr>\n",
       "            <td>27.85</td> <td>5        </td>\n",
       "        </tr>\n",
       "    </tbody>\n",
       "        <tr>\n",
       "            <td>36.8 </td> <td>4        </td>\n",
       "        </tr>\n",
       "    </tbody>\n",
       "        <tr>\n",
       "            <td>45.75</td> <td>5        </td>\n",
       "        </tr>\n",
       "    </tbody>\n",
       "        <tr>\n",
       "            <td>54.7 </td> <td>2        </td>\n",
       "        </tr>\n",
       "    </tbody>\n",
       "        <tr>\n",
       "            <td>63.65</td> <td>0        </td>\n",
       "        </tr>\n",
       "    </tbody>\n",
       "        <tr>\n",
       "            <td>72.6 </td> <td>1        </td>\n",
       "        </tr>\n",
       "    </tbody>\n",
       "        <tr>\n",
       "            <td>81.55</td> <td>2        </td>\n",
       "        </tr>\n",
       "    </tbody>\n",
       "</table>\n",
       "<p>... (1 rows omitted)</p"
      ],
      "text/plain": [
       "bin   | FTE count\n",
       "1     | 16\n",
       "9.95  | 27\n",
       "18.9  | 5\n",
       "27.85 | 5\n",
       "36.8  | 4\n",
       "45.75 | 5\n",
       "54.7  | 2\n",
       "63.65 | 0\n",
       "72.6  | 1\n",
       "81.55 | 2\n",
       "... (1 rows omitted)"
      ]
     },
     "execution_count": 185,
     "metadata": {},
     "output_type": "execute_result"
    }
   ],
   "source": [
    "# If you can visualize it, you should be able to compute on the data\n",
    "# in the visualization... create a table.\n",
    "fte.bin('FTE')"
   ]
  },
  {
   "cell_type": "markdown",
   "metadata": {},
   "source": [
    "### Computing on data in a table"
   ]
  },
  {
   "cell_type": "code",
   "execution_count": 186,
   "metadata": {
    "collapsed": false
   },
   "outputs": [
    {
     "data": {
      "text/plain": [
       "array([ 16.5 ,  42.  ,  19.5 ,  40.5 ,  90.5 ,  14.  ,  13.  ,  41.  ,\n",
       "         8.  ,  29.75,  12.75,  10.  ,  18.85,   4.5 ,  49.17,  10.33,\n",
       "        27.  ,  18.5 ,  28.25,   9.  ,  82.  ,  12.  ,   6.  ,  12.75,\n",
       "         9.75,  13.5 ,  55.25,   6.  ,  12.  ,  10.25,  15.5 ,   5.  ,\n",
       "        16.  ,  10.25,  17.  ,  11.75,   6.75,   4.5 ,   8.5 ,  10.75,\n",
       "         9.5 ,  32.25,  72.7 ,   1.  ,  13.  ,  17.  ,  49.75,  49.25,\n",
       "        19.25,  12.75,  27.  ,   1.5 ,  35.75,  15.75,   7.5 ,  13.75,\n",
       "        47.  ,  14.5 ,  36.95,  32.  ,  25.  ,   3.  ,   6.5 ,  61.25,\n",
       "        15.  ,  46.75,  16.  ])"
      ]
     },
     "execution_count": 186,
     "metadata": {},
     "output_type": "execute_result"
    }
   ],
   "source": [
    "# Indexing a table by a column label returns an array containing the data in that column\n",
    "fte['FTE']"
   ]
  },
  {
   "cell_type": "code",
   "execution_count": 187,
   "metadata": {
    "collapsed": false
   },
   "outputs": [
    {
     "data": {
      "text/plain": [
       "1510.2500000000002"
      ]
     },
     "execution_count": 187,
     "metadata": {},
     "output_type": "execute_result"
    }
   ],
   "source": [
    "# We can compute on this just like any other data\n",
    "sum(fte['FTE'])"
   ]
  },
  {
   "cell_type": "code",
   "execution_count": 188,
   "metadata": {
    "collapsed": false
   },
   "outputs": [
    {
     "data": {
      "text/plain": [
       "22.541044776119406"
      ]
     },
     "execution_count": 188,
     "metadata": {},
     "output_type": "execute_result"
    }
   ],
   "source": [
    "ave_fte = sum(fte['FTE'])/fte.num_rows\n",
    "ave_fte"
   ]
  },
  {
   "cell_type": "code",
   "execution_count": 189,
   "metadata": {
    "collapsed": false
   },
   "outputs": [
    {
     "data": {
      "text/html": [
       "<table border=\"1\" class=\"dataframe\">\n",
       "    <thead>\n",
       "        <tr>\n",
       "            <th>bin</th> <th>FTE count</th> <th>Min Count</th>\n",
       "        </tr>\n",
       "    </thead>\n",
       "    <tbody>\n",
       "        <tr>\n",
       "            <td>1    </td> <td>16       </td> <td>16       </td>\n",
       "        </tr>\n",
       "    </tbody>\n",
       "        <tr>\n",
       "            <td>9.95 </td> <td>27       </td> <td>268.65   </td>\n",
       "        </tr>\n",
       "    </tbody>\n",
       "        <tr>\n",
       "            <td>18.9 </td> <td>5        </td> <td>94.5     </td>\n",
       "        </tr>\n",
       "    </tbody>\n",
       "        <tr>\n",
       "            <td>27.85</td> <td>5        </td> <td>139.25   </td>\n",
       "        </tr>\n",
       "    </tbody>\n",
       "        <tr>\n",
       "            <td>36.8 </td> <td>4        </td> <td>147.2    </td>\n",
       "        </tr>\n",
       "    </tbody>\n",
       "        <tr>\n",
       "            <td>45.75</td> <td>5        </td> <td>228.75   </td>\n",
       "        </tr>\n",
       "    </tbody>\n",
       "        <tr>\n",
       "            <td>54.7 </td> <td>2        </td> <td>109.4    </td>\n",
       "        </tr>\n",
       "    </tbody>\n",
       "        <tr>\n",
       "            <td>63.65</td> <td>0        </td> <td>0        </td>\n",
       "        </tr>\n",
       "    </tbody>\n",
       "        <tr>\n",
       "            <td>72.6 </td> <td>1        </td> <td>72.6     </td>\n",
       "        </tr>\n",
       "    </tbody>\n",
       "        <tr>\n",
       "            <td>81.55</td> <td>2        </td> <td>163.1    </td>\n",
       "        </tr>\n",
       "    </tbody>\n",
       "</table>\n",
       "<p>... (1 rows omitted)</p"
      ],
      "text/plain": [
       "bin   | FTE count | Min Count\n",
       "1     | 16        | 16\n",
       "9.95  | 27        | 268.65\n",
       "18.9  | 5         | 94.5\n",
       "27.85 | 5         | 139.25\n",
       "36.8  | 4         | 147.2\n",
       "45.75 | 5         | 228.75\n",
       "54.7  | 2         | 109.4\n",
       "63.65 | 0         | 0\n",
       "72.6  | 1         | 72.6\n",
       "81.55 | 2         | 163.1\n",
       "... (1 rows omitted)"
      ]
     },
     "execution_count": 189,
     "metadata": {},
     "output_type": "execute_result"
    }
   ],
   "source": [
    "# The result of computation can be recorded in the table by assigning the column.\n",
    "#  - this modifies the table, rather than creating a new one\n",
    "bins = fte.bin('FTE')\n",
    "bins['Min Count'] = bins['bin']*bins['FTE count']\n",
    "bins"
   ]
  },
  {
   "cell_type": "code",
   "execution_count": 190,
   "metadata": {
    "collapsed": true
   },
   "outputs": [],
   "source": [
    "# Functions are a beautiful way to express categories\n",
    "nbin = 5\n",
    "def dept_bin(size):\n",
    "    return (size//nbin)*nbin"
   ]
  },
  {
   "cell_type": "code",
   "execution_count": 191,
   "metadata": {
    "collapsed": false
   },
   "outputs": [
    {
     "data": {
      "text/plain": [
       "10"
      ]
     },
     "execution_count": 191,
     "metadata": {},
     "output_type": "execute_result"
    }
   ],
   "source": [
    "dept_bin(13)"
   ]
  },
  {
   "cell_type": "markdown",
   "metadata": {},
   "source": [
    "### Functions in python\n",
    "- defined using `def`, the name of the function, and the arguments\n",
    "- \"body\" of the function is indented\n",
    "- `return` statement gives expression of returned value"
   ]
  },
  {
   "cell_type": "code",
   "execution_count": 192,
   "metadata": {
    "collapsed": false
   },
   "outputs": [
    {
     "data": {
      "text/html": [
       "<table border=\"1\" class=\"dataframe\">\n",
       "    <thead>\n",
       "        <tr>\n",
       "            <th>Div</th> <th>Dept</th> <th>FTE</th> <th>bin</th>\n",
       "        </tr>\n",
       "    </thead>\n",
       "    <tbody>\n",
       "        <tr>\n",
       "            <td>Clg of Chemistry  </td> <td>Chem & Biomolecular Eng  </td> <td>16.5 </td> <td>15  </td>\n",
       "        </tr>\n",
       "    </tbody>\n",
       "        <tr>\n",
       "            <td>Clg of Chemistry  </td> <td>Chemistry                </td> <td>42   </td> <td>40  </td>\n",
       "        </tr>\n",
       "    </tbody>\n",
       "        <tr>\n",
       "            <td>Clg of Engineering</td> <td>Bioengineering           </td> <td>19.5 </td> <td>15  </td>\n",
       "        </tr>\n",
       "    </tbody>\n",
       "        <tr>\n",
       "            <td>Clg of Engineering</td> <td>Civil & Environmental Eng</td> <td>40.5 </td> <td>40  </td>\n",
       "        </tr>\n",
       "    </tbody>\n",
       "        <tr>\n",
       "            <td>Clg of Engineering</td> <td>Electrical Eng & Comp Sci</td> <td>90.5 </td> <td>90  </td>\n",
       "        </tr>\n",
       "    </tbody>\n",
       "        <tr>\n",
       "            <td>Clg of Engineering</td> <td>Industrial Eng & Ops Rsch</td> <td>14   </td> <td>10  </td>\n",
       "        </tr>\n",
       "    </tbody>\n",
       "        <tr>\n",
       "            <td>Clg of Engineering</td> <td>Materials Science & Eng  </td> <td>13   </td> <td>10  </td>\n",
       "        </tr>\n",
       "    </tbody>\n",
       "        <tr>\n",
       "            <td>Clg of Engineering</td> <td>Mechanical Engineering   </td> <td>41   </td> <td>40  </td>\n",
       "        </tr>\n",
       "    </tbody>\n",
       "        <tr>\n",
       "            <td>Clg of Engineering</td> <td>Nuclear Engineering      </td> <td>8    </td> <td>5   </td>\n",
       "        </tr>\n",
       "    </tbody>\n",
       "        <tr>\n",
       "            <td>Clg of Env Design </td> <td>Architecture             </td> <td>29.75</td> <td>25  </td>\n",
       "        </tr>\n",
       "    </tbody>\n",
       "</table>\n",
       "<p>... (57 rows omitted)</p"
      ],
      "text/plain": [
       "Div                | Dept                      | FTE   | bin\n",
       "Clg of Chemistry   | Chem & Biomolecular Eng   | 16.5  | 15\n",
       "Clg of Chemistry   | Chemistry                 | 42    | 40\n",
       "Clg of Engineering | Bioengineering            | 19.5  | 15\n",
       "Clg of Engineering | Civil & Environmental Eng | 40.5  | 40\n",
       "Clg of Engineering | Electrical Eng & Comp Sci | 90.5  | 90\n",
       "Clg of Engineering | Industrial Eng & Ops Rsch | 14    | 10\n",
       "Clg of Engineering | Materials Science & Eng   | 13    | 10\n",
       "Clg of Engineering | Mechanical Engineering    | 41    | 40\n",
       "Clg of Engineering | Nuclear Engineering       | 8     | 5\n",
       "Clg of Env Design  | Architecture              | 29.75 | 25\n",
       "... (57 rows omitted)"
      ]
     },
     "execution_count": 192,
     "metadata": {},
     "output_type": "execute_result"
    }
   ],
   "source": [
    "fte_bin = fte.copy()\n",
    "fte_bin['bin'] = fte_trend.apply(dept_bin, 'FTE')\n",
    "fte_bin"
   ]
  },
  {
   "cell_type": "markdown",
   "metadata": {},
   "source": [
    "### Computing on the data versus the statistical summary"
   ]
  },
  {
   "cell_type": "markdown",
   "metadata": {},
   "source": [
    "### Grouping and computing aggregates"
   ]
  },
  {
   "cell_type": "code",
   "execution_count": 193,
   "metadata": {
    "collapsed": false
   },
   "outputs": [
    {
     "data": {
      "text/html": [
       "<table border=\"1\" class=\"dataframe\">\n",
       "    <thead>\n",
       "        <tr>\n",
       "            <th>bin</th> <th>count</th>\n",
       "        </tr>\n",
       "    </thead>\n",
       "    <tbody>\n",
       "        <tr>\n",
       "            <td>0   </td> <td>5    </td>\n",
       "        </tr>\n",
       "    </tbody>\n",
       "        <tr>\n",
       "            <td>5   </td> <td>11   </td>\n",
       "        </tr>\n",
       "    </tbody>\n",
       "        <tr>\n",
       "            <td>10  </td> <td>17   </td>\n",
       "        </tr>\n",
       "    </tbody>\n",
       "        <tr>\n",
       "            <td>15  </td> <td>12   </td>\n",
       "        </tr>\n",
       "    </tbody>\n",
       "        <tr>\n",
       "            <td>25  </td> <td>5    </td>\n",
       "        </tr>\n",
       "    </tbody>\n",
       "        <tr>\n",
       "            <td>30  </td> <td>2    </td>\n",
       "        </tr>\n",
       "    </tbody>\n",
       "        <tr>\n",
       "            <td>35  </td> <td>2    </td>\n",
       "        </tr>\n",
       "    </tbody>\n",
       "        <tr>\n",
       "            <td>40  </td> <td>3    </td>\n",
       "        </tr>\n",
       "    </tbody>\n",
       "        <tr>\n",
       "            <td>45  </td> <td>5    </td>\n",
       "        </tr>\n",
       "    </tbody>\n",
       "        <tr>\n",
       "            <td>55  </td> <td>1    </td>\n",
       "        </tr>\n",
       "    </tbody>\n",
       "</table>\n",
       "<p>... (4 rows omitted)</p"
      ],
      "text/plain": [
       "bin  | count\n",
       "0    | 5\n",
       "5    | 11\n",
       "10   | 17\n",
       "15   | 12\n",
       "25   | 5\n",
       "30   | 2\n",
       "35   | 2\n",
       "40   | 3\n",
       "45   | 5\n",
       "55   | 1\n",
       "... (4 rows omitted)"
      ]
     },
     "execution_count": 193,
     "metadata": {},
     "output_type": "execute_result"
    }
   ],
   "source": [
    "fte_bin.group('bin')\n",
    "#fte_bin.group('bin', collect=sum)"
   ]
  },
  {
   "cell_type": "code",
   "execution_count": 194,
   "metadata": {
    "collapsed": false
   },
   "outputs": [
    {
     "data": {
      "text/html": [
       "<table border=\"1\" class=\"dataframe\">\n",
       "    <thead>\n",
       "        <tr>\n",
       "            <th>bin</th> <th>count</th> <th>sum</th>\n",
       "        </tr>\n",
       "    </thead>\n",
       "    <tbody>\n",
       "        <tr>\n",
       "            <td>0   </td> <td>5    </td> <td>14.5  </td>\n",
       "        </tr>\n",
       "    </tbody>\n",
       "        <tr>\n",
       "            <td>5   </td> <td>11   </td> <td>82.5  </td>\n",
       "        </tr>\n",
       "    </tbody>\n",
       "        <tr>\n",
       "            <td>10  </td> <td>17   </td> <td>207.33</td>\n",
       "        </tr>\n",
       "    </tbody>\n",
       "        <tr>\n",
       "            <td>15  </td> <td>12   </td> <td>204.85</td>\n",
       "        </tr>\n",
       "    </tbody>\n",
       "        <tr>\n",
       "            <td>25  </td> <td>5    </td> <td>137   </td>\n",
       "        </tr>\n",
       "    </tbody>\n",
       "        <tr>\n",
       "            <td>30  </td> <td>2    </td> <td>64.25 </td>\n",
       "        </tr>\n",
       "    </tbody>\n",
       "        <tr>\n",
       "            <td>35  </td> <td>2    </td> <td>72.7  </td>\n",
       "        </tr>\n",
       "    </tbody>\n",
       "        <tr>\n",
       "            <td>40  </td> <td>3    </td> <td>123.5 </td>\n",
       "        </tr>\n",
       "    </tbody>\n",
       "        <tr>\n",
       "            <td>45  </td> <td>5    </td> <td>241.92</td>\n",
       "        </tr>\n",
       "    </tbody>\n",
       "        <tr>\n",
       "            <td>55  </td> <td>1    </td> <td>55.25 </td>\n",
       "        </tr>\n",
       "    </tbody>\n",
       "</table>\n",
       "<p>... (4 rows omitted)</p"
      ],
      "text/plain": [
       "bin  | count | sum\n",
       "0    | 5     | 14.5\n",
       "5    | 11    | 82.5\n",
       "10   | 17    | 207.33\n",
       "15   | 12    | 204.85\n",
       "25   | 5     | 137\n",
       "30   | 2     | 64.25\n",
       "35   | 2     | 72.7\n",
       "40   | 3     | 123.5\n",
       "45   | 5     | 241.92\n",
       "55   | 1     | 55.25\n",
       "... (4 rows omitted)"
      ]
     },
     "execution_count": 194,
     "metadata": {},
     "output_type": "execute_result"
    }
   ],
   "source": [
    "# Building a new table \"with\" additional columns\n",
    "fte_trends = fte_bin.group('bin').with_column('sum', fte_bin.group('bin', collect=sum)['FTE sum'])\n",
    "fte_trends"
   ]
  },
  {
   "cell_type": "code",
   "execution_count": 195,
   "metadata": {
    "collapsed": false
   },
   "outputs": [
    {
     "data": {
      "text/html": [
       "<table border=\"1\" class=\"dataframe\">\n",
       "    <thead>\n",
       "        <tr>\n",
       "            <th>bin</th> <th>count</th> <th>sum</th> <th>CumCount</th> <th>CumFTE</th> <th>Dept Frac</th> <th>FTE Frac</th>\n",
       "        </tr>\n",
       "    </thead>\n",
       "    <tbody>\n",
       "        <tr>\n",
       "            <td>0   </td> <td>5    </td> <td>14.5  </td> <td>5       </td> <td>14.5   </td> <td>7.46%    </td> <td>0.96%   </td>\n",
       "        </tr>\n",
       "    </tbody>\n",
       "        <tr>\n",
       "            <td>5   </td> <td>11   </td> <td>82.5  </td> <td>16      </td> <td>97     </td> <td>23.88%   </td> <td>6.42%   </td>\n",
       "        </tr>\n",
       "    </tbody>\n",
       "        <tr>\n",
       "            <td>10  </td> <td>17   </td> <td>207.33</td> <td>33      </td> <td>304.33 </td> <td>49.25%   </td> <td>20.15%  </td>\n",
       "        </tr>\n",
       "    </tbody>\n",
       "        <tr>\n",
       "            <td>15  </td> <td>12   </td> <td>204.85</td> <td>45      </td> <td>509.18 </td> <td>67.16%   </td> <td>33.71%  </td>\n",
       "        </tr>\n",
       "    </tbody>\n",
       "        <tr>\n",
       "            <td>25  </td> <td>5    </td> <td>137   </td> <td>50      </td> <td>646.18 </td> <td>74.63%   </td> <td>42.79%  </td>\n",
       "        </tr>\n",
       "    </tbody>\n",
       "        <tr>\n",
       "            <td>30  </td> <td>2    </td> <td>64.25 </td> <td>52      </td> <td>710.43 </td> <td>77.61%   </td> <td>47.04%  </td>\n",
       "        </tr>\n",
       "    </tbody>\n",
       "        <tr>\n",
       "            <td>35  </td> <td>2    </td> <td>72.7  </td> <td>54      </td> <td>783.13 </td> <td>80.60%   </td> <td>51.85%  </td>\n",
       "        </tr>\n",
       "    </tbody>\n",
       "        <tr>\n",
       "            <td>40  </td> <td>3    </td> <td>123.5 </td> <td>57      </td> <td>906.63 </td> <td>85.07%   </td> <td>60.03%  </td>\n",
       "        </tr>\n",
       "    </tbody>\n",
       "        <tr>\n",
       "            <td>45  </td> <td>5    </td> <td>241.92</td> <td>62      </td> <td>1148.55</td> <td>92.54%   </td> <td>76.05%  </td>\n",
       "        </tr>\n",
       "    </tbody>\n",
       "        <tr>\n",
       "            <td>55  </td> <td>1    </td> <td>55.25 </td> <td>63      </td> <td>1203.8 </td> <td>94.03%   </td> <td>79.71%  </td>\n",
       "        </tr>\n",
       "    </tbody>\n",
       "</table>\n",
       "<p>... (4 rows omitted)</p"
      ],
      "text/plain": [
       "bin  | count | sum    | CumCount | CumFTE  | Dept Frac | FTE Frac\n",
       "0    | 5     | 14.5   | 5        | 14.5    | 7.46%     | 0.96%\n",
       "5    | 11    | 82.5   | 16       | 97      | 23.88%    | 6.42%\n",
       "10   | 17    | 207.33 | 33       | 304.33  | 49.25%    | 20.15%\n",
       "15   | 12    | 204.85 | 45       | 509.18  | 67.16%    | 33.71%\n",
       "25   | 5     | 137    | 50       | 646.18  | 74.63%    | 42.79%\n",
       "30   | 2     | 64.25  | 52       | 710.43  | 77.61%    | 47.04%\n",
       "35   | 2     | 72.7   | 54       | 783.13  | 80.60%    | 51.85%\n",
       "40   | 3     | 123.5  | 57       | 906.63  | 85.07%    | 60.03%\n",
       "45   | 5     | 241.92 | 62       | 1148.55 | 92.54%    | 76.05%\n",
       "55   | 1     | 55.25  | 63       | 1203.8  | 94.03%    | 79.71%\n",
       "... (4 rows omitted)"
      ]
     },
     "execution_count": 195,
     "metadata": {},
     "output_type": "execute_result"
    }
   ],
   "source": [
    "# Build this up a column at a time.\n",
    "# We will use a cumulative sum function from numpy\n",
    "fte_trends = fte_bin.group('bin').with_column('sum', fte_bin.group('bin', collect=sum)['FTE sum'])\n",
    "fte_trends['CumCount'] = np.cumsum(fte_trends['count'])\n",
    "fte_trends['CumFTE'] = np.cumsum(fte_trends['sum'])\n",
    "fte_trends['Dept Frac'] = fte_trends['CumCount'] / sum(fte_trends['count'])\n",
    "fte_trends.set_format('Dept Frac', PercentFormatter)\n",
    "fte_trends['FTE Frac'] = fte_trends['CumFTE'] / sum(fte_trends['sum'])\n",
    "fte_trends.set_format('FTE Frac', PercentFormatter)\n",
    "fte_trends"
   ]
  },
  {
   "cell_type": "code",
   "execution_count": 196,
   "metadata": {
    "collapsed": false
   },
   "outputs": [
    {
     "data": {
      "image/png": "[encoded data removed]",
      "text/plain": [
       "<matplotlib.figure.Figure at 0x1194e73c8>"
      ]
     },
     "metadata": {},
     "output_type": "display_data"
    }
   ],
   "source": [
    "# plot the portion we are interested in\n",
    "fte_trends.select(['bin', 'Dept Frac', 'FTE Frac']).plot('bin')"
   ]
  },
  {
   "cell_type": "markdown",
   "metadata": {},
   "source": [
    "Many natural phenomenom result in most of the items are small and comprise little of the total, whereas most of the total is in a few big ones. \n",
    "\n",
    "For departments in out study: \n",
    "- 2/3rds of the departments contain 1/3rd of the faculty\n",
    "- 1/3rd of the departments contain 2/3rds of the faculty\n"
   ]
  },
  {
   "cell_type": "markdown",
   "metadata": {},
   "source": [
    "## Essential statistical concept simulated in tables - sampling\n",
    "\n",
    "We want to make sound inferences about a population we generally cannot observe based on sample of the population that we can.\n",
    "\n",
    "Think of the table as representing the population - here of departments.\n",
    "The `sample` method take a sample (uniformly at random) from the table."
   ]
  },
  {
   "cell_type": "code",
   "execution_count": 210,
   "metadata": {
    "collapsed": false
   },
   "outputs": [
    {
     "data": {
      "text/html": [
       "<table border=\"1\" class=\"dataframe\">\n",
       "    <thead>\n",
       "        <tr>\n",
       "            <th>Div</th> <th>Dept</th> <th>FTE</th>\n",
       "        </tr>\n",
       "    </thead>\n",
       "    <tbody>\n",
       "        <tr>\n",
       "            <td>L&S-Arts & Humanities Div</td> <td>Philosophy            </td> <td>17   </td>\n",
       "        </tr>\n",
       "    </tbody>\n",
       "        <tr>\n",
       "            <td>L&S-Arts & Humanities Div</td> <td>History of Art        </td> <td>15.5 </td>\n",
       "        </tr>\n",
       "    </tbody>\n",
       "        <tr>\n",
       "            <td>School of Public Health  </td> <td>Public Health         </td> <td>46.75</td>\n",
       "        </tr>\n",
       "    </tbody>\n",
       "        <tr>\n",
       "            <td>L&S-Social Sciences Div  </td> <td>Psychology            </td> <td>32   </td>\n",
       "        </tr>\n",
       "    </tbody>\n",
       "        <tr>\n",
       "            <td>Clg of Engineering       </td> <td>Mechanical Engineering</td> <td>41   </td>\n",
       "        </tr>\n",
       "    </tbody>\n",
       "</table>"
      ],
      "text/plain": [
       "Div                       | Dept                   | FTE\n",
       "L&S-Arts & Humanities Div | Philosophy             | 17\n",
       "L&S-Arts & Humanities Div | History of Art         | 15.5\n",
       "School of Public Health   | Public Health          | 46.75\n",
       "L&S-Social Sciences Div   | Psychology             | 32\n",
       "Clg of Engineering        | Mechanical Engineering | 41"
      ]
     },
     "execution_count": 210,
     "metadata": {},
     "output_type": "execute_result"
    }
   ],
   "source": [
    "# Try it over again in the computational document with ctrl-enter\n",
    "fte.sample(5)"
   ]
  },
  {
   "cell_type": "code",
   "execution_count": 211,
   "metadata": {
    "collapsed": false
   },
   "outputs": [
    {
     "data": {
      "text/plain": [
       "27.689999999999998"
      ]
     },
     "execution_count": 211,
     "metadata": {},
     "output_type": "execute_result"
    }
   ],
   "source": [
    "# Compute on a sample by indexing a column and passing it to a function.\n",
    "# Try this a few times.\n",
    "mean(fte.sample(5)['FTE'])"
   ]
  },
  {
   "cell_type": "markdown",
   "metadata": {},
   "source": [
    "## Essential computing concept - abstraction\n",
    "\n",
    "Take a particular computation on particular objects and values and abstract it into a function that provides a useful tool that can be applied in many situations."
   ]
  },
  {
   "cell_type": "code",
   "execution_count": 212,
   "metadata": {
    "collapsed": true
   },
   "outputs": [],
   "source": [
    "def ave_sample(tbl, col, size):\n",
    "    return mean(tbl.sample(size)[col])"
   ]
  },
  {
   "cell_type": "code",
   "execution_count": 213,
   "metadata": {
    "collapsed": false
   },
   "outputs": [
    {
     "data": {
      "text/plain": [
       "16.300000000000001"
      ]
     },
     "execution_count": 213,
     "metadata": {},
     "output_type": "execute_result"
    }
   ],
   "source": [
    "# Apply this to the fte table on the 'FTE' column\n",
    "ave_sample(fte, 'FTE', 5)"
   ]
  },
  {
   "cell_type": "markdown",
   "metadata": {},
   "source": [
    "## Essential computing concept - iteration\n",
    "\n",
    "Create a sequence of values in a systematic fashion"
   ]
  },
  {
   "cell_type": "code",
   "execution_count": 214,
   "metadata": {
    "collapsed": false
   },
   "outputs": [
    {
     "data": {
      "text/plain": [
       "[18.899999999999999,\n",
       " 29.300000000000001,\n",
       " 17.966000000000001,\n",
       " 19.5,\n",
       " 32.739999999999995,\n",
       " 24.649999999999999,\n",
       " 20.990000000000002,\n",
       " 36.140000000000001,\n",
       " 25.140000000000001,\n",
       " 28.919999999999998]"
      ]
     },
     "execution_count": 214,
     "metadata": {},
     "output_type": "execute_result"
    }
   ],
   "source": [
    "n_samples = 10\n",
    "[ave_sample(fte, 'FTE', 5) for sample in range(n_samples)]"
   ]
  },
  {
   "cell_type": "code",
   "execution_count": 215,
   "metadata": {
    "collapsed": false
   },
   "outputs": [
    {
     "data": {
      "text/plain": [
       "[22.800000000000001,\n",
       " 10.4,\n",
       " 16.800000000000001,\n",
       " 23.84,\n",
       " 33.0,\n",
       " 26.850000000000001,\n",
       " 19.649999999999999,\n",
       " 25.140000000000001,\n",
       " 28.899999999999999,\n",
       " 40.909999999999997]"
      ]
     },
     "execution_count": 215,
     "metadata": {},
     "output_type": "execute_result"
    }
   ],
   "source": [
    "n_samples = 10\n",
    "tbl = fte\n",
    "col = 'FTE'\n",
    "[ave_sample(tbl, col, 5) for sample in range(n_samples)]"
   ]
  },
  {
   "cell_type": "markdown",
   "metadata": {},
   "source": [
    "### Explaining python - comprehension\n",
    "- a collection of data is obtained by an expression over a variable for each element in a set\n",
    "- `[` expression `for` variable `in` data `]`\n"
   ]
  },
  {
   "cell_type": "code",
   "execution_count": 216,
   "metadata": {
    "collapsed": false
   },
   "outputs": [
    {
     "data": {
      "text/html": [
       "<table border=\"1\" class=\"dataframe\">\n",
       "    <thead>\n",
       "        <tr>\n",
       "            <th>Ave fte</th>\n",
       "        </tr>\n",
       "    </thead>\n",
       "    <tbody>\n",
       "        <tr>\n",
       "            <td>16.966 </td>\n",
       "        </tr>\n",
       "    </tbody>\n",
       "        <tr>\n",
       "            <td>20.05  </td>\n",
       "        </tr>\n",
       "    </tbody>\n",
       "        <tr>\n",
       "            <td>15.9   </td>\n",
       "        </tr>\n",
       "    </tbody>\n",
       "        <tr>\n",
       "            <td>34.8   </td>\n",
       "        </tr>\n",
       "    </tbody>\n",
       "        <tr>\n",
       "            <td>26     </td>\n",
       "        </tr>\n",
       "    </tbody>\n",
       "        <tr>\n",
       "            <td>26.59  </td>\n",
       "        </tr>\n",
       "    </tbody>\n",
       "        <tr>\n",
       "            <td>33.62  </td>\n",
       "        </tr>\n",
       "    </tbody>\n",
       "        <tr>\n",
       "            <td>33.05  </td>\n",
       "        </tr>\n",
       "    </tbody>\n",
       "        <tr>\n",
       "            <td>12.95  </td>\n",
       "        </tr>\n",
       "    </tbody>\n",
       "        <tr>\n",
       "            <td>24.13  </td>\n",
       "        </tr>\n",
       "    </tbody>\n",
       "</table>"
      ],
      "text/plain": [
       "Ave fte\n",
       "16.966\n",
       "20.05\n",
       "15.9\n",
       "34.8\n",
       "26\n",
       "26.59\n",
       "33.62\n",
       "33.05\n",
       "12.95\n",
       "24.13"
      ]
     },
     "execution_count": 216,
     "metadata": {},
     "output_type": "execute_result"
    }
   ],
   "source": [
    "# Create a table object with this column of values, giving it a name\n",
    "n_samples = 10\n",
    "tbl = fte\n",
    "col = 'FTE'\n",
    "Table().with_column('Ave fte', [ave_sample(tbl, col, 5) for sample in range(n_samples)])"
   ]
  },
  {
   "cell_type": "code",
   "execution_count": 217,
   "metadata": {
    "collapsed": true
   },
   "outputs": [],
   "source": [
    "# Abstract this whole process\n",
    "def distr(tbl, col, size, samples):\n",
    "    col_data = [ave_sample(tbl, col, size) for sample in range(samples)]\n",
    "    return Table().with_column(\"ave \" + col, col_data)"
   ]
  },
  {
   "cell_type": "code",
   "execution_count": 218,
   "metadata": {
    "collapsed": false
   },
   "outputs": [
    {
     "data": {
      "text/html": [
       "<table border=\"1\" class=\"dataframe\">\n",
       "    <thead>\n",
       "        <tr>\n",
       "            <th>ave FTE</th>\n",
       "        </tr>\n",
       "    </thead>\n",
       "    <tbody>\n",
       "        <tr>\n",
       "            <td>20.7   </td>\n",
       "        </tr>\n",
       "    </tbody>\n",
       "        <tr>\n",
       "            <td>35.75  </td>\n",
       "        </tr>\n",
       "    </tbody>\n",
       "        <tr>\n",
       "            <td>22.9   </td>\n",
       "        </tr>\n",
       "    </tbody>\n",
       "        <tr>\n",
       "            <td>22.716 </td>\n",
       "        </tr>\n",
       "    </tbody>\n",
       "        <tr>\n",
       "            <td>10.55  </td>\n",
       "        </tr>\n",
       "    </tbody>\n",
       "        <tr>\n",
       "            <td>24.45  </td>\n",
       "        </tr>\n",
       "    </tbody>\n",
       "        <tr>\n",
       "            <td>29.15  </td>\n",
       "        </tr>\n",
       "    </tbody>\n",
       "        <tr>\n",
       "            <td>34.316 </td>\n",
       "        </tr>\n",
       "    </tbody>\n",
       "        <tr>\n",
       "            <td>25.25  </td>\n",
       "        </tr>\n",
       "    </tbody>\n",
       "        <tr>\n",
       "            <td>14.25  </td>\n",
       "        </tr>\n",
       "    </tbody>\n",
       "</table>\n",
       "<p>... (90 rows omitted)</p"
      ],
      "text/plain": [
       "ave FTE\n",
       "20.7\n",
       "35.75\n",
       "22.9\n",
       "22.716\n",
       "10.55\n",
       "24.45\n",
       "29.15\n",
       "34.316\n",
       "25.25\n",
       "14.25\n",
       "... (90 rows omitted)"
      ]
     },
     "execution_count": 218,
     "metadata": {},
     "output_type": "execute_result"
    }
   ],
   "source": [
    "# Apply it as a general tool to create a table\n",
    "distr(fte, 'FTE', 5, 100)"
   ]
  },
  {
   "cell_type": "code",
   "execution_count": 219,
   "metadata": {
    "collapsed": false
   },
   "outputs": [
    {
     "data": {
      "image/png": "[encoded data removed]",
      "text/plain": [
       "<matplotlib.figure.Figure at 0x1199eafd0>"
      ]
     },
     "metadata": {},
     "output_type": "display_data"
    }
   ],
   "source": [
    "# Compute a sample distribution by obtaining lots of samples, computing a statistic on each\n",
    "# and forming a histogram of those\n",
    "fte_distr = distr(fte, 'FTE', 5, 1000)\n",
    "fte_distr.hist()"
   ]
  },
  {
   "cell_type": "code",
   "execution_count": 220,
   "metadata": {
    "collapsed": false
   },
   "outputs": [
    {
     "data": {
      "text/html": [
       "<table border=\"1\" class=\"dataframe\">\n",
       "    <thead>\n",
       "        <tr>\n",
       "            <th>statistic</th> <th>ave FTE</th>\n",
       "        </tr>\n",
       "    </thead>\n",
       "    <tbody>\n",
       "        <tr>\n",
       "            <td>min      </td> <td>6.25   </td>\n",
       "        </tr>\n",
       "    </tbody>\n",
       "        <tr>\n",
       "            <td>mean     </td> <td>23.0899</td>\n",
       "        </tr>\n",
       "    </tbody>\n",
       "        <tr>\n",
       "            <td>max      </td> <td>55.25  </td>\n",
       "        </tr>\n",
       "    </tbody>\n",
       "</table>"
      ],
      "text/plain": [
       "statistic | ave FTE\n",
       "min       | 6.25\n",
       "mean      | 23.0899\n",
       "max       | 55.25"
      ]
     },
     "execution_count": 220,
     "metadata": {},
     "output_type": "execute_result"
    }
   ],
   "source": [
    "# What if we did statistics on this?\n",
    "fte_distr.stats(ops=[min, mean, max])"
   ]
  },
  {
   "cell_type": "code",
   "execution_count": 224,
   "metadata": {
    "collapsed": false
   },
   "outputs": [
    {
     "data": {
      "text/plain": [
       "22.541044776119406"
      ]
     },
     "execution_count": 224,
     "metadata": {},
     "output_type": "execute_result"
    }
   ],
   "source": [
    "ave_fte\n",
    "# What is that showing?"
   ]
  },
  {
   "cell_type": "code",
   "execution_count": 228,
   "metadata": {
    "collapsed": true
   },
   "outputs": [],
   "source": [
    "def show_ave_fte_dist(samples):\n",
    "    ave_fte_distr = distr(fte, 'FTE', 5, samples)\n",
    "    ave_fte_distr.hist()\n",
    "    #print(mean(ave_fte_distr['ave FTE']))"
   ]
  },
  {
   "cell_type": "code",
   "execution_count": 229,
   "metadata": {
    "collapsed": false
   },
   "outputs": [
    {
     "data": {
      "text/plain": [
       "<function __main__.show_ave_fte_dist>"
      ]
     },
     "execution_count": 229,
     "metadata": {},
     "output_type": "execute_result"
    },
    {
     "data": {
      "image/png": "[encoded data removed]",
      "text/plain": [
       "<matplotlib.figure.Figure at 0x119aed278>"
      ]
     },
     "metadata": {},
     "output_type": "display_data"
    }
   ],
   "source": [
    "interact(show_ave_fte_dist, samples=(10,400,10))"
   ]
  },
  {
   "cell_type": "markdown",
   "metadata": {},
   "source": [
    "## Reaching some conclusions and presenting them\n",
    "\n",
    "We have learned a lot about the structure of departments.  Lots of little ones, but most of the faculty are in large ones.  \n",
    "\n",
    "From this understanding, we might want to build a little tool for constructing a committee as a stratified sample of departments, say two small one, one middle size, and one large."
   ]
  },
  {
   "cell_type": "code",
   "execution_count": 241,
   "metadata": {
    "collapsed": true
   },
   "outputs": [],
   "source": [
    "def categorize_dept(fte):\n",
    "    if fte < 15:\n",
    "        return 'Small'\n",
    "    elif fte > 45:\n",
    "        return 'Big'\n",
    "    else:\n",
    "        return 'Medium'"
   ]
  },
  {
   "cell_type": "code",
   "execution_count": 242,
   "metadata": {
    "collapsed": false
   },
   "outputs": [
    {
     "data": {
      "text/html": [
       "<table border=\"1\" class=\"dataframe\">\n",
       "    <thead>\n",
       "        <tr>\n",
       "            <th>Div</th> <th>Dept</th> <th>FTE</th> <th>Size</th>\n",
       "        </tr>\n",
       "    </thead>\n",
       "    <tbody>\n",
       "        <tr>\n",
       "            <td>Clg of Chemistry  </td> <td>Chem & Biomolecular Eng  </td> <td>16.5 </td> <td>Medium</td>\n",
       "        </tr>\n",
       "    </tbody>\n",
       "        <tr>\n",
       "            <td>Clg of Chemistry  </td> <td>Chemistry                </td> <td>42   </td> <td>Medium</td>\n",
       "        </tr>\n",
       "    </tbody>\n",
       "        <tr>\n",
       "            <td>Clg of Engineering</td> <td>Bioengineering           </td> <td>19.5 </td> <td>Medium</td>\n",
       "        </tr>\n",
       "    </tbody>\n",
       "        <tr>\n",
       "            <td>Clg of Engineering</td> <td>Civil & Environmental Eng</td> <td>40.5 </td> <td>Medium</td>\n",
       "        </tr>\n",
       "    </tbody>\n",
       "        <tr>\n",
       "            <td>Clg of Engineering</td> <td>Electrical Eng & Comp Sci</td> <td>90.5 </td> <td>Big   </td>\n",
       "        </tr>\n",
       "    </tbody>\n",
       "        <tr>\n",
       "            <td>Clg of Engineering</td> <td>Industrial Eng & Ops Rsch</td> <td>14   </td> <td>Small </td>\n",
       "        </tr>\n",
       "    </tbody>\n",
       "        <tr>\n",
       "            <td>Clg of Engineering</td> <td>Materials Science & Eng  </td> <td>13   </td> <td>Small </td>\n",
       "        </tr>\n",
       "    </tbody>\n",
       "        <tr>\n",
       "            <td>Clg of Engineering</td> <td>Mechanical Engineering   </td> <td>41   </td> <td>Medium</td>\n",
       "        </tr>\n",
       "    </tbody>\n",
       "        <tr>\n",
       "            <td>Clg of Engineering</td> <td>Nuclear Engineering      </td> <td>8    </td> <td>Small </td>\n",
       "        </tr>\n",
       "    </tbody>\n",
       "        <tr>\n",
       "            <td>Clg of Env Design </td> <td>Architecture             </td> <td>29.75</td> <td>Medium</td>\n",
       "        </tr>\n",
       "    </tbody>\n",
       "</table>\n",
       "<p>... (57 rows omitted)</p"
      ],
      "text/plain": [
       "Div                | Dept                      | FTE   | Size\n",
       "Clg of Chemistry   | Chem & Biomolecular Eng   | 16.5  | Medium\n",
       "Clg of Chemistry   | Chemistry                 | 42    | Medium\n",
       "Clg of Engineering | Bioengineering            | 19.5  | Medium\n",
       "Clg of Engineering | Civil & Environmental Eng | 40.5  | Medium\n",
       "Clg of Engineering | Electrical Eng & Comp Sci | 90.5  | Big\n",
       "Clg of Engineering | Industrial Eng & Ops Rsch | 14    | Small\n",
       "Clg of Engineering | Materials Science & Eng   | 13    | Small\n",
       "Clg of Engineering | Mechanical Engineering    | 41    | Medium\n",
       "Clg of Engineering | Nuclear Engineering       | 8     | Small\n",
       "Clg of Env Design  | Architecture              | 29.75 | Medium\n",
       "... (57 rows omitted)"
      ]
     },
     "execution_count": 242,
     "metadata": {},
     "output_type": "execute_result"
    }
   ],
   "source": [
    "fte['Size'] = fte.apply(categorize_dept, 'FTE')\n",
    "fte"
   ]
  },
  {
   "cell_type": "code",
   "execution_count": 234,
   "metadata": {
    "collapsed": false
   },
   "outputs": [
    {
     "data": {
      "text/html": [
       "<table border=\"1\" class=\"dataframe\">\n",
       "    <thead>\n",
       "        <tr>\n",
       "            <th>Div</th> <th>Dept</th> <th>FTE</th> <th>Size</th>\n",
       "        </tr>\n",
       "    </thead>\n",
       "    <tbody>\n",
       "        <tr>\n",
       "            <td>L&S-Arts & Humanities Div</td> <td>Comparative Literature</td> <td>9.75</td> <td>Small</td>\n",
       "        </tr>\n",
       "    </tbody>\n",
       "        <tr>\n",
       "            <td>Other EVCP Programs      </td> <td>Other EVCP Programs   </td> <td>6.5 </td> <td>Small</td>\n",
       "        </tr>\n",
       "    </tbody>\n",
       "</table>"
      ],
      "text/plain": [
       "Div                       | Dept                   | FTE  | Size\n",
       "L&S-Arts & Humanities Div | Comparative Literature | 9.75 | Small\n",
       "Other EVCP Programs       | Other EVCP Programs    | 6.5  | Small"
      ]
     },
     "execution_count": 234,
     "metadata": {},
     "output_type": "execute_result"
    }
   ],
   "source": [
    "fte.where('Size', 'Small').sample(2)"
   ]
  },
  {
   "cell_type": "code",
   "execution_count": 243,
   "metadata": {
    "collapsed": false
   },
   "outputs": [
    {
     "data": {
      "text/html": [
       "<table border=\"1\" class=\"dataframe\">\n",
       "    <thead>\n",
       "        <tr>\n",
       "            <th>Div</th> <th>Dept</th> <th>FTE</th> <th>Size</th>\n",
       "        </tr>\n",
       "    </thead>\n",
       "    <tbody>\n",
       "        <tr>\n",
       "            <td>L&S-Arts & Humanities Div</td> <td>Film and Media</td> <td>6    </td> <td>Small </td>\n",
       "        </tr>\n",
       "    </tbody>\n",
       "        <tr>\n",
       "            <td>L&S-Social Sciences Div  </td> <td>Geography     </td> <td>13.75</td> <td>Small </td>\n",
       "        </tr>\n",
       "    </tbody>\n",
       "        <tr>\n",
       "            <td>L&S-Social Sciences Div  </td> <td>Anthropology  </td> <td>27   </td> <td>Medium</td>\n",
       "        </tr>\n",
       "    </tbody>\n",
       "        <tr>\n",
       "            <td>School of Public Health  </td> <td>Public Health </td> <td>46.75</td> <td>Big   </td>\n",
       "        </tr>\n",
       "    </tbody>\n",
       "</table>"
      ],
      "text/plain": [
       "Div                       | Dept           | FTE   | Size\n",
       "L&S-Arts & Humanities Div | Film and Media | 6     | Small\n",
       "L&S-Social Sciences Div   | Geography      | 13.75 | Small\n",
       "L&S-Social Sciences Div   | Anthropology   | 27    | Medium\n",
       "School of Public Health   | Public Health  | 46.75 | Big"
      ]
     },
     "execution_count": 243,
     "metadata": {},
     "output_type": "execute_result"
    }
   ],
   "source": [
    "fte.where('Size', 'Small').sample(2).append(fte.where('Size', 'Medium').sample(1)).append(fte.where('Size', 'Big').sample(1))"
   ]
  },
  {
   "cell_type": "code",
   "execution_count": null,
   "metadata": {
    "collapsed": true
   },
   "outputs": [],
   "source": []
  },
  {
   "cell_type": "markdown",
   "metadata": {},
   "source": [
    "## Appendix\n",
    "\n",
    "Zipf law - for many natural processes rank and frequency are inversely proportional.\n",
    "What about department sizes?"
   ]
  },
  {
   "cell_type": "code",
   "execution_count": 223,
   "metadata": {
    "collapsed": false
   },
   "outputs": [
    {
     "data": {
      "image/png": "[encoded data removed]",
      "text/plain": [
       "<matplotlib.figure.Figure at 0x119c46b38>"
      ]
     },
     "metadata": {},
     "output_type": "display_data"
    }
   ],
   "source": [
    "# Really too small a data set for this, but its interesting.\n",
    "ordered_fte = fte.sort('FTE', descending = True)\n",
    "ordered_fte['rank'] = np.array(range(ordered_fte.num_rows))+1\n",
    "ordered_fte['rank*FTE'] = ordered_fte['rank'] * ordered_fte['FTE']\n",
    "ordered_fte.select('rank*FTE').plot()"
   ]
  },
  {
   "cell_type": "code",
   "execution_count": null,
   "metadata": {
    "collapsed": true
   },
   "outputs": [],
   "source": []
  }
 ],
 "metadata": {
  "kernelspec": {
   "display_name": "Python 3",
   "language": "python",
   "name": "python3"
  },
  "language_info": {
   "codemirror_mode": {
    "name": "ipython",
    "version": 3
   },
   "file_extension": ".py",
   "mimetype": "text/x-python",
   "name": "python",
   "nbconvert_exporter": "python",
   "pygments_lexer": "ipython3",
   "version": "3.5.1"
  }
 },
 "nbformat": 4,
 "nbformat_minor": 0
}
