{
 "cells": [
  {
   "cell_type": "code",
   "execution_count": null,
   "metadata": {
    "collapsed": false
   },
   "outputs": [],
   "source": [
    "# HIDDEN\n",
    "# This useful nonsense should just go at the top of your notebook.\n",
    "from datascience import *\n",
    "%matplotlib inline\n",
    "import matplotlib.pyplot as plots\n",
    "import numpy as np\n",
    "from numpy import mean\n",
    "plots.style.use('fivethirtyeight')\n",
    "from ipywidgets import interact\n",
    "# datascience version number of last run of this notebook\n",
    "version.__version__"
   ]
  },
  {
   "cell_type": "markdown",
   "metadata": {},
   "source": [
    "# A Computational Narrative about FTE and Graduates\n",
    "\n",
    "This computational document assumes the basic operations on individual tables \n",
    "and illustrates the process of refining raw data into a form that can be worked\n",
    "with more sensibly and combines data from multiple tables."
   ]
  },
  {
   "cell_type": "code",
   "execution_count": null,
   "metadata": {
    "collapsed": false
   },
   "outputs": [],
   "source": [
    "#raw_fte = Table.read_table(\"./data/deptFTE.csv\")\n",
    "raw_fte = Table.read_table(\"https://deculler.github.io/DataScienceTableDemos/data/deptFTE.csv\")\n",
    "raw_fte"
   ]
  },
  {
   "cell_type": "code",
   "execution_count": null,
   "metadata": {
    "collapsed": false
   },
   "outputs": [],
   "source": [
    "fte = raw_fte.where(raw_fte['FTE'] > 0)\n",
    "fte"
   ]
  },
  {
   "cell_type": "code",
   "execution_count": null,
   "metadata": {
    "collapsed": false
   },
   "outputs": [],
   "source": [
    "raw_degrees = Table().read_table(\"./data/DegreeCounts-1983-2016.csv\")  # Raw degree data from CalAnswers\n",
    "raw_degrees"
   ]
  },
  {
   "cell_type": "markdown",
   "metadata": {},
   "source": [
    "Six thousand rows!  Now that's hard to deal with mousing around in a spreadsheet.  But it is also hard to deal with the categories.  So let's clean it up."
   ]
  },
  {
   "cell_type": "code",
   "execution_count": null,
   "metadata": {
    "collapsed": false
   },
   "outputs": [],
   "source": [
    "degree_rows = raw_degrees.where(raw_degrees['Academic Yr'] != '2015-16')\n",
    "degrees = degree_rows.drop('All Major Acad Hier Level Nm')\n",
    "degrees.relabel('Academic Yr', 'Year')\n",
    "degrees.relabel('Academic Department Short Nm', 'Dept')\n",
    "degrees.relabel('Reporting Clg School Short Nm', 'College')\n",
    "degrees.relabel('Academic Division Short Nm','Div')\n",
    "degrees.relabel('Student Headcount', 'Grads')\n",
    "degrees.relabel('Prorated Student Major Cnt Sum', 'Prorated')\n",
    "degrees['Year'] = degrees.apply(lambda x:int(x[0:4])+1, 'Year')\n",
    "degrees.show()"
   ]
  },
  {
   "cell_type": "code",
   "execution_count": null,
   "metadata": {
    "collapsed": false
   },
   "outputs": [],
   "source": [
    "degrees.num_rows"
   ]
  },
  {
   "cell_type": "code",
   "execution_count": null,
   "metadata": {
    "collapsed": false
   },
   "outputs": [],
   "source": [
    "Totals = degrees.select(['Year', 'DegLvlDesc', 'Grads']).groups(['Year', 'DegLvlDesc'], collect=sum)\n",
    "Totals"
   ]
  },
  {
   "cell_type": "code",
   "execution_count": null,
   "metadata": {
    "collapsed": false
   },
   "outputs": [],
   "source": [
    "# Transpose this data into columns of years, per degree type, summing the number of grads.\n",
    "Grads_by_year = Totals.pivot('DegLvlDesc', 'Year', 'Grads sum', collect=sum)\n",
    "Grads_by_year"
   ]
  },
  {
   "cell_type": "code",
   "execution_count": null,
   "metadata": {
    "collapsed": false
   },
   "outputs": [],
   "source": [
    "# What does this look like?\n",
    "Grads_by_year.plot('Year')"
   ]
  },
  {
   "cell_type": "code",
   "execution_count": null,
   "metadata": {
    "collapsed": false
   },
   "outputs": [],
   "source": [
    "# Let's look at the last year of data\n",
    "degrees.where('Year', 2015)"
   ]
  },
  {
   "cell_type": "code",
   "execution_count": null,
   "metadata": {
    "collapsed": false
   },
   "outputs": [],
   "source": [
    "graduates = degrees.where('Year', 2015).select(['DegLvlDesc', 'College', 'Dept', 'Grads']).pivot('DegLvlDesc', ['College', 'Dept'], 'Grads', collect=sum)\n",
    "graduates"
   ]
  },
  {
   "cell_type": "markdown",
   "metadata": {},
   "source": [
    "# Joining data from multiple tables\n",
    "\n",
    "We now have FTE by dept and graduates by dept.  Join them together in a single table with both."
   ]
  },
  {
   "cell_type": "code",
   "execution_count": null,
   "metadata": {
    "collapsed": false
   },
   "outputs": [],
   "source": [
    "fte.join('Dept',graduates )"
   ]
  },
  {
   "cell_type": "code",
   "execution_count": null,
   "metadata": {
    "collapsed": false
   },
   "outputs": [],
   "source": [
    "depts = fte.join('Dept',graduates )\n",
    "depts['BA per FTE'] = depts['Bachelor'] / depts['FTE']\n",
    "depts.sort('Dept').show()"
   ]
  },
  {
   "cell_type": "code",
   "execution_count": null,
   "metadata": {
    "collapsed": false
   },
   "outputs": [],
   "source": [
    "depts.where(depts['BA per FTE'] < 50).scatter('FTE', 'BA per FTE')"
   ]
  },
  {
   "cell_type": "code",
   "execution_count": null,
   "metadata": {
    "collapsed": false
   },
   "outputs": [],
   "source": [
    "#raw_fte.where(raw_fte['FTE'] == 0).show()"
   ]
  },
  {
   "cell_type": "code",
   "execution_count": null,
   "metadata": {
    "collapsed": false
   },
   "outputs": [],
   "source": [
    "depts = raw_fte.join('Dept',graduates )\n",
    "depts['BA per FTE'] = depts['Bachelor'] / depts['FTE']\n",
    "depts.sort('Dept').show()"
   ]
  },
  {
   "cell_type": "code",
   "execution_count": null,
   "metadata": {
    "collapsed": false
   },
   "outputs": [],
   "source": [
    "depts = raw_fte.join('Dept',graduates.drop(['Doctoral', 'Masters/Professional']).where('Bachelor') )\n",
    "depts['BA per FTE'] = depts['Bachelor'] / depts['FTE']\n",
    "depts.sort('Dept').show()"
   ]
  },
  {
   "cell_type": "code",
   "execution_count": null,
   "metadata": {
    "collapsed": false
   },
   "outputs": [],
   "source": [
    "depts.where('FTE', 0)"
   ]
  },
  {
   "cell_type": "code",
   "execution_count": null,
   "metadata": {
    "collapsed": false
   },
   "outputs": [],
   "source": [
    "xlat = Table(['Dept', 'toDept']).with_rows([\n",
    "        ('L&S Chemistry', 'Chemistry'),\n",
    "        ('L&S Computer Science', 'Electrical Eng & Comp Sci'),\n",
    "        ('L&S Envir Econ & Policy', 'Env Sci, Policy, & Mgmt'),\n",
    "        ('L&S Legal Studies', 'Law'),\n",
    "        ('L&S Ops Rsch & Mgmt Sci', 'Industrial Eng & Ops Rsch'),\n",
    "        ('L&S Public Health', 'Public Health'),\n",
    "        ('L&S Social Welfare', 'Social Welfare')\n",
    "    ])\n",
    "xlat"
   ]
  },
  {
   "cell_type": "code",
   "execution_count": null,
   "metadata": {
    "collapsed": false
   },
   "outputs": [],
   "source": [
    "def fix_dept(dept):\n",
    "    if dept in xlat['Dept']:\n",
    "        return xlat['toDept'][list(xlat['Dept']).index(dept)]\n",
    "    else:\n",
    "        return dept"
   ]
  },
  {
   "cell_type": "code",
   "execution_count": null,
   "metadata": {
    "collapsed": false
   },
   "outputs": [],
   "source": [
    "fix_dept('History')"
   ]
  },
  {
   "cell_type": "code",
   "execution_count": null,
   "metadata": {
    "collapsed": false
   },
   "outputs": [],
   "source": [
    "fix_dept('L&S Legal Studies')"
   ]
  },
  {
   "cell_type": "code",
   "execution_count": null,
   "metadata": {
    "collapsed": false
   },
   "outputs": [],
   "source": [
    "BAs = graduates.drop(['Doctoral', 'Masters/Professional']).where('Bachelor')\n",
    "BAs['Dept'] = BAs.apply(fix_dept, 'Dept')\n",
    "gBAs = BAs.drop('College').group('Dept', collect = sum)\n",
    "gBAs.show()"
   ]
  },
  {
   "cell_type": "code",
   "execution_count": null,
   "metadata": {
    "collapsed": false
   },
   "outputs": [],
   "source": [
    "gdepts = raw_fte.join('Dept',gBAs)\n",
    "gdepts['BA per FTE'] = gdepts['Bachelor sum'] / gdepts['FTE']\n",
    "gdepts.sort('Dept')"
   ]
  },
  {
   "cell_type": "code",
   "execution_count": null,
   "metadata": {
    "collapsed": false
   },
   "outputs": [],
   "source": [
    "gdepts.where(gdepts['BA per FTE']<20).scatter('FTE', 'BA per FTE',fit_line=True)"
   ]
  },
  {
   "cell_type": "code",
   "execution_count": null,
   "metadata": {
    "collapsed": false
   },
   "outputs": [],
   "source": [
    "gdepts.where(gdepts['BA per FTE']<20).sort('BA per FTE', descending=True)"
   ]
  },
  {
   "cell_type": "code",
   "execution_count": null,
   "metadata": {
    "collapsed": true
   },
   "outputs": [],
   "source": []
  },
  {
   "cell_type": "code",
   "execution_count": null,
   "metadata": {
    "collapsed": false
   },
   "outputs": [],
   "source": [
    "fte.groups('Div', collect=sum)"
   ]
  },
  {
   "cell_type": "code",
   "execution_count": null,
   "metadata": {
    "collapsed": false
   },
   "outputs": [],
   "source": [
    "def sum_collect(s):\n",
    "    try:\n",
    "        return sum(s)\n",
    "    except TypeError:\n",
    "        if np.all(np.array(s) == s[0]):\n",
    "            return s[0]\n",
    "        else:\n",
    "            return s\n",
    "\n",
    "Divisions = fte.select(['Div', 'Dept', 'FTE']).group('Div', collect=sum_collect).show()\n",
    "Divisions"
   ]
  }
 ],
 "metadata": {
  "kernelspec": {
   "display_name": "Python 3",
   "language": "python",
   "name": "python3"
  },
  "language_info": {
   "codemirror_mode": {
    "name": "ipython",
    "version": 3
   },
   "file_extension": ".py",
   "mimetype": "text/x-python",
   "name": "python",
   "nbconvert_exporter": "python",
   "pygments_lexer": "ipython3",
   "version": "3.5.1"
  }
 },
 "nbformat": 4,
 "nbformat_minor": 0
}
