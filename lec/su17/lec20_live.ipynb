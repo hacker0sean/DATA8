{
 "cells": [
  {
   "cell_type": "code",
   "execution_count": 1,
   "metadata": {
    "collapsed": true
   },
   "outputs": [],
   "source": [
    "from datascience import *\n",
    "import numpy as np\n",
    "\n",
    "import matplotlib.pyplot as plt\n",
    "plt.style.use('fivethirtyeight')\n",
    "%matplotlib inline\n",
    "\n",
    "from ipywidgets import interact, interactive, fixed, interact_manual\n",
    "import ipywidgets as widgets"
   ]
  },
  {
   "cell_type": "markdown",
   "metadata": {},
   "source": [
    "## Pea Flowers"
   ]
  },
  {
   "cell_type": "code",
   "execution_count": 3,
   "metadata": {},
   "outputs": [
    {
     "data": {
      "text/plain": [
       "0.008880516684607098"
      ]
     },
     "execution_count": 3,
     "metadata": {},
     "output_type": "execute_result"
    }
   ],
   "source": [
    "null = make_array('Purple', 'Purple', 'Purple', 'White')\n",
    "\n",
    "def test_stat(sample):\n",
    "    proportion_purple = np.count_nonzero(sample == 'Purple') / len(sample)\n",
    "    return abs(proportion_purple - 0.75)\n",
    "\n",
    "total_plants = 929\n",
    "purple = 705\n",
    "observed_statistic = abs(purple / total_plants - 0.75) # 705 were Purple\n",
    "observed_statistic"
   ]
  },
  {
   "cell_type": "code",
   "execution_count": 4,
   "metadata": {
    "collapsed": true
   },
   "outputs": [],
   "source": [
    "# Simulating the test statistic under the null hypothesis\n",
    "repetitions = 5000\n",
    "sampled_stats = make_array()\n",
    "\n",
    "for i in np.arange(repetitions):\n",
    "    new_sample = np.random.choice(null, total_plants)\n",
    "    sampled_stats = np.append(sampled_stats, test_stat(new_sample))"
   ]
  },
  {
   "cell_type": "code",
   "execution_count": 5,
   "metadata": {},
   "outputs": [
    {
     "data": {
      "image/png": "[encoded data removed]",
      "text/plain": [
       "<matplotlib.figure.Figure at 0x7f096c708e10>"
      ]
     },
     "metadata": {},
     "output_type": "display_data"
    }
   ],
   "source": [
    "null_dist = Table().with_column('Distribution of the test statistic under the null hypothesis', sampled_stats)\n",
    "null_dist.hist()\n",
    "_ = plt.plot([observed_statistic, observed_statistic], [0, 60])"
   ]
  },
  {
   "cell_type": "markdown",
   "metadata": {},
   "source": [
    "## P-value"
   ]
  },
  {
   "cell_type": "code",
   "execution_count": 6,
   "metadata": {},
   "outputs": [
    {
     "data": {
      "text/plain": [
       "0.5506"
      ]
     },
     "execution_count": 6,
     "metadata": {},
     "output_type": "execute_result"
    }
   ],
   "source": [
    "# The P-value (an approximation based on the simulation)\n",
    "np.count_nonzero(sampled_stats >= observed_statistic)/repetitions"
   ]
  },
  {
   "cell_type": "markdown",
   "metadata": {
    "collapsed": true
   },
   "source": [
    "## Discussion Question: What Happens If...\n",
    "\n",
    "I remove the absolute value from the test statistic?"
   ]
  },
  {
   "cell_type": "code",
   "execution_count": 7,
   "metadata": {
    "collapsed": true
   },
   "outputs": [],
   "source": [
    "def test_stat(sample):\n",
    "    prop_purple = (np.count_nonzero(sample == 'Purple')\n",
    "                   / len(sample)\n",
    "                   - 0.75)\n",
    "    return prop_purple"
   ]
  },
  {
   "cell_type": "code",
   "execution_count": 8,
   "metadata": {
    "scrolled": true
   },
   "outputs": [
    {
     "data": {
      "image/png": "[encoded data removed]",
      "text/plain": [
       "<matplotlib.figure.Figure at 0x7f096c636438>"
      ]
     },
     "metadata": {},
     "output_type": "display_data"
    }
   ],
   "source": [
    "repetitions = 5000\n",
    "sample_stats = make_array()\n",
    "\n",
    "for i in np.arange(repetitions):\n",
    "    stat = test_stat(np.random.choice(null, total_plants))\n",
    "    sample_stats = np.append(sample_stats, stat)\n",
    "    \n",
    "null_dist = Table().with_columns('Null distribution', sample_stats)\n",
    "null_dist.hist()\n",
    "_ = plt.plot([observed_statistic, observed_statistic], [0, 60])"
   ]
  },
  {
   "cell_type": "markdown",
   "metadata": {},
   "source": [
    "**Test statistic: proportion of purple - 0.75 (no absolute value this time)**"
   ]
  },
  {
   "cell_type": "code",
   "execution_count": 10,
   "metadata": {},
   "outputs": [
    {
     "data": {
      "text/plain": [
       "0.2864"
      ]
     },
     "execution_count": 10,
     "metadata": {},
     "output_type": "execute_result"
    }
   ],
   "source": [
    "np.count_nonzero(sample_stats >= observed_statistic) / len(sample_stats)\n",
    "# the previous p-value was around 0.54. Why is it different this time?"
   ]
  },
  {
   "cell_type": "code",
   "execution_count": null,
   "metadata": {
    "collapsed": true
   },
   "outputs": [],
   "source": []
  },
  {
   "cell_type": "code",
   "execution_count": null,
   "metadata": {
    "collapsed": true
   },
   "outputs": [],
   "source": []
  },
  {
   "cell_type": "code",
   "execution_count": null,
   "metadata": {
    "collapsed": true
   },
   "outputs": [],
   "source": []
  },
  {
   "cell_type": "code",
   "execution_count": null,
   "metadata": {
    "collapsed": true
   },
   "outputs": [],
   "source": []
  },
  {
   "cell_type": "code",
   "execution_count": null,
   "metadata": {
    "collapsed": true
   },
   "outputs": [],
   "source": []
  },
  {
   "cell_type": "markdown",
   "metadata": {},
   "source": [
    "## Another One\n",
    "\n",
    "What if my test statistic is:"
   ]
  },
  {
   "cell_type": "code",
   "execution_count": null,
   "metadata": {
    "collapsed": true
   },
   "outputs": [],
   "source": [
    "def test_stat(sample):\n",
    "    ..."
   ]
  },
  {
   "cell_type": "code",
   "execution_count": null,
   "metadata": {
    "collapsed": true
   },
   "outputs": [],
   "source": [
    "repetitions = 5000\n",
    "sample_stats = make_array()\n",
    "\n",
    "for i in np.arange(repetitions):\n",
    "    stat = test_stat(np.random.choice(null, total_plants))\n",
    "    sample_stats = np.append(sample_stats, stat)\n",
    "    \n",
    "null_dist = Table().with_columns('Null distribution', sample_stats)\n",
    "null_dist.hist()\n",
    "_ = plt.plot([observed_statistic, observed_statistic], [0, 60])"
   ]
  },
  {
   "cell_type": "code",
   "execution_count": null,
   "metadata": {
    "collapsed": true
   },
   "outputs": [],
   "source": []
  }
 ],
 "metadata": {
  "kernelspec": {
   "display_name": "Python 3",
   "language": "python",
   "name": "python3"
  },
  "language_info": {
   "codemirror_mode": {
    "name": "ipython",
    "version": 3
   },
   "file_extension": ".py",
   "mimetype": "text/x-python",
   "name": "python",
   "nbconvert_exporter": "python",
   "pygments_lexer": "ipython3",
   "version": "3.5.3"
  }
 },
 "nbformat": 4,
 "nbformat_minor": 2
}
