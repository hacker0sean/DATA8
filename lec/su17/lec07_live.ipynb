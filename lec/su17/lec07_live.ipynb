{
 "cells": [
  {
   "cell_type": "markdown",
   "metadata": {},
   "source": [
    "## Review\n",
    "\n"
   ]
  },
  {
   "cell_type": "code",
   "execution_count": 5,
   "metadata": {
    "collapsed": true
   },
   "outputs": [],
   "source": [
    "import numpy as np\n",
    "from datascience import *\n",
    "%matplotlib inline\n",
    "np.set_printoptions(threshold=50)"
   ]
  },
  {
   "cell_type": "code",
   "execution_count": 6,
   "metadata": {},
   "outputs": [
    {
     "data": {
      "text/html": [
       "<table border=\"1\" class=\"dataframe\">\n",
       "    <thead>\n",
       "        <tr>\n",
       "            <th>PLAYER</th> <th>POSITION</th> <th>SALARY</th>\n",
       "        </tr>\n",
       "    </thead>\n",
       "    <tbody>\n",
       "        <tr>\n",
       "            <td>Paul Millsap    </td> <td>PF      </td> <td>18.6717</td>\n",
       "        </tr>\n",
       "    </tbody>\n",
       "        <tr>\n",
       "            <td>Al Horford      </td> <td>C       </td> <td>12     </td>\n",
       "        </tr>\n",
       "    </tbody>\n",
       "        <tr>\n",
       "            <td>Tiago Splitter  </td> <td>C       </td> <td>9.75625</td>\n",
       "        </tr>\n",
       "    </tbody>\n",
       "        <tr>\n",
       "            <td>Jeff Teague     </td> <td>PG      </td> <td>8      </td>\n",
       "        </tr>\n",
       "    </tbody>\n",
       "        <tr>\n",
       "            <td>Kyle Korver     </td> <td>SG      </td> <td>5.74648</td>\n",
       "        </tr>\n",
       "    </tbody>\n",
       "        <tr>\n",
       "            <td>Thabo Sefolosha </td> <td>SF      </td> <td>4      </td>\n",
       "        </tr>\n",
       "    </tbody>\n",
       "        <tr>\n",
       "            <td>Mike Scott      </td> <td>PF      </td> <td>3.33333</td>\n",
       "        </tr>\n",
       "    </tbody>\n",
       "        <tr>\n",
       "            <td>Kent Bazemore   </td> <td>SF      </td> <td>2      </td>\n",
       "        </tr>\n",
       "    </tbody>\n",
       "        <tr>\n",
       "            <td>Dennis Schroder </td> <td>PG      </td> <td>1.7634 </td>\n",
       "        </tr>\n",
       "    </tbody>\n",
       "        <tr>\n",
       "            <td>Tim Hardaway Jr.</td> <td>SG      </td> <td>1.30452</td>\n",
       "        </tr>\n",
       "    </tbody>\n",
       "</table>\n",
       "<p>... (407 rows omitted)</p"
      ],
      "text/plain": [
       "PLAYER           | POSITION | SALARY\n",
       "Paul Millsap     | PF       | 18.6717\n",
       "Al Horford       | C        | 12\n",
       "Tiago Splitter   | C        | 9.75625\n",
       "Jeff Teague      | PG       | 8\n",
       "Kyle Korver      | SG       | 5.74648\n",
       "Thabo Sefolosha  | SF       | 4\n",
       "Mike Scott       | PF       | 3.33333\n",
       "Kent Bazemore    | SF       | 2\n",
       "Dennis Schroder  | PG       | 1.7634\n",
       "Tim Hardaway Jr. | SG       | 1.30452\n",
       "... (407 rows omitted)"
      ]
     },
     "execution_count": 6,
     "metadata": {},
     "output_type": "execute_result"
    }
   ],
   "source": [
    "# This table can be found online: https://www.statcrunch.com/app/index.php?dataid=1843341\n",
    "nba = Table.read_table('http://inferentialthinking.com/notebooks/nba_salaries.csv').relabeled(3, 'SALARY').drop(2)\n",
    "nba"
   ]
  },
  {
   "cell_type": "code",
   "execution_count": 10,
   "metadata": {},
   "outputs": [
    {
     "data": {
      "text/plain": [
       "array(['Derrick Rose', 'Kyrie Irving', 'Chris Paul', 'Russell Westbrook',\n",
       "       'John Wall'], \n",
       "      dtype='<U24')"
      ]
     },
     "execution_count": 10,
     "metadata": {},
     "output_type": "execute_result"
    }
   ],
   "source": [
    "nba.where(1, 'PG').where(2, are.above_or_equal_to(15)).column(0)"
   ]
  },
  {
   "cell_type": "code",
   "execution_count": 11,
   "metadata": {},
   "outputs": [
    {
     "data": {
      "text/html": [
       "<table border=\"1\" class=\"dataframe\">\n",
       "    <thead>\n",
       "        <tr>\n",
       "            <th>PLAYER</th> <th>POSITION</th> <th>SALARY</th>\n",
       "        </tr>\n",
       "    </thead>\n",
       "    <tbody>\n",
       "        <tr>\n",
       "            <td>Joffrey Lauvergne</td> <td>C       </td> <td>1.70972</td>\n",
       "        </tr>\n",
       "    </tbody>\n",
       "</table>"
      ],
      "text/plain": [
       "PLAYER            | POSITION | SALARY\n",
       "Joffrey Lauvergne | C        | 1.70972"
      ]
     },
     "execution_count": 11,
     "metadata": {},
     "output_type": "execute_result"
    }
   ],
   "source": [
    "nba.with_row(['Sam Lau', 'Mascot', 100.0])\n",
    "nba.where('PLAYER', are.containing('Lau'))"
   ]
  },
  {
   "cell_type": "markdown",
   "metadata": {},
   "source": [
    "## Population and Age"
   ]
  },
  {
   "cell_type": "code",
   "execution_count": 12,
   "metadata": {},
   "outputs": [
    {
     "data": {
      "text/html": [
       "<table border=\"1\" class=\"dataframe\">\n",
       "    <thead>\n",
       "        <tr>\n",
       "            <th>SEX</th> <th>AGE</th> <th>CENSUS2010POP</th> <th>ESTIMATESBASE2010</th> <th>POPESTIMATE2010</th> <th>POPESTIMATE2011</th> <th>POPESTIMATE2012</th> <th>POPESTIMATE2013</th> <th>POPESTIMATE2014</th> <th>POPESTIMATE2015</th>\n",
       "        </tr>\n",
       "    </thead>\n",
       "    <tbody>\n",
       "        <tr>\n",
       "            <td>0   </td> <td>0   </td> <td>3944153      </td> <td>3944160          </td> <td>3951330        </td> <td>3963087        </td> <td>3926540        </td> <td>3931141        </td> <td>3949775        </td> <td>3978038        </td>\n",
       "        </tr>\n",
       "    </tbody>\n",
       "        <tr>\n",
       "            <td>0   </td> <td>1   </td> <td>3978070      </td> <td>3978090          </td> <td>3957888        </td> <td>3966551        </td> <td>3977939        </td> <td>3942872        </td> <td>3949776        </td> <td>3968564        </td>\n",
       "        </tr>\n",
       "    </tbody>\n",
       "        <tr>\n",
       "            <td>0   </td> <td>2   </td> <td>4096929      </td> <td>4096939          </td> <td>4090862        </td> <td>3971565        </td> <td>3980095        </td> <td>3992720        </td> <td>3959664        </td> <td>3966583        </td>\n",
       "        </tr>\n",
       "    </tbody>\n",
       "        <tr>\n",
       "            <td>0   </td> <td>3   </td> <td>4119040      </td> <td>4119051          </td> <td>4111920        </td> <td>4102470        </td> <td>3983157        </td> <td>3992734        </td> <td>4007079        </td> <td>3974061        </td>\n",
       "        </tr>\n",
       "    </tbody>\n",
       "        <tr>\n",
       "            <td>0   </td> <td>4   </td> <td>4063170      </td> <td>4063186          </td> <td>4077551        </td> <td>4122294        </td> <td>4112849        </td> <td>3994449        </td> <td>4005716        </td> <td>4020035        </td>\n",
       "        </tr>\n",
       "    </tbody>\n",
       "        <tr>\n",
       "            <td>0   </td> <td>5   </td> <td>4056858      </td> <td>4056872          </td> <td>4064653        </td> <td>4087709        </td> <td>4132242        </td> <td>4123626        </td> <td>4006900        </td> <td>4018158        </td>\n",
       "        </tr>\n",
       "    </tbody>\n",
       "        <tr>\n",
       "            <td>0   </td> <td>6   </td> <td>4066381      </td> <td>4066412          </td> <td>4073013        </td> <td>4074993        </td> <td>4097605        </td> <td>4142916        </td> <td>4135930        </td> <td>4019207        </td>\n",
       "        </tr>\n",
       "    </tbody>\n",
       "        <tr>\n",
       "            <td>0   </td> <td>7   </td> <td>4030579      </td> <td>4030594          </td> <td>4043046        </td> <td>4083225        </td> <td>4084913        </td> <td>4108349        </td> <td>4155326        </td> <td>4148360        </td>\n",
       "        </tr>\n",
       "    </tbody>\n",
       "        <tr>\n",
       "            <td>0   </td> <td>8   </td> <td>4046486      </td> <td>4046497          </td> <td>4025604        </td> <td>4053203        </td> <td>4093177        </td> <td>4095711        </td> <td>4120903        </td> <td>4167887        </td>\n",
       "        </tr>\n",
       "    </tbody>\n",
       "        <tr>\n",
       "            <td>0   </td> <td>9   </td> <td>4148353      </td> <td>4148369          </td> <td>4125415        </td> <td>4035710        </td> <td>4063152        </td> <td>4104072        </td> <td>4108349        </td> <td>4133564        </td>\n",
       "        </tr>\n",
       "    </tbody>\n",
       "</table>\n",
       "<p>... (296 rows omitted)</p"
      ],
      "text/plain": [
       "SEX  | AGE  | CENSUS2010POP | ESTIMATESBASE2010 | POPESTIMATE2010 | POPESTIMATE2011 | POPESTIMATE2012 | POPESTIMATE2013 | POPESTIMATE2014 | POPESTIMATE2015\n",
       "0    | 0    | 3944153       | 3944160           | 3951330         | 3963087         | 3926540         | 3931141         | 3949775         | 3978038\n",
       "0    | 1    | 3978070       | 3978090           | 3957888         | 3966551         | 3977939         | 3942872         | 3949776         | 3968564\n",
       "0    | 2    | 4096929       | 4096939           | 4090862         | 3971565         | 3980095         | 3992720         | 3959664         | 3966583\n",
       "0    | 3    | 4119040       | 4119051           | 4111920         | 4102470         | 3983157         | 3992734         | 4007079         | 3974061\n",
       "0    | 4    | 4063170       | 4063186           | 4077551         | 4122294         | 4112849         | 3994449         | 4005716         | 4020035\n",
       "0    | 5    | 4056858       | 4056872           | 4064653         | 4087709         | 4132242         | 4123626         | 4006900         | 4018158\n",
       "0    | 6    | 4066381       | 4066412           | 4073013         | 4074993         | 4097605         | 4142916         | 4135930         | 4019207\n",
       "0    | 7    | 4030579       | 4030594           | 4043046         | 4083225         | 4084913         | 4108349         | 4155326         | 4148360\n",
       "0    | 8    | 4046486       | 4046497           | 4025604         | 4053203         | 4093177         | 4095711         | 4120903         | 4167887\n",
       "0    | 9    | 4148353       | 4148369           | 4125415         | 4035710         | 4063152         | 4104072         | 4108349         | 4133564\n",
       "... (296 rows omitted)"
      ]
     },
     "execution_count": 12,
     "metadata": {},
     "output_type": "execute_result"
    }
   ],
   "source": [
    "# As of Jan 2017, this census file is online here: \n",
    "data = 'http://www2.census.gov/programs-surveys/popest/datasets/2010-2015/national/asrh/nc-est2015-agesex-res.csv'\n",
    "\n",
    "# A copy can be accessed here in case census.gov moves the file:\n",
    "# data = 'http://inferentialthinking.com/notebooks/nc-est2015-agesex-res.csv'\n",
    "\n",
    "full_census_table = Table.read_table(data)\n",
    "full_census_table"
   ]
  },
  {
   "cell_type": "code",
   "execution_count": 13,
   "metadata": {},
   "outputs": [
    {
     "data": {
      "text/html": [
       "<table border=\"1\" class=\"dataframe\">\n",
       "    <thead>\n",
       "        <tr>\n",
       "            <th>SEX</th> <th>AGE</th> <th>POPESTIMATE2010</th> <th>POPESTIMATE2015</th>\n",
       "        </tr>\n",
       "    </thead>\n",
       "    <tbody>\n",
       "        <tr>\n",
       "            <td>0   </td> <td>0   </td> <td>3951330        </td> <td>3978038        </td>\n",
       "        </tr>\n",
       "    </tbody>\n",
       "        <tr>\n",
       "            <td>0   </td> <td>1   </td> <td>3957888        </td> <td>3968564        </td>\n",
       "        </tr>\n",
       "    </tbody>\n",
       "        <tr>\n",
       "            <td>0   </td> <td>2   </td> <td>4090862        </td> <td>3966583        </td>\n",
       "        </tr>\n",
       "    </tbody>\n",
       "        <tr>\n",
       "            <td>0   </td> <td>3   </td> <td>4111920        </td> <td>3974061        </td>\n",
       "        </tr>\n",
       "    </tbody>\n",
       "        <tr>\n",
       "            <td>0   </td> <td>4   </td> <td>4077551        </td> <td>4020035        </td>\n",
       "        </tr>\n",
       "    </tbody>\n",
       "        <tr>\n",
       "            <td>0   </td> <td>5   </td> <td>4064653        </td> <td>4018158        </td>\n",
       "        </tr>\n",
       "    </tbody>\n",
       "        <tr>\n",
       "            <td>0   </td> <td>6   </td> <td>4073013        </td> <td>4019207        </td>\n",
       "        </tr>\n",
       "    </tbody>\n",
       "        <tr>\n",
       "            <td>0   </td> <td>7   </td> <td>4043046        </td> <td>4148360        </td>\n",
       "        </tr>\n",
       "    </tbody>\n",
       "        <tr>\n",
       "            <td>0   </td> <td>8   </td> <td>4025604        </td> <td>4167887        </td>\n",
       "        </tr>\n",
       "    </tbody>\n",
       "        <tr>\n",
       "            <td>0   </td> <td>9   </td> <td>4125415        </td> <td>4133564        </td>\n",
       "        </tr>\n",
       "    </tbody>\n",
       "</table>\n",
       "<p>... (296 rows omitted)</p"
      ],
      "text/plain": [
       "SEX  | AGE  | POPESTIMATE2010 | POPESTIMATE2015\n",
       "0    | 0    | 3951330         | 3978038\n",
       "0    | 1    | 3957888         | 3968564\n",
       "0    | 2    | 4090862         | 3966583\n",
       "0    | 3    | 4111920         | 3974061\n",
       "0    | 4    | 4077551         | 4020035\n",
       "0    | 5    | 4064653         | 4018158\n",
       "0    | 6    | 4073013         | 4019207\n",
       "0    | 7    | 4043046         | 4148360\n",
       "0    | 8    | 4025604         | 4167887\n",
       "0    | 9    | 4125415         | 4133564\n",
       "... (296 rows omitted)"
      ]
     },
     "execution_count": 13,
     "metadata": {},
     "output_type": "execute_result"
    }
   ],
   "source": [
    "partial = full_census_table.select('SEX', 'AGE', 'POPESTIMATE2010', 'POPESTIMATE2015')\n",
    "partial"
   ]
  },
  {
   "cell_type": "code",
   "execution_count": 14,
   "metadata": {},
   "outputs": [
    {
     "data": {
      "text/html": [
       "<table border=\"1\" class=\"dataframe\">\n",
       "    <thead>\n",
       "        <tr>\n",
       "            <th>SEX</th> <th>AGE</th> <th>2010</th> <th>2015</th>\n",
       "        </tr>\n",
       "    </thead>\n",
       "    <tbody>\n",
       "        <tr>\n",
       "            <td>0   </td> <td>0   </td> <td>3951330</td> <td>3978038</td>\n",
       "        </tr>\n",
       "    </tbody>\n",
       "        <tr>\n",
       "            <td>0   </td> <td>1   </td> <td>3957888</td> <td>3968564</td>\n",
       "        </tr>\n",
       "    </tbody>\n",
       "        <tr>\n",
       "            <td>0   </td> <td>2   </td> <td>4090862</td> <td>3966583</td>\n",
       "        </tr>\n",
       "    </tbody>\n",
       "        <tr>\n",
       "            <td>0   </td> <td>3   </td> <td>4111920</td> <td>3974061</td>\n",
       "        </tr>\n",
       "    </tbody>\n",
       "        <tr>\n",
       "            <td>0   </td> <td>4   </td> <td>4077551</td> <td>4020035</td>\n",
       "        </tr>\n",
       "    </tbody>\n",
       "        <tr>\n",
       "            <td>0   </td> <td>5   </td> <td>4064653</td> <td>4018158</td>\n",
       "        </tr>\n",
       "    </tbody>\n",
       "        <tr>\n",
       "            <td>0   </td> <td>6   </td> <td>4073013</td> <td>4019207</td>\n",
       "        </tr>\n",
       "    </tbody>\n",
       "        <tr>\n",
       "            <td>0   </td> <td>7   </td> <td>4043046</td> <td>4148360</td>\n",
       "        </tr>\n",
       "    </tbody>\n",
       "        <tr>\n",
       "            <td>0   </td> <td>8   </td> <td>4025604</td> <td>4167887</td>\n",
       "        </tr>\n",
       "    </tbody>\n",
       "        <tr>\n",
       "            <td>0   </td> <td>9   </td> <td>4125415</td> <td>4133564</td>\n",
       "        </tr>\n",
       "    </tbody>\n",
       "</table>\n",
       "<p>... (296 rows omitted)</p"
      ],
      "text/plain": [
       "SEX  | AGE  | 2010    | 2015\n",
       "0    | 0    | 3951330 | 3978038\n",
       "0    | 1    | 3957888 | 3968564\n",
       "0    | 2    | 4090862 | 3966583\n",
       "0    | 3    | 4111920 | 3974061\n",
       "0    | 4    | 4077551 | 4020035\n",
       "0    | 5    | 4064653 | 4018158\n",
       "0    | 6    | 4073013 | 4019207\n",
       "0    | 7    | 4043046 | 4148360\n",
       "0    | 8    | 4025604 | 4167887\n",
       "0    | 9    | 4125415 | 4133564\n",
       "... (296 rows omitted)"
      ]
     },
     "execution_count": 14,
     "metadata": {},
     "output_type": "execute_result"
    }
   ],
   "source": [
    "us_pop = partial.relabeled('POPESTIMATE2010', '2010').relabeled('POPESTIMATE2015', '2015')\n",
    "us_pop"
   ]
  },
  {
   "cell_type": "code",
   "execution_count": 15,
   "metadata": {},
   "outputs": [
    {
     "data": {
      "text/plain": [
       "array([  3951330,   3957888,   4090862, ...,     26074,     45058,\n",
       "       157258820])"
      ]
     },
     "execution_count": 15,
     "metadata": {},
     "output_type": "execute_result"
    }
   ],
   "source": [
    "us_pop.column('2010')"
   ]
  },
  {
   "cell_type": "code",
   "execution_count": 17,
   "metadata": {},
   "outputs": [
    {
     "data": {
      "text/plain": [
       "array([  26708,   10676, -124279, ...,    7990,   16828, 5930703])"
      ]
     },
     "execution_count": 17,
     "metadata": {},
     "output_type": "execute_result"
    }
   ],
   "source": [
    "us_pop.column('2015') - us_pop.column('2010')"
   ]
  },
  {
   "cell_type": "code",
   "execution_count": 20,
   "metadata": {},
   "outputs": [
    {
     "data": {
      "text/html": [
       "<table border=\"1\" class=\"dataframe\">\n",
       "    <thead>\n",
       "        <tr>\n",
       "            <th>SEX</th> <th>AGE</th> <th>2010</th> <th>2015</th> <th>Change</th> <th>Percent Change</th>\n",
       "        </tr>\n",
       "    </thead>\n",
       "    <tbody>\n",
       "        <tr>\n",
       "            <td>0   </td> <td>0   </td> <td>3951330</td> <td>3978038</td> <td>26708  </td> <td>0.68%         </td>\n",
       "        </tr>\n",
       "    </tbody>\n",
       "        <tr>\n",
       "            <td>0   </td> <td>1   </td> <td>3957888</td> <td>3968564</td> <td>10676  </td> <td>0.27%         </td>\n",
       "        </tr>\n",
       "    </tbody>\n",
       "        <tr>\n",
       "            <td>0   </td> <td>2   </td> <td>4090862</td> <td>3966583</td> <td>-124279</td> <td>-3.04%        </td>\n",
       "        </tr>\n",
       "    </tbody>\n",
       "        <tr>\n",
       "            <td>0   </td> <td>3   </td> <td>4111920</td> <td>3974061</td> <td>-137859</td> <td>-3.35%        </td>\n",
       "        </tr>\n",
       "    </tbody>\n",
       "        <tr>\n",
       "            <td>0   </td> <td>4   </td> <td>4077551</td> <td>4020035</td> <td>-57516 </td> <td>-1.41%        </td>\n",
       "        </tr>\n",
       "    </tbody>\n",
       "        <tr>\n",
       "            <td>0   </td> <td>5   </td> <td>4064653</td> <td>4018158</td> <td>-46495 </td> <td>-1.14%        </td>\n",
       "        </tr>\n",
       "    </tbody>\n",
       "        <tr>\n",
       "            <td>0   </td> <td>6   </td> <td>4073013</td> <td>4019207</td> <td>-53806 </td> <td>-1.32%        </td>\n",
       "        </tr>\n",
       "    </tbody>\n",
       "        <tr>\n",
       "            <td>0   </td> <td>7   </td> <td>4043046</td> <td>4148360</td> <td>105314 </td> <td>2.60%         </td>\n",
       "        </tr>\n",
       "    </tbody>\n",
       "        <tr>\n",
       "            <td>0   </td> <td>8   </td> <td>4025604</td> <td>4167887</td> <td>142283 </td> <td>3.53%         </td>\n",
       "        </tr>\n",
       "    </tbody>\n",
       "        <tr>\n",
       "            <td>0   </td> <td>9   </td> <td>4125415</td> <td>4133564</td> <td>8149   </td> <td>0.20%         </td>\n",
       "        </tr>\n",
       "    </tbody>\n",
       "</table>\n",
       "<p>... (296 rows omitted)</p"
      ],
      "text/plain": [
       "SEX  | AGE  | 2010    | 2015    | Change  | Percent Change\n",
       "0    | 0    | 3951330 | 3978038 | 26708   | 0.68%\n",
       "0    | 1    | 3957888 | 3968564 | 10676   | 0.27%\n",
       "0    | 2    | 4090862 | 3966583 | -124279 | -3.04%\n",
       "0    | 3    | 4111920 | 3974061 | -137859 | -3.35%\n",
       "0    | 4    | 4077551 | 4020035 | -57516  | -1.41%\n",
       "0    | 5    | 4064653 | 4018158 | -46495  | -1.14%\n",
       "0    | 6    | 4073013 | 4019207 | -53806  | -1.32%\n",
       "0    | 7    | 4043046 | 4148360 | 105314  | 2.60%\n",
       "0    | 8    | 4025604 | 4167887 | 142283  | 3.53%\n",
       "0    | 9    | 4125415 | 4133564 | 8149    | 0.20%\n",
       "... (296 rows omitted)"
      ]
     },
     "execution_count": 20,
     "metadata": {},
     "output_type": "execute_result"
    }
   ],
   "source": [
    "change = us_pop.column('2015') - us_pop.column('2010')\n",
    "census = us_pop.with_columns(\n",
    "    'Change', change,\n",
    "    'Percent Change', change / us_pop.column('2010'),\n",
    ")\n",
    "census.set_format('Percent Change', PercentFormatter)"
   ]
  },
  {
   "cell_type": "code",
   "execution_count": 23,
   "metadata": {},
   "outputs": [
    {
     "data": {
      "text/html": [
       "<table border=\"1\" class=\"dataframe\">\n",
       "    <thead>\n",
       "        <tr>\n",
       "            <th>SEX</th> <th>AGE</th> <th>2010</th> <th>2015</th> <th>Change</th> <th>Percent Change</th>\n",
       "        </tr>\n",
       "    </thead>\n",
       "    <tbody>\n",
       "        <tr>\n",
       "            <td>0   </td> <td>999 </td> <td>309346863</td> <td>321418820</td> <td>12071957</td> <td>3.90%         </td>\n",
       "        </tr>\n",
       "    </tbody>\n",
       "        <tr>\n",
       "            <td>1   </td> <td>999 </td> <td>152088043</td> <td>158229297</td> <td>6141254 </td> <td>4.04%         </td>\n",
       "        </tr>\n",
       "    </tbody>\n",
       "        <tr>\n",
       "            <td>2   </td> <td>999 </td> <td>157258820</td> <td>163189523</td> <td>5930703 </td> <td>3.77%         </td>\n",
       "        </tr>\n",
       "    </tbody>\n",
       "        <tr>\n",
       "            <td>0   </td> <td>68  </td> <td>2359816  </td> <td>3436357  </td> <td>1076541 </td> <td>45.62%        </td>\n",
       "        </tr>\n",
       "    </tbody>\n",
       "        <tr>\n",
       "            <td>0   </td> <td>64  </td> <td>2706055  </td> <td>3536156  </td> <td>830101  </td> <td>30.68%        </td>\n",
       "        </tr>\n",
       "    </tbody>\n",
       "        <tr>\n",
       "            <td>0   </td> <td>65  </td> <td>2678525  </td> <td>3450043  </td> <td>771518  </td> <td>28.80%        </td>\n",
       "        </tr>\n",
       "    </tbody>\n",
       "        <tr>\n",
       "            <td>0   </td> <td>66  </td> <td>2621335  </td> <td>3344134  </td> <td>722799  </td> <td>27.57%        </td>\n",
       "        </tr>\n",
       "    </tbody>\n",
       "        <tr>\n",
       "            <td>0   </td> <td>67  </td> <td>2693707  </td> <td>3304187  </td> <td>610480  </td> <td>22.66%        </td>\n",
       "        </tr>\n",
       "    </tbody>\n",
       "        <tr>\n",
       "            <td>0   </td> <td>72  </td> <td>1883820  </td> <td>2469605  </td> <td>585785  </td> <td>31.10%        </td>\n",
       "        </tr>\n",
       "    </tbody>\n",
       "        <tr>\n",
       "            <td>2   </td> <td>68  </td> <td>1254117  </td> <td>1812428  </td> <td>558311  </td> <td>44.52%        </td>\n",
       "        </tr>\n",
       "    </tbody>\n",
       "</table>\n",
       "<p>... (296 rows omitted)</p"
      ],
      "text/plain": [
       "SEX  | AGE  | 2010      | 2015      | Change   | Percent Change\n",
       "0    | 999  | 309346863 | 321418820 | 12071957 | 3.90%\n",
       "1    | 999  | 152088043 | 158229297 | 6141254  | 4.04%\n",
       "2    | 999  | 157258820 | 163189523 | 5930703  | 3.77%\n",
       "0    | 68   | 2359816   | 3436357   | 1076541  | 45.62%\n",
       "0    | 64   | 2706055   | 3536156   | 830101   | 30.68%\n",
       "0    | 65   | 2678525   | 3450043   | 771518   | 28.80%\n",
       "0    | 66   | 2621335   | 3344134   | 722799   | 27.57%\n",
       "0    | 67   | 2693707   | 3304187   | 610480   | 22.66%\n",
       "0    | 72   | 1883820   | 2469605   | 585785   | 31.10%\n",
       "2    | 68   | 1254117   | 1812428   | 558311   | 44.52%\n",
       "... (296 rows omitted)"
      ]
     },
     "execution_count": 23,
     "metadata": {},
     "output_type": "execute_result"
    }
   ],
   "source": [
    "census.sort('Change', descending=True)"
   ]
  },
  {
   "cell_type": "code",
   "execution_count": 29,
   "metadata": {},
   "outputs": [
    {
     "data": {
      "text/plain": [
       "0.007685750230353783"
      ]
     },
     "execution_count": 29,
     "metadata": {},
     "output_type": "execute_result"
    }
   ],
   "source": [
    "# What is the growth rate each year if we assume exponential growth?\n",
    "(321418820 / 309346863) ** (1/5) - 1"
   ]
  },
  {
   "cell_type": "code",
   "execution_count": 35,
   "metadata": {},
   "outputs": [
    {
     "data": {
      "text/plain": [
       "0.0076857502303537828"
      ]
     },
     "execution_count": 35,
     "metadata": {},
     "output_type": "execute_result"
    }
   ],
   "source": [
    "everyone = census.sort('Change', descending=True).row(0)\n",
    "(everyone.item(3) / everyone.item(2)) ** (1/5) - 1"
   ]
  },
  {
   "cell_type": "code",
   "execution_count": 36,
   "metadata": {},
   "outputs": [
    {
     "data": {
      "text/html": [
       "<table border=\"1\" class=\"dataframe\">\n",
       "    <thead>\n",
       "        <tr>\n",
       "            <th>SEX</th> <th>AGE</th> <th>2010</th> <th>2015</th> <th>Change</th> <th>Percent Change</th>\n",
       "        </tr>\n",
       "    </thead>\n",
       "    <tbody>\n",
       "        <tr>\n",
       "            <td>0   </td> <td>999 </td> <td>309346863</td> <td>321418820</td> <td>12071957</td> <td>3.90%         </td>\n",
       "        </tr>\n",
       "    </tbody>\n",
       "        <tr>\n",
       "            <td>1   </td> <td>999 </td> <td>152088043</td> <td>158229297</td> <td>6141254 </td> <td>4.04%         </td>\n",
       "        </tr>\n",
       "    </tbody>\n",
       "        <tr>\n",
       "            <td>2   </td> <td>999 </td> <td>157258820</td> <td>163189523</td> <td>5930703 </td> <td>3.77%         </td>\n",
       "        </tr>\n",
       "    </tbody>\n",
       "        <tr>\n",
       "            <td>0   </td> <td>68  </td> <td>2359816  </td> <td>3436357  </td> <td>1076541 </td> <td>45.62%        </td>\n",
       "        </tr>\n",
       "    </tbody>\n",
       "        <tr>\n",
       "            <td>0   </td> <td>64  </td> <td>2706055  </td> <td>3536156  </td> <td>830101  </td> <td>30.68%        </td>\n",
       "        </tr>\n",
       "    </tbody>\n",
       "        <tr>\n",
       "            <td>0   </td> <td>65  </td> <td>2678525  </td> <td>3450043  </td> <td>771518  </td> <td>28.80%        </td>\n",
       "        </tr>\n",
       "    </tbody>\n",
       "        <tr>\n",
       "            <td>0   </td> <td>66  </td> <td>2621335  </td> <td>3344134  </td> <td>722799  </td> <td>27.57%        </td>\n",
       "        </tr>\n",
       "    </tbody>\n",
       "        <tr>\n",
       "            <td>0   </td> <td>67  </td> <td>2693707  </td> <td>3304187  </td> <td>610480  </td> <td>22.66%        </td>\n",
       "        </tr>\n",
       "    </tbody>\n",
       "        <tr>\n",
       "            <td>0   </td> <td>72  </td> <td>1883820  </td> <td>2469605  </td> <td>585785  </td> <td>31.10%        </td>\n",
       "        </tr>\n",
       "    </tbody>\n",
       "        <tr>\n",
       "            <td>2   </td> <td>68  </td> <td>1254117  </td> <td>1812428  </td> <td>558311  </td> <td>44.52%        </td>\n",
       "        </tr>\n",
       "    </tbody>\n",
       "</table>\n",
       "<p>... (296 rows omitted)</p"
      ],
      "text/plain": [
       "SEX  | AGE  | 2010      | 2015      | Change   | Percent Change\n",
       "0    | 999  | 309346863 | 321418820 | 12071957 | 3.90%\n",
       "1    | 999  | 152088043 | 158229297 | 6141254  | 4.04%\n",
       "2    | 999  | 157258820 | 163189523 | 5930703  | 3.77%\n",
       "0    | 68   | 2359816   | 3436357   | 1076541  | 45.62%\n",
       "0    | 64   | 2706055   | 3536156   | 830101   | 30.68%\n",
       "0    | 65   | 2678525   | 3450043   | 771518   | 28.80%\n",
       "0    | 66   | 2621335   | 3344134   | 722799   | 27.57%\n",
       "0    | 67   | 2693707   | 3304187   | 610480   | 22.66%\n",
       "0    | 72   | 1883820   | 2469605   | 585785   | 31.10%\n",
       "2    | 68   | 1254117   | 1812428   | 558311   | 44.52%\n",
       "... (296 rows omitted)"
      ]
     },
     "execution_count": 36,
     "metadata": {},
     "output_type": "execute_result"
    }
   ],
   "source": [
    "census.sort('Change', descending=True)"
   ]
  },
  {
   "cell_type": "code",
   "execution_count": 39,
   "metadata": {},
   "outputs": [
    {
     "data": {
      "text/plain": [
       "1942"
      ]
     },
     "execution_count": 39,
     "metadata": {},
     "output_type": "execute_result"
    }
   ],
   "source": [
    "2010 - 68 # 12/7/1941"
   ]
  },
  {
   "cell_type": "code",
   "execution_count": 40,
   "metadata": {},
   "outputs": [
    {
     "data": {
      "text/plain": [
       "1947"
      ]
     },
     "execution_count": 40,
     "metadata": {},
     "output_type": "execute_result"
    }
   ],
   "source": [
    "2015 - 68 # 8/9/1945"
   ]
  },
  {
   "cell_type": "code",
   "execution_count": 42,
   "metadata": {},
   "outputs": [
    {
     "data": {
      "text/html": [
       "<table border=\"1\" class=\"dataframe\">\n",
       "    <thead>\n",
       "        <tr>\n",
       "            <th>SEX</th> <th>AGE</th> <th>2010</th> <th>2015</th>\n",
       "        </tr>\n",
       "    </thead>\n",
       "    <tbody>\n",
       "        <tr>\n",
       "            <td>0   </td> <td>98  </td> <td>47037    </td> <td>61991    </td>\n",
       "        </tr>\n",
       "    </tbody>\n",
       "        <tr>\n",
       "            <td>0   </td> <td>99  </td> <td>32178    </td> <td>43641    </td>\n",
       "        </tr>\n",
       "    </tbody>\n",
       "        <tr>\n",
       "            <td>0   </td> <td>100 </td> <td>54410    </td> <td>76974    </td>\n",
       "        </tr>\n",
       "    </tbody>\n",
       "        <tr>\n",
       "            <td>0   </td> <td>999 </td> <td>309346863</td> <td>321418820</td>\n",
       "        </tr>\n",
       "    </tbody>\n",
       "        <tr>\n",
       "            <td>1   </td> <td>98  </td> <td>9505     </td> <td>14719    </td>\n",
       "        </tr>\n",
       "    </tbody>\n",
       "        <tr>\n",
       "            <td>1   </td> <td>99  </td> <td>6104     </td> <td>9577     </td>\n",
       "        </tr>\n",
       "    </tbody>\n",
       "        <tr>\n",
       "            <td>1   </td> <td>100 </td> <td>9352     </td> <td>15088    </td>\n",
       "        </tr>\n",
       "    </tbody>\n",
       "        <tr>\n",
       "            <td>1   </td> <td>999 </td> <td>152088043</td> <td>158229297</td>\n",
       "        </tr>\n",
       "    </tbody>\n",
       "        <tr>\n",
       "            <td>2   </td> <td>98  </td> <td>37532    </td> <td>47272    </td>\n",
       "        </tr>\n",
       "    </tbody>\n",
       "        <tr>\n",
       "            <td>2   </td> <td>99  </td> <td>26074    </td> <td>34064    </td>\n",
       "        </tr>\n",
       "    </tbody>\n",
       "        <tr>\n",
       "            <td>2   </td> <td>100 </td> <td>45058    </td> <td>61886    </td>\n",
       "        </tr>\n",
       "    </tbody>\n",
       "        <tr>\n",
       "            <td>2   </td> <td>999 </td> <td>157258820</td> <td>163189523</td>\n",
       "        </tr>\n",
       "    </tbody>\n",
       "</table>"
      ],
      "text/plain": [
       "<IPython.core.display.HTML object>"
      ]
     },
     "metadata": {},
     "output_type": "display_data"
    }
   ],
   "source": [
    "us_pop.where('AGE', are.above(97)).show()"
   ]
  },
  {
   "cell_type": "code",
   "execution_count": 44,
   "metadata": {},
   "outputs": [
    {
     "data": {
      "text/html": [
       "<table border=\"1\" class=\"dataframe\">\n",
       "    <thead>\n",
       "        <tr>\n",
       "            <th>SEX</th> <th>AGE</th> <th>2015</th>\n",
       "        </tr>\n",
       "    </thead>\n",
       "    <tbody>\n",
       "        <tr>\n",
       "            <td>0   </td> <td>999 </td> <td>321418820</td>\n",
       "        </tr>\n",
       "    </tbody>\n",
       "        <tr>\n",
       "            <td>1   </td> <td>999 </td> <td>158229297</td>\n",
       "        </tr>\n",
       "    </tbody>\n",
       "        <tr>\n",
       "            <td>2   </td> <td>999 </td> <td>163189523</td>\n",
       "        </tr>\n",
       "    </tbody>\n",
       "</table>"
      ],
      "text/plain": [
       "SEX  | AGE  | 2015\n",
       "0    | 999  | 321418820\n",
       "1    | 999  | 158229297\n",
       "2    | 999  | 163189523"
      ]
     },
     "execution_count": 44,
     "metadata": {},
     "output_type": "execute_result"
    }
   ],
   "source": [
    "us_pop_2015 = us_pop.drop('2010')\n",
    "all_ages = us_pop_2015.where('AGE', 999)\n",
    "all_ages"
   ]
  },
  {
   "cell_type": "code",
   "execution_count": 47,
   "metadata": {},
   "outputs": [
    {
     "data": {
      "text/html": [
       "<table border=\"1\" class=\"dataframe\">\n",
       "    <thead>\n",
       "        <tr>\n",
       "            <th>SEX</th> <th>AGE</th> <th>2015</th> <th>Proportion</th>\n",
       "        </tr>\n",
       "    </thead>\n",
       "    <tbody>\n",
       "        <tr>\n",
       "            <td>0   </td> <td>999 </td> <td>321418820</td> <td>100.00%   </td>\n",
       "        </tr>\n",
       "    </tbody>\n",
       "        <tr>\n",
       "            <td>1   </td> <td>999 </td> <td>158229297</td> <td>49.23%    </td>\n",
       "        </tr>\n",
       "    </tbody>\n",
       "        <tr>\n",
       "            <td>2   </td> <td>999 </td> <td>163189523</td> <td>50.77%    </td>\n",
       "        </tr>\n",
       "    </tbody>\n",
       "</table>"
      ],
      "text/plain": [
       "SEX  | AGE  | 2015      | Proportion\n",
       "0    | 999  | 321418820 | 100.00%\n",
       "1    | 999  | 158229297 | 49.23%\n",
       "2    | 999  | 163189523 | 50.77%"
      ]
     },
     "execution_count": 47,
     "metadata": {},
     "output_type": "execute_result"
    }
   ],
   "source": [
    "total = all_ages.column('2015').item(0)\n",
    "all_ages.with_column(\n",
    "    'Proportion', all_ages.column('2015') / total,\n",
    ").set_format('Proportion', PercentFormatter)"
   ]
  },
  {
   "cell_type": "code",
   "execution_count": 48,
   "metadata": {},
   "outputs": [
    {
     "data": {
      "text/html": [
       "<table border=\"1\" class=\"dataframe\">\n",
       "    <thead>\n",
       "        <tr>\n",
       "            <th>SEX</th> <th>AGE</th> <th>2015</th>\n",
       "        </tr>\n",
       "    </thead>\n",
       "    <tbody>\n",
       "        <tr>\n",
       "            <td>0   </td> <td>0   </td> <td>3978038</td>\n",
       "        </tr>\n",
       "    </tbody>\n",
       "        <tr>\n",
       "            <td>1   </td> <td>0   </td> <td>2035134</td>\n",
       "        </tr>\n",
       "    </tbody>\n",
       "        <tr>\n",
       "            <td>2   </td> <td>0   </td> <td>1942904</td>\n",
       "        </tr>\n",
       "    </tbody>\n",
       "</table>"
      ],
      "text/plain": [
       "SEX  | AGE  | 2015\n",
       "0    | 0    | 3978038\n",
       "1    | 0    | 2035134\n",
       "2    | 0    | 1942904"
      ]
     },
     "execution_count": 48,
     "metadata": {},
     "output_type": "execute_result"
    }
   ],
   "source": [
    "infants = us_pop_2015.where('AGE', 0)\n",
    "infants"
   ]
  },
  {
   "cell_type": "code",
   "execution_count": 50,
   "metadata": {},
   "outputs": [
    {
     "data": {
      "text/html": [
       "<table border=\"1\" class=\"dataframe\">\n",
       "    <thead>\n",
       "        <tr>\n",
       "            <th>SEX</th> <th>AGE</th> <th>2015</th> <th>Proportion</th>\n",
       "        </tr>\n",
       "    </thead>\n",
       "    <tbody>\n",
       "        <tr>\n",
       "            <td>0   </td> <td>0   </td> <td>3978038</td> <td>100.00%   </td>\n",
       "        </tr>\n",
       "    </tbody>\n",
       "        <tr>\n",
       "            <td>1   </td> <td>0   </td> <td>2035134</td> <td>51.16%    </td>\n",
       "        </tr>\n",
       "    </tbody>\n",
       "        <tr>\n",
       "            <td>2   </td> <td>0   </td> <td>1942904</td> <td>48.84%    </td>\n",
       "        </tr>\n",
       "    </tbody>\n",
       "</table>"
      ],
      "text/plain": [
       "SEX  | AGE  | 2015    | Proportion\n",
       "0    | 0    | 3978038 | 100.00%\n",
       "1    | 0    | 2035134 | 51.16%\n",
       "2    | 0    | 1942904 | 48.84%"
      ]
     },
     "execution_count": 50,
     "metadata": {},
     "output_type": "execute_result"
    }
   ],
   "source": [
    "infants.with_column(\n",
    "    'Proportion', infants.column('2015') / infants.column('2015').item(0),\n",
    ").set_format('Proportion', PercentFormatter)"
   ]
  },
  {
   "cell_type": "code",
   "execution_count": null,
   "metadata": {
    "collapsed": true
   },
   "outputs": [],
   "source": []
  }
 ],
 "metadata": {
  "kernelspec": {
   "display_name": "Python 3",
   "language": "python",
   "name": "python3"
  },
  "language_info": {
   "codemirror_mode": {
    "name": "ipython",
    "version": 3
   },
   "file_extension": ".py",
   "mimetype": "text/x-python",
   "name": "python",
   "nbconvert_exporter": "python",
   "pygments_lexer": "ipython3",
   "version": "3.5.3"
  }
 },
 "nbformat": 4,
 "nbformat_minor": 2
}
