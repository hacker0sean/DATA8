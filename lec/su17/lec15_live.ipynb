{
 "cells": [
  {
   "cell_type": "code",
   "execution_count": 1,
   "metadata": {
    "collapsed": true
   },
   "outputs": [],
   "source": [
    "from datascience import *\n",
    "import numpy as np\n",
    "\n",
    "import matplotlib.pyplot as plt\n",
    "plt.style.use('fivethirtyeight')\n",
    "%matplotlib inline"
   ]
  },
  {
   "cell_type": "markdown",
   "metadata": {},
   "source": [
    "## Monty Hall"
   ]
  },
  {
   "cell_type": "markdown",
   "metadata": {},
   "source": [
    "1. Put prizes behind doors randomly\n",
    "2. I pick a door\n",
    "3. Monty opens a door\n",
    "4. Reveal what was behind each door"
   ]
  },
  {
   "cell_type": "markdown",
   "metadata": {},
   "source": [
    "### Step 1: Set up game"
   ]
  },
  {
   "cell_type": "code",
   "execution_count": 2,
   "metadata": {},
   "outputs": [
    {
     "data": {
      "text/plain": [
       "array([1, 2, 3])"
      ]
     },
     "execution_count": 2,
     "metadata": {},
     "output_type": "execute_result"
    }
   ],
   "source": [
    "doors = make_array(1, 2, 3)\n",
    "doors"
   ]
  },
  {
   "cell_type": "code",
   "execution_count": 3,
   "metadata": {},
   "outputs": [
    {
     "data": {
      "text/plain": [
       "array(['car', 'first goat', 'second goat'], \n",
       "      dtype='<U11')"
      ]
     },
     "execution_count": 3,
     "metadata": {},
     "output_type": "execute_result"
    }
   ],
   "source": [
    "prizes = make_array('car', 'first goat', 'second goat')\n",
    "prizes"
   ]
  },
  {
   "cell_type": "code",
   "execution_count": 4,
   "metadata": {},
   "outputs": [
    {
     "data": {
      "text/html": [
       "<table border=\"1\" class=\"dataframe\">\n",
       "    <thead>\n",
       "        <tr>\n",
       "            <th>Door</th> <th>Prize</th>\n",
       "        </tr>\n",
       "    </thead>\n",
       "    <tbody>\n",
       "        <tr>\n",
       "            <td>1   </td> <td>first goat </td>\n",
       "        </tr>\n",
       "    </tbody>\n",
       "        <tr>\n",
       "            <td>2   </td> <td>car        </td>\n",
       "        </tr>\n",
       "    </tbody>\n",
       "        <tr>\n",
       "            <td>3   </td> <td>second goat</td>\n",
       "        </tr>\n",
       "    </tbody>\n",
       "</table>"
      ],
      "text/plain": [
       "Door | Prize\n",
       "1    | first goat\n",
       "2    | car\n",
       "3    | second goat"
      ]
     },
     "execution_count": 4,
     "metadata": {},
     "output_type": "execute_result"
    }
   ],
   "source": [
    "def setup():\n",
    "    \"\"\"Return a random game of Let's Make a Deal.\"\"\"\n",
    "    return Table().with_columns(\n",
    "        'Door', doors,\n",
    "        'Prize', np.random.choice(prizes, 3, replace=False)\n",
    "    )\n",
    "\n",
    "a_game = setup()\n",
    "a_game"
   ]
  },
  {
   "cell_type": "markdown",
   "metadata": {},
   "source": [
    "### Step 2: Pick a door"
   ]
  },
  {
   "cell_type": "code",
   "execution_count": 7,
   "metadata": {},
   "outputs": [
    {
     "data": {
      "text/plain": [
       "3"
      ]
     },
     "execution_count": 7,
     "metadata": {},
     "output_type": "execute_result"
    }
   ],
   "source": [
    "a_guess = np.random.choice(doors)\n",
    "a_guess"
   ]
  },
  {
   "cell_type": "markdown",
   "metadata": {},
   "source": [
    "### Step 3: Monty opens a door"
   ]
  },
  {
   "cell_type": "code",
   "execution_count": 9,
   "metadata": {},
   "outputs": [
    {
     "name": "stdout",
     "output_type": "stream",
     "text": [
      "Behind door number 1 is the first goat\n",
      "Behind door number 2 is the car\n",
      "Behind door number 3 is the second goat\n"
     ]
    }
   ],
   "source": [
    "def behind(game, door):\n",
    "    \"\"\"Return the prize behind a door.\"\"\"\n",
    "    return game.where('Door', door).column('Prize').item(0)\n",
    "\n",
    "for door in doors:\n",
    "    print('Behind door number', door, 'is the', behind(a_game, door))"
   ]
  },
  {
   "cell_type": "code",
   "execution_count": 10,
   "metadata": {},
   "outputs": [
    {
     "name": "stdout",
     "output_type": "stream",
     "text": [
      "The car is behind door number 2\n",
      "The first goat is behind door number 1\n",
      "The second goat is behind door number 3\n"
     ]
    }
   ],
   "source": [
    "def location(game, prize):\n",
    "    \"\"\"Return the door that hides a prize.\"\"\"\n",
    "    return game.where('Prize', prize).column('Door').item(0)\n",
    "\n",
    "for prize in prizes:\n",
    "    print('The', prize, 'is behind door number', location(a_game, prize))"
   ]
  },
  {
   "cell_type": "code",
   "execution_count": 11,
   "metadata": {},
   "outputs": [
    {
     "name": "stdout",
     "output_type": "stream",
     "text": [
      "The contestant picked door 3 which hides the second goat\n",
      "Monty Hall opens door 1 to expose the first goat\n"
     ]
    }
   ],
   "source": [
    "def expose(game, guess):\n",
    "    \"\"\"Return the door that Monty Hall opens to expose a goat.\"\"\"\n",
    "    guessed_prize = behind(game, guess)\n",
    "    if guessed_prize == 'first goat':\n",
    "        reveal = 'second goat'\n",
    "    elif guessed_prize == 'second goat':\n",
    "        reveal = 'first goat'\n",
    "    else:\n",
    "        reveal = np.random.choice(['first goat', 'second goat'])\n",
    "    return location(game, reveal)\n",
    "\n",
    "an_exposed_door = expose(a_game, a_guess)\n",
    "print('The contestant picked door', a_guess, 'which hides the', behind(a_game, a_guess))\n",
    "print('Monty Hall opens door', an_exposed_door, 'to expose the', behind(a_game, an_exposed_door))"
   ]
  },
  {
   "cell_type": "code",
   "execution_count": 12,
   "metadata": {},
   "outputs": [
    {
     "name": "stdout",
     "output_type": "stream",
     "text": [
      "The remaining door 2 hides the car\n"
     ]
    }
   ],
   "source": [
    "def other(game, guess, exposed):\n",
    "    \"\"\"Return the door that is not the guess or the exposed.\"\"\"\n",
    "    return (1 + 2 + 3) - guess - exposed\n",
    "\n",
    "the_remaining_door = other(a_game, a_guess, an_exposed_door)\n",
    "print('The remaining door', the_remaining_door, 'hides the', behind(a_game, the_remaining_door))"
   ]
  },
  {
   "cell_type": "markdown",
   "metadata": {},
   "source": [
    "### Step 4: Reveal all doors, Repeat"
   ]
  },
  {
   "cell_type": "markdown",
   "metadata": {},
   "source": [
    "**Let's simulate one game of the Monty Hall Problem. Create a list where the first element is the prize behind the first guess, the second is the prize behind Monty's exposed door, and the third is the prize behind the remaining door.**"
   ]
  },
  {
   "cell_type": "code",
   "execution_count": 22,
   "metadata": {},
   "outputs": [
    {
     "data": {
      "text/html": [
       "<table border=\"1\" class=\"dataframe\">\n",
       "    <thead>\n",
       "        <tr>\n",
       "            <th>Door</th> <th>Prize</th>\n",
       "        </tr>\n",
       "    </thead>\n",
       "    <tbody>\n",
       "        <tr>\n",
       "            <td>1   </td> <td>second goat</td>\n",
       "        </tr>\n",
       "    </tbody>\n",
       "        <tr>\n",
       "            <td>2   </td> <td>first goat </td>\n",
       "        </tr>\n",
       "    </tbody>\n",
       "        <tr>\n",
       "            <td>3   </td> <td>car        </td>\n",
       "        </tr>\n",
       "    </tbody>\n",
       "</table>"
      ],
      "text/plain": [
       "Door | Prize\n",
       "1    | second goat\n",
       "2    | first goat\n",
       "3    | car"
      ]
     },
     "execution_count": 22,
     "metadata": {},
     "output_type": "execute_result"
    }
   ],
   "source": [
    "game"
   ]
  },
  {
   "cell_type": "code",
   "execution_count": 21,
   "metadata": {},
   "outputs": [
    {
     "data": {
      "text/plain": [
       "['car', 'first goat', 'second goat']"
      ]
     },
     "execution_count": 21,
     "metadata": {},
     "output_type": "execute_result"
    }
   ],
   "source": [
    "game = setup()\n",
    "guess = np.random.choice(doors)\n",
    "exposed = expose(game, guess)\n",
    "remaining = other(game, guess, exposed)\n",
    "[behind(game, guess), behind(game, exposed), behind(game, remaining)]"
   ]
  },
  {
   "cell_type": "code",
   "execution_count": 23,
   "metadata": {
    "collapsed": true
   },
   "outputs": [],
   "source": [
    "trials = Table(['trial', 'guess', 'exposed', 'remaining'])\n",
    "for i in np.arange(10000):\n",
    "    game = setup()\n",
    "    guess = np.random.choice(doors)\n",
    "    exposed = expose(game, guess)\n",
    "    remaining = other(game, guess, exposed)\n",
    "    trials.append([i, behind(game, guess), behind(game, exposed), behind(game, remaining)])"
   ]
  },
  {
   "cell_type": "code",
   "execution_count": 24,
   "metadata": {},
   "outputs": [
    {
     "data": {
      "text/html": [
       "<table border=\"1\" class=\"dataframe\">\n",
       "    <thead>\n",
       "        <tr>\n",
       "            <th>trial</th> <th>guess</th> <th>exposed</th> <th>remaining</th>\n",
       "        </tr>\n",
       "    </thead>\n",
       "    <tbody>\n",
       "        <tr>\n",
       "            <td>0    </td> <td>car        </td> <td>first goat </td> <td>second goat</td>\n",
       "        </tr>\n",
       "    </tbody>\n",
       "        <tr>\n",
       "            <td>1    </td> <td>first goat </td> <td>second goat</td> <td>car        </td>\n",
       "        </tr>\n",
       "    </tbody>\n",
       "        <tr>\n",
       "            <td>2    </td> <td>second goat</td> <td>first goat </td> <td>car        </td>\n",
       "        </tr>\n",
       "    </tbody>\n",
       "        <tr>\n",
       "            <td>3    </td> <td>first goat </td> <td>second goat</td> <td>car        </td>\n",
       "        </tr>\n",
       "    </tbody>\n",
       "        <tr>\n",
       "            <td>4    </td> <td>car        </td> <td>first goat </td> <td>second goat</td>\n",
       "        </tr>\n",
       "    </tbody>\n",
       "        <tr>\n",
       "            <td>5    </td> <td>second goat</td> <td>first goat </td> <td>car        </td>\n",
       "        </tr>\n",
       "    </tbody>\n",
       "        <tr>\n",
       "            <td>6    </td> <td>first goat </td> <td>second goat</td> <td>car        </td>\n",
       "        </tr>\n",
       "    </tbody>\n",
       "        <tr>\n",
       "            <td>7    </td> <td>first goat </td> <td>second goat</td> <td>car        </td>\n",
       "        </tr>\n",
       "    </tbody>\n",
       "        <tr>\n",
       "            <td>8    </td> <td>car        </td> <td>first goat </td> <td>second goat</td>\n",
       "        </tr>\n",
       "    </tbody>\n",
       "        <tr>\n",
       "            <td>9    </td> <td>second goat</td> <td>first goat </td> <td>car        </td>\n",
       "        </tr>\n",
       "    </tbody>\n",
       "</table>\n",
       "<p>... (9990 rows omitted)</p"
      ],
      "text/plain": [
       "trial | guess       | exposed     | remaining\n",
       "0     | car         | first goat  | second goat\n",
       "1     | first goat  | second goat | car\n",
       "2     | second goat | first goat  | car\n",
       "3     | first goat  | second goat | car\n",
       "4     | car         | first goat  | second goat\n",
       "5     | second goat | first goat  | car\n",
       "6     | first goat  | second goat | car\n",
       "7     | first goat  | second goat | car\n",
       "8     | car         | first goat  | second goat\n",
       "9     | second goat | first goat  | car\n",
       "... (9990 rows omitted)"
      ]
     },
     "execution_count": 24,
     "metadata": {},
     "output_type": "execute_result"
    }
   ],
   "source": [
    "trials"
   ]
  },
  {
   "cell_type": "code",
   "execution_count": 25,
   "metadata": {},
   "outputs": [
    {
     "data": {
      "text/html": [
       "<table border=\"1\" class=\"dataframe\">\n",
       "    <thead>\n",
       "        <tr>\n",
       "            <th>guess</th> <th>count</th>\n",
       "        </tr>\n",
       "    </thead>\n",
       "    <tbody>\n",
       "        <tr>\n",
       "            <td>car        </td> <td>3372 </td>\n",
       "        </tr>\n",
       "    </tbody>\n",
       "        <tr>\n",
       "            <td>first goat </td> <td>3324 </td>\n",
       "        </tr>\n",
       "    </tbody>\n",
       "        <tr>\n",
       "            <td>second goat</td> <td>3304 </td>\n",
       "        </tr>\n",
       "    </tbody>\n",
       "</table>"
      ],
      "text/plain": [
       "guess       | count\n",
       "car         | 3372\n",
       "first goat  | 3324\n",
       "second goat | 3304"
      ]
     },
     "execution_count": 25,
     "metadata": {},
     "output_type": "execute_result"
    }
   ],
   "source": [
    "trials.group('guess')"
   ]
  },
  {
   "cell_type": "code",
   "execution_count": 26,
   "metadata": {},
   "outputs": [
    {
     "data": {
      "text/html": [
       "<table border=\"1\" class=\"dataframe\">\n",
       "    <thead>\n",
       "        <tr>\n",
       "            <th>remaining</th> <th>count</th>\n",
       "        </tr>\n",
       "    </thead>\n",
       "    <tbody>\n",
       "        <tr>\n",
       "            <td>car        </td> <td>6628 </td>\n",
       "        </tr>\n",
       "    </tbody>\n",
       "        <tr>\n",
       "            <td>first goat </td> <td>1673 </td>\n",
       "        </tr>\n",
       "    </tbody>\n",
       "        <tr>\n",
       "            <td>second goat</td> <td>1699 </td>\n",
       "        </tr>\n",
       "    </tbody>\n",
       "</table>"
      ],
      "text/plain": [
       "remaining   | count\n",
       "car         | 6628\n",
       "first goat  | 1673\n",
       "second goat | 1699"
      ]
     },
     "execution_count": 26,
     "metadata": {},
     "output_type": "execute_result"
    }
   ],
   "source": [
    "trials.group('remaining')"
   ]
  },
  {
   "cell_type": "code",
   "execution_count": 30,
   "metadata": {},
   "outputs": [
    {
     "data": {
      "text/plain": [
       "(0, 6000)"
      ]
     },
     "execution_count": 30,
     "metadata": {},
     "output_type": "execute_result"
    },
    {
     "data": {
      "image/png": "[encoded data removed]",
      "text/plain": [
       "<matplotlib.figure.Figure at 0x7f3bef0b1fd0>"
      ]
     },
     "metadata": {},
     "output_type": "display_data"
    }
   ],
   "source": [
    "trials.group('guess').barh('guess')\n",
    "plt.xlim(0, 6000)"
   ]
  },
  {
   "cell_type": "code",
   "execution_count": 31,
   "metadata": {},
   "outputs": [
    {
     "data": {
      "text/plain": [
       "(0, 6000)"
      ]
     },
     "execution_count": 31,
     "metadata": {},
     "output_type": "execute_result"
    },
    {
     "data": {
      "image/png": "[encoded data removed]",
      "text/plain": [
       "<matplotlib.figure.Figure at 0x7f3bef462198>"
      ]
     },
     "metadata": {},
     "output_type": "display_data"
    }
   ],
   "source": [
    "trials.group('remaining').barh('remaining')\n",
    "plt.xlim(0, 6000)"
   ]
  },
  {
   "cell_type": "markdown",
   "metadata": {},
   "source": [
    "## Probability"
   ]
  },
  {
   "cell_type": "markdown",
   "metadata": {},
   "source": [
    "\n",
    "GR\n",
    "\n",
    "GB\n",
    "\n",
    "RG\n",
    "\n",
    "RB\n",
    "\n",
    "BG\n",
    "\n",
    "BR"
   ]
  },
  {
   "cell_type": "markdown",
   "metadata": {},
   "source": [
    "1/3 * 1/2 = 1/6"
   ]
  },
  {
   "cell_type": "code",
   "execution_count": null,
   "metadata": {
    "collapsed": true
   },
   "outputs": [],
   "source": []
  },
  {
   "cell_type": "markdown",
   "metadata": {},
   "source": [
    "P(one R and one G) ?"
   ]
  },
  {
   "cell_type": "markdown",
   "metadata": {},
   "source": [
    "1/6 + 1/6 = 1/3"
   ]
  },
  {
   "cell_type": "markdown",
   "metadata": {},
   "source": [
    "## Sampling"
   ]
  },
  {
   "cell_type": "code",
   "execution_count": 33,
   "metadata": {},
   "outputs": [
    {
     "data": {
      "text/html": [
       "<table border=\"1\" class=\"dataframe\">\n",
       "    <thead>\n",
       "        <tr>\n",
       "            <th>Row Index</th> <th>Title</th> <th>Studio</th> <th>Gross</th> <th>Gross (Adjusted)</th> <th>Year</th>\n",
       "        </tr>\n",
       "    </thead>\n",
       "    <tbody>\n",
       "        <tr>\n",
       "            <td>0        </td> <td>Star Wars: The Force Awakens             </td> <td>Buena Vista (Disney)</td> <td>906723418</td> <td>906723400       </td> <td>2015</td>\n",
       "        </tr>\n",
       "    </tbody>\n",
       "        <tr>\n",
       "            <td>1        </td> <td>Avatar                                   </td> <td>Fox                 </td> <td>760507625</td> <td>846120800       </td> <td>2009</td>\n",
       "        </tr>\n",
       "    </tbody>\n",
       "        <tr>\n",
       "            <td>2        </td> <td>Titanic                                  </td> <td>Paramount           </td> <td>658672302</td> <td>1178627900      </td> <td>1997</td>\n",
       "        </tr>\n",
       "    </tbody>\n",
       "        <tr>\n",
       "            <td>3        </td> <td>Jurassic World                           </td> <td>Universal           </td> <td>652270625</td> <td>687728000       </td> <td>2015</td>\n",
       "        </tr>\n",
       "    </tbody>\n",
       "        <tr>\n",
       "            <td>4        </td> <td>Marvel's The Avengers                    </td> <td>Buena Vista (Disney)</td> <td>623357910</td> <td>668866600       </td> <td>2012</td>\n",
       "        </tr>\n",
       "    </tbody>\n",
       "        <tr>\n",
       "            <td>5        </td> <td>The Dark Knight                          </td> <td>Warner Bros.        </td> <td>534858444</td> <td>647761600       </td> <td>2008</td>\n",
       "        </tr>\n",
       "    </tbody>\n",
       "        <tr>\n",
       "            <td>6        </td> <td>Star Wars: Episode I - The Phantom Menace</td> <td>Fox                 </td> <td>474544677</td> <td>785715000       </td> <td>1999</td>\n",
       "        </tr>\n",
       "    </tbody>\n",
       "        <tr>\n",
       "            <td>7        </td> <td>Star Wars                                </td> <td>Fox                 </td> <td>460998007</td> <td>1549640500      </td> <td>1977</td>\n",
       "        </tr>\n",
       "    </tbody>\n",
       "        <tr>\n",
       "            <td>8        </td> <td>Avengers: Age of Ultron                  </td> <td>Buena Vista (Disney)</td> <td>459005868</td> <td>465684200       </td> <td>2015</td>\n",
       "        </tr>\n",
       "    </tbody>\n",
       "        <tr>\n",
       "            <td>9        </td> <td>The Dark Knight Rises                    </td> <td>Warner Bros.        </td> <td>448139099</td> <td>500961700       </td> <td>2012</td>\n",
       "        </tr>\n",
       "    </tbody>\n",
       "</table>\n",
       "<p>... (190 rows omitted)</p"
      ],
      "text/plain": [
       "Row Index | Title                                     | Studio               | Gross     | Gross (Adjusted) | Year\n",
       "0         | Star Wars: The Force Awakens              | Buena Vista (Disney) | 906723418 | 906723400        | 2015\n",
       "1         | Avatar                                    | Fox                  | 760507625 | 846120800        | 2009\n",
       "2         | Titanic                                   | Paramount            | 658672302 | 1178627900       | 1997\n",
       "3         | Jurassic World                            | Universal            | 652270625 | 687728000        | 2015\n",
       "4         | Marvel's The Avengers                     | Buena Vista (Disney) | 623357910 | 668866600        | 2012\n",
       "5         | The Dark Knight                           | Warner Bros.         | 534858444 | 647761600        | 2008\n",
       "6         | Star Wars: Episode I - The Phantom Menace | Fox                  | 474544677 | 785715000        | 1999\n",
       "7         | Star Wars                                 | Fox                  | 460998007 | 1549640500       | 1977\n",
       "8         | Avengers: Age of Ultron                   | Buena Vista (Disney) | 459005868 | 465684200        | 2015\n",
       "9         | The Dark Knight Rises                     | Warner Bros.         | 448139099 | 500961700        | 2012\n",
       "... (190 rows omitted)"
      ]
     },
     "execution_count": 33,
     "metadata": {},
     "output_type": "execute_result"
    }
   ],
   "source": [
    "top = Table.read_table('http://inferentialthinking.com/notebooks/top_movies.csv')\n",
    "top = top.with_column('Row Index', np.arange(top.num_rows)).move_to_start('Row Index')\n",
    "top"
   ]
  },
  {
   "cell_type": "code",
   "execution_count": 34,
   "metadata": {},
   "outputs": [
    {
     "data": {
      "text/html": [
       "<table border=\"1\" class=\"dataframe\">\n",
       "    <thead>\n",
       "        <tr>\n",
       "            <th>Row Index</th> <th>Title</th> <th>Studio</th> <th>Gross</th> <th>Gross (Adjusted)</th> <th>Year</th>\n",
       "        </tr>\n",
       "    </thead>\n",
       "    <tbody>\n",
       "        <tr>\n",
       "            <td>3        </td> <td>Jurassic World         </td> <td>Universal           </td> <td>652270625</td> <td>687728000       </td> <td>2015</td>\n",
       "        </tr>\n",
       "    </tbody>\n",
       "        <tr>\n",
       "            <td>5        </td> <td>The Dark Knight        </td> <td>Warner Bros.        </td> <td>534858444</td> <td>647761600       </td> <td>2008</td>\n",
       "        </tr>\n",
       "    </tbody>\n",
       "        <tr>\n",
       "            <td>8        </td> <td>Avengers: Age of Ultron</td> <td>Buena Vista (Disney)</td> <td>459005868</td> <td>465684200       </td> <td>2015</td>\n",
       "        </tr>\n",
       "    </tbody>\n",
       "</table>"
      ],
      "text/plain": [
       "Row Index | Title                   | Studio               | Gross     | Gross (Adjusted) | Year\n",
       "3         | Jurassic World          | Universal            | 652270625 | 687728000        | 2015\n",
       "5         | The Dark Knight         | Warner Bros.         | 534858444 | 647761600        | 2008\n",
       "8         | Avengers: Age of Ultron | Buena Vista (Disney) | 459005868 | 465684200        | 2015"
      ]
     },
     "execution_count": 34,
     "metadata": {},
     "output_type": "execute_result"
    }
   ],
   "source": [
    "top.take(make_array(3, 5, 8))"
   ]
  },
  {
   "cell_type": "code",
   "execution_count": 35,
   "metadata": {},
   "outputs": [
    {
     "data": {
      "text/html": [
       "<table border=\"1\" class=\"dataframe\">\n",
       "    <thead>\n",
       "        <tr>\n",
       "            <th>Row Index</th> <th>Title</th> <th>Studio</th> <th>Gross</th> <th>Gross (Adjusted)</th> <th>Year</th>\n",
       "        </tr>\n",
       "    </thead>\n",
       "    <tbody>\n",
       "        <tr>\n",
       "            <td>22       </td> <td>Harry Potter and the Deathly Hallows Part 2                 </td> <td>Warner Bros.        </td> <td>381011219</td> <td>417512200       </td> <td>2011</td>\n",
       "        </tr>\n",
       "    </tbody>\n",
       "        <tr>\n",
       "            <td>43       </td> <td>Harry Potter and the Sorcerer's Stone                       </td> <td>Warner Bros.        </td> <td>317575550</td> <td>486442900       </td> <td>2001</td>\n",
       "        </tr>\n",
       "    </tbody>\n",
       "        <tr>\n",
       "            <td>44       </td> <td>Indiana Jones and the Kingdom of the Crystal Skull          </td> <td>Paramount           </td> <td>317101119</td> <td>384231200       </td> <td>2008</td>\n",
       "        </tr>\n",
       "    </tbody>\n",
       "        <tr>\n",
       "            <td>54       </td> <td>Harry Potter and the Half-Blood Prince                      </td> <td>Warner Bros.        </td> <td>301959197</td> <td>352098800       </td> <td>2009</td>\n",
       "        </tr>\n",
       "    </tbody>\n",
       "        <tr>\n",
       "            <td>59       </td> <td>Harry Potter and the Order of the Phoenix                   </td> <td>Warner Bros.        </td> <td>292004738</td> <td>369250200       </td> <td>2007</td>\n",
       "        </tr>\n",
       "    </tbody>\n",
       "        <tr>\n",
       "            <td>60       </td> <td>The Chronicles of Narnia: The Lion, the Witch and the Wa ...</td> <td>Buena Vista (Disney)</td> <td>291710957</td> <td>393033100       </td> <td>2005</td>\n",
       "        </tr>\n",
       "    </tbody>\n",
       "        <tr>\n",
       "            <td>62       </td> <td>Harry Potter and the Goblet of Fire                         </td> <td>Warner Bros.        </td> <td>290013036</td> <td>393024800       </td> <td>2005</td>\n",
       "        </tr>\n",
       "    </tbody>\n",
       "        <tr>\n",
       "            <td>69       </td> <td>Harry Potter and the Chamber of Secrets                     </td> <td>Warner Bros.        </td> <td>261988482</td> <td>390768100       </td> <td>2002</td>\n",
       "        </tr>\n",
       "    </tbody>\n",
       "        <tr>\n",
       "            <td>76       </td> <td>Harry Potter and the Prisoner of Azkaban                    </td> <td>Warner Bros.        </td> <td>249541069</td> <td>349598600       </td> <td>2004</td>\n",
       "        </tr>\n",
       "    </tbody>\n",
       "        <tr>\n",
       "            <td>91       </td> <td>Beauty and the Beast                                        </td> <td>Buena Vista (Disney)</td> <td>218967620</td> <td>394664300       </td> <td>1991</td>\n",
       "        </tr>\n",
       "    </tbody>\n",
       "</table>\n",
       "<p>... (6 rows omitted)</p"
      ],
      "text/plain": [
       "Row Index | Title                                                        | Studio               | Gross     | Gross (Adjusted) | Year\n",
       "22        | Harry Potter and the Deathly Hallows Part 2                  | Warner Bros.         | 381011219 | 417512200        | 2011\n",
       "43        | Harry Potter and the Sorcerer's Stone                        | Warner Bros.         | 317575550 | 486442900        | 2001\n",
       "44        | Indiana Jones and the Kingdom of the Crystal Skull           | Paramount            | 317101119 | 384231200        | 2008\n",
       "54        | Harry Potter and the Half-Blood Prince                       | Warner Bros.         | 301959197 | 352098800        | 2009\n",
       "59        | Harry Potter and the Order of the Phoenix                    | Warner Bros.         | 292004738 | 369250200        | 2007\n",
       "60        | The Chronicles of Narnia: The Lion, the Witch and the Wa ... | Buena Vista (Disney) | 291710957 | 393033100        | 2005\n",
       "62        | Harry Potter and the Goblet of Fire                          | Warner Bros.         | 290013036 | 393024800        | 2005\n",
       "69        | Harry Potter and the Chamber of Secrets                      | Warner Bros.         | 261988482 | 390768100        | 2002\n",
       "76        | Harry Potter and the Prisoner of Azkaban                     | Warner Bros.         | 249541069 | 349598600        | 2004\n",
       "91        | Beauty and the Beast                                         | Buena Vista (Disney) | 218967620 | 394664300        | 1991\n",
       "... (6 rows omitted)"
      ]
     },
     "execution_count": 35,
     "metadata": {},
     "output_type": "execute_result"
    }
   ],
   "source": [
    "top.where('Title', are.containing('and the'))"
   ]
  },
  {
   "cell_type": "code",
   "execution_count": 36,
   "metadata": {},
   "outputs": [
    {
     "data": {
      "text/html": [
       "<table border=\"1\" class=\"dataframe\">\n",
       "    <thead>\n",
       "        <tr>\n",
       "            <th>Row Index</th> <th>Title</th> <th>Studio</th> <th>Gross</th> <th>Gross (Adjusted)</th> <th>Year</th>\n",
       "        </tr>\n",
       "    </thead>\n",
       "    <tbody>\n",
       "        <tr>\n",
       "            <td>4        </td> <td>Marvel's The Avengers                             </td> <td>Buena Vista (Disney)</td> <td>623357910</td> <td>668866600       </td> <td>2012</td>\n",
       "        </tr>\n",
       "    </tbody>\n",
       "        <tr>\n",
       "            <td>14       </td> <td>The Lion King                                     </td> <td>Buena Vista (Disney)</td> <td>422783777</td> <td>775573900       </td> <td>1994</td>\n",
       "        </tr>\n",
       "    </tbody>\n",
       "        <tr>\n",
       "            <td>24       </td> <td>Star Wars: Episode III - Revenge of the Sith      </td> <td>Fox                 </td> <td>380270577</td> <td>516123900       </td> <td>2005</td>\n",
       "        </tr>\n",
       "    </tbody>\n",
       "        <tr>\n",
       "            <td>34       </td> <td>The Hunger Games: Mockingjay - Part 1             </td> <td>Lionsgate           </td> <td>337135885</td> <td>354324000       </td> <td>2014</td>\n",
       "        </tr>\n",
       "    </tbody>\n",
       "        <tr>\n",
       "            <td>44       </td> <td>Indiana Jones and the Kingdom of the Crystal Skull</td> <td>Paramount           </td> <td>317101119</td> <td>384231200       </td> <td>2008</td>\n",
       "        </tr>\n",
       "    </tbody>\n",
       "        <tr>\n",
       "            <td>54       </td> <td>Harry Potter and the Half-Blood Prince            </td> <td>Warner Bros.        </td> <td>301959197</td> <td>352098800       </td> <td>2009</td>\n",
       "        </tr>\n",
       "    </tbody>\n",
       "        <tr>\n",
       "            <td>64       </td> <td>Home Alone                                        </td> <td>Fox                 </td> <td>285761243</td> <td>589287500       </td> <td>1990</td>\n",
       "        </tr>\n",
       "    </tbody>\n",
       "        <tr>\n",
       "            <td>74       </td> <td>Night at the Museum                               </td> <td>Fox                 </td> <td>250863268</td> <td>322261900       </td> <td>2006</td>\n",
       "        </tr>\n",
       "    </tbody>\n",
       "        <tr>\n",
       "            <td>84       </td> <td>Beverly Hills Cop                                 </td> <td>Paramount           </td> <td>234760478</td> <td>584205200       </td> <td>1984</td>\n",
       "        </tr>\n",
       "    </tbody>\n",
       "        <tr>\n",
       "            <td>94       </td> <td>Saving Private Ryan                               </td> <td>Dreamworks          </td> <td>216540909</td> <td>397999500       </td> <td>1998</td>\n",
       "        </tr>\n",
       "    </tbody>\n",
       "</table>\n",
       "<p>... (10 rows omitted)</p"
      ],
      "text/plain": [
       "Row Index | Title                                              | Studio               | Gross     | Gross (Adjusted) | Year\n",
       "4         | Marvel's The Avengers                              | Buena Vista (Disney) | 623357910 | 668866600        | 2012\n",
       "14        | The Lion King                                      | Buena Vista (Disney) | 422783777 | 775573900        | 1994\n",
       "24        | Star Wars: Episode III - Revenge of the Sith       | Fox                  | 380270577 | 516123900        | 2005\n",
       "34        | The Hunger Games: Mockingjay - Part 1              | Lionsgate            | 337135885 | 354324000        | 2014\n",
       "44        | Indiana Jones and the Kingdom of the Crystal Skull | Paramount            | 317101119 | 384231200        | 2008\n",
       "54        | Harry Potter and the Half-Blood Prince             | Warner Bros.         | 301959197 | 352098800        | 2009\n",
       "64        | Home Alone                                         | Fox                  | 285761243 | 589287500        | 1990\n",
       "74        | Night at the Museum                                | Fox                  | 250863268 | 322261900        | 2006\n",
       "84        | Beverly Hills Cop                                  | Paramount            | 234760478 | 584205200        | 1984\n",
       "94        | Saving Private Ryan                                | Dreamworks           | 216540909 | 397999500        | 1998\n",
       "... (10 rows omitted)"
      ]
     },
     "execution_count": 36,
     "metadata": {},
     "output_type": "execute_result"
    }
   ],
   "source": [
    "start = np.random.choice(np.arange(10))\n",
    "top.take(np.arange(start, 200, 10))"
   ]
  },
  {
   "cell_type": "code",
   "execution_count": 37,
   "metadata": {},
   "outputs": [
    {
     "data": {
      "text/html": [
       "<table border=\"1\" class=\"dataframe\">\n",
       "    <thead>\n",
       "        <tr>\n",
       "            <th>Row Index</th> <th>Title</th> <th>Studio</th> <th>Gross</th> <th>Gross (Adjusted)</th> <th>Year</th>\n",
       "        </tr>\n",
       "    </thead>\n",
       "    <tbody>\n",
       "        <tr>\n",
       "            <td>191      </td> <td>Psycho             </td> <td>Universal</td> <td>32000000 </td> <td>371200100       </td> <td>1960</td>\n",
       "        </tr>\n",
       "    </tbody>\n",
       "        <tr>\n",
       "            <td>188      </td> <td>Rear Window        </td> <td>Paramount</td> <td>36764313 </td> <td>438086300       </td> <td>1954</td>\n",
       "        </tr>\n",
       "    </tbody>\n",
       "        <tr>\n",
       "            <td>17       </td> <td>The Hunger Games   </td> <td>Lionsgate</td> <td>408010692</td> <td>442510400       </td> <td>2012</td>\n",
       "        </tr>\n",
       "    </tbody>\n",
       "        <tr>\n",
       "            <td>111      </td> <td>Top Gun            </td> <td>Paramount</td> <td>179800601</td> <td>417818200       </td> <td>1986</td>\n",
       "        </tr>\n",
       "    </tbody>\n",
       "        <tr>\n",
       "            <td>109      </td> <td>Mission: Impossible</td> <td>Paramount</td> <td>180981856</td> <td>356231300       </td> <td>1996</td>\n",
       "        </tr>\n",
       "    </tbody>\n",
       "</table>"
      ],
      "text/plain": [
       "Row Index | Title               | Studio    | Gross     | Gross (Adjusted) | Year\n",
       "191       | Psycho              | Universal | 32000000  | 371200100        | 1960\n",
       "188       | Rear Window         | Paramount | 36764313  | 438086300        | 1954\n",
       "17        | The Hunger Games    | Lionsgate | 408010692 | 442510400        | 2012\n",
       "111       | Top Gun             | Paramount | 179800601 | 417818200        | 1986\n",
       "109       | Mission: Impossible | Paramount | 180981856 | 356231300        | 1996"
      ]
     },
     "execution_count": 37,
     "metadata": {},
     "output_type": "execute_result"
    }
   ],
   "source": [
    "top.sample(5)"
   ]
  },
  {
   "cell_type": "code",
   "execution_count": 38,
   "metadata": {},
   "outputs": [
    {
     "data": {
      "text/html": [
       "<table border=\"1\" class=\"dataframe\">\n",
       "    <thead>\n",
       "        <tr>\n",
       "            <th>Row Index</th> <th>Title</th> <th>Studio</th> <th>Gross</th> <th>Gross (Adjusted)</th> <th>Year</th>\n",
       "        </tr>\n",
       "    </thead>\n",
       "    <tbody>\n",
       "        <tr>\n",
       "            <td>135      </td> <td>The Godfather </td> <td>Paramount           </td> <td>134966411</td> <td>686626300       </td> <td>1972</td>\n",
       "        </tr>\n",
       "    </tbody>\n",
       "        <tr>\n",
       "            <td>147      </td> <td>Doctor Zhivago</td> <td>MGM                 </td> <td>111721910</td> <td>1079978500      </td> <td>1965</td>\n",
       "        </tr>\n",
       "    </tbody>\n",
       "        <tr>\n",
       "            <td>2        </td> <td>Titanic       </td> <td>Paramount           </td> <td>658672302</td> <td>1178627900      </td> <td>1997</td>\n",
       "        </tr>\n",
       "    </tbody>\n",
       "        <tr>\n",
       "            <td>73       </td> <td>Batman        </td> <td>Warner Bros.        </td> <td>251188924</td> <td>547705200       </td> <td>1989</td>\n",
       "        </tr>\n",
       "    </tbody>\n",
       "        <tr>\n",
       "            <td>99       </td> <td>Armageddon    </td> <td>Buena Vista (Disney)</td> <td>201578182</td> <td>373929700       </td> <td>1998</td>\n",
       "        </tr>\n",
       "    </tbody>\n",
       "</table>"
      ],
      "text/plain": [
       "Row Index | Title          | Studio               | Gross     | Gross (Adjusted) | Year\n",
       "135       | The Godfather  | Paramount            | 134966411 | 686626300        | 1972\n",
       "147       | Doctor Zhivago | MGM                  | 111721910 | 1079978500       | 1965\n",
       "2         | Titanic        | Paramount            | 658672302 | 1178627900       | 1997\n",
       "73        | Batman         | Warner Bros.         | 251188924 | 547705200        | 1989\n",
       "99        | Armageddon     | Buena Vista (Disney) | 201578182 | 373929700        | 1998"
      ]
     },
     "execution_count": 38,
     "metadata": {},
     "output_type": "execute_result"
    }
   ],
   "source": [
    "top.sample(5, with_replacement=False)"
   ]
  },
  {
   "cell_type": "markdown",
   "metadata": {},
   "source": [
    "## Dice "
   ]
  },
  {
   "cell_type": "code",
   "execution_count": 39,
   "metadata": {},
   "outputs": [
    {
     "data": {
      "text/html": [
       "<table border=\"1\" class=\"dataframe\">\n",
       "    <thead>\n",
       "        <tr>\n",
       "            <th>face</th>\n",
       "        </tr>\n",
       "    </thead>\n",
       "    <tbody>\n",
       "        <tr>\n",
       "            <td>1   </td>\n",
       "        </tr>\n",
       "    </tbody>\n",
       "        <tr>\n",
       "            <td>2   </td>\n",
       "        </tr>\n",
       "    </tbody>\n",
       "        <tr>\n",
       "            <td>3   </td>\n",
       "        </tr>\n",
       "    </tbody>\n",
       "        <tr>\n",
       "            <td>4   </td>\n",
       "        </tr>\n",
       "    </tbody>\n",
       "        <tr>\n",
       "            <td>5   </td>\n",
       "        </tr>\n",
       "    </tbody>\n",
       "        <tr>\n",
       "            <td>6   </td>\n",
       "        </tr>\n",
       "    </tbody>\n",
       "</table>"
      ],
      "text/plain": [
       "face\n",
       "1\n",
       "2\n",
       "3\n",
       "4\n",
       "5\n",
       "6"
      ]
     },
     "execution_count": 39,
     "metadata": {},
     "output_type": "execute_result"
    }
   ],
   "source": [
    "die = Table().with_column('face', np.arange(1, 7))\n",
    "die"
   ]
  },
  {
   "cell_type": "code",
   "execution_count": 40,
   "metadata": {},
   "outputs": [
    {
     "data": {
      "text/html": [
       "<table border=\"1\" class=\"dataframe\">\n",
       "    <thead>\n",
       "        <tr>\n",
       "            <th>face</th>\n",
       "        </tr>\n",
       "    </thead>\n",
       "    <tbody>\n",
       "        <tr>\n",
       "            <td>2   </td>\n",
       "        </tr>\n",
       "    </tbody>\n",
       "</table>"
      ],
      "text/plain": [
       "face\n",
       "2"
      ]
     },
     "execution_count": 40,
     "metadata": {},
     "output_type": "execute_result"
    }
   ],
   "source": [
    "die.sample(1)"
   ]
  },
  {
   "cell_type": "code",
   "execution_count": 45,
   "metadata": {},
   "outputs": [
    {
     "data": {
      "image/png": "[encoded data removed]",
      "text/plain": [
       "<matplotlib.figure.Figure at 0x7f3bec3dd908>"
      ]
     },
     "metadata": {},
     "output_type": "display_data"
    }
   ],
   "source": [
    "die.hist('face', bins=np.arange(0.5, 7, 1))"
   ]
  },
  {
   "cell_type": "code",
   "execution_count": 54,
   "metadata": {},
   "outputs": [
    {
     "data": {
      "image/png": "[encoded data removed]",
      "text/plain": [
       "<matplotlib.figure.Figure at 0x7f3bec197208>"
      ]
     },
     "metadata": {},
     "output_type": "display_data"
    }
   ],
   "source": [
    "die.sample(1000000).hist('face', bins=np.arange(0.5, 7, 1))"
   ]
  },
  {
   "cell_type": "code",
   "execution_count": null,
   "metadata": {
    "collapsed": true
   },
   "outputs": [],
   "source": []
  },
  {
   "cell_type": "code",
   "execution_count": null,
   "metadata": {
    "collapsed": true
   },
   "outputs": [],
   "source": []
  },
  {
   "cell_type": "code",
   "execution_count": null,
   "metadata": {
    "collapsed": true
   },
   "outputs": [],
   "source": []
  },
  {
   "cell_type": "markdown",
   "metadata": {},
   "source": [
    "## Flights\n",
    "\n",
    "This is tomorrow's material but just in case we finish early:"
   ]
  },
  {
   "cell_type": "code",
   "execution_count": 13,
   "metadata": {},
   "outputs": [
    {
     "data": {
      "text/html": [
       "<table border=\"1\" class=\"dataframe\">\n",
       "    <thead>\n",
       "        <tr>\n",
       "            <th>Date</th> <th>Flight Number</th> <th>Destination</th> <th>Delay</th>\n",
       "        </tr>\n",
       "    </thead>\n",
       "    <tbody>\n",
       "        <tr>\n",
       "            <td>6/1/15</td> <td>73           </td> <td>HNL        </td> <td>257  </td>\n",
       "        </tr>\n",
       "    </tbody>\n",
       "        <tr>\n",
       "            <td>6/1/15</td> <td>217          </td> <td>EWR        </td> <td>28   </td>\n",
       "        </tr>\n",
       "    </tbody>\n",
       "        <tr>\n",
       "            <td>6/1/15</td> <td>237          </td> <td>STL        </td> <td>-3   </td>\n",
       "        </tr>\n",
       "    </tbody>\n",
       "        <tr>\n",
       "            <td>6/1/15</td> <td>250          </td> <td>SAN        </td> <td>0    </td>\n",
       "        </tr>\n",
       "    </tbody>\n",
       "        <tr>\n",
       "            <td>6/1/15</td> <td>267          </td> <td>PHL        </td> <td>64   </td>\n",
       "        </tr>\n",
       "    </tbody>\n",
       "        <tr>\n",
       "            <td>6/1/15</td> <td>273          </td> <td>SEA        </td> <td>-6   </td>\n",
       "        </tr>\n",
       "    </tbody>\n",
       "        <tr>\n",
       "            <td>6/1/15</td> <td>278          </td> <td>SEA        </td> <td>-8   </td>\n",
       "        </tr>\n",
       "    </tbody>\n",
       "        <tr>\n",
       "            <td>6/1/15</td> <td>292          </td> <td>EWR        </td> <td>12   </td>\n",
       "        </tr>\n",
       "    </tbody>\n",
       "        <tr>\n",
       "            <td>6/1/15</td> <td>300          </td> <td>HNL        </td> <td>20   </td>\n",
       "        </tr>\n",
       "    </tbody>\n",
       "        <tr>\n",
       "            <td>6/1/15</td> <td>317          </td> <td>IND        </td> <td>-10  </td>\n",
       "        </tr>\n",
       "    </tbody>\n",
       "</table>\n",
       "<p>... (13815 rows omitted)</p"
      ],
      "text/plain": [
       "Date   | Flight Number | Destination | Delay\n",
       "6/1/15 | 73            | HNL         | 257\n",
       "6/1/15 | 217           | EWR         | 28\n",
       "6/1/15 | 237           | STL         | -3\n",
       "6/1/15 | 250           | SAN         | 0\n",
       "6/1/15 | 267           | PHL         | 64\n",
       "6/1/15 | 273           | SEA         | -6\n",
       "6/1/15 | 278           | SEA         | -8\n",
       "6/1/15 | 292           | EWR         | 12\n",
       "6/1/15 | 300           | HNL         | 20\n",
       "6/1/15 | 317           | IND         | -10\n",
       "... (13815 rows omitted)"
      ]
     },
     "execution_count": 13,
     "metadata": {},
     "output_type": "execute_result"
    }
   ],
   "source": [
    "united = Table.read_table('http://inferentialthinking.com/notebooks/united_summer2015.csv')\n",
    "united"
   ]
  },
  {
   "cell_type": "code",
   "execution_count": null,
   "metadata": {
    "collapsed": true
   },
   "outputs": [],
   "source": []
  }
 ],
 "metadata": {
  "kernelspec": {
   "display_name": "Python 3",
   "language": "python",
   "name": "python3"
  },
  "language_info": {
   "codemirror_mode": {
    "name": "ipython",
    "version": 3
   },
   "file_extension": ".py",
   "mimetype": "text/x-python",
   "name": "python",
   "nbconvert_exporter": "python",
   "pygments_lexer": "ipython3",
   "version": "3.5.3"
  }
 },
 "nbformat": 4,
 "nbformat_minor": 2
}
