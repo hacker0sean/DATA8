{
 "cells": [
  {
   "cell_type": "code",
   "execution_count": null,
   "metadata": {
    "collapsed": false,
    "deletable": true,
    "editable": true
   },
   "outputs": [],
   "source": [
    "from datascience import *\n",
    "import numpy as np\n",
    "\n",
    "import matplotlib.pyplot as plots\n",
    "plots.style.use('fivethirtyeight')\n",
    "%matplotlib inline"
   ]
  },
  {
   "cell_type": "markdown",
   "metadata": {
    "deletable": true,
    "editable": true
   },
   "source": [
    "## Central Limit Theorem"
   ]
  },
  {
   "cell_type": "code",
   "execution_count": null,
   "metadata": {
    "collapsed": false,
    "deletable": true,
    "editable": true
   },
   "outputs": [],
   "source": [
    "united = Table.read_table('http://inferentialthinking.com/notebooks/united_summer2015.csv')\n",
    "delay = united.select('Delay')\n",
    "delay.hist(bins=30)\n",
    "\n",
    "mean_delay = np.mean(delay.column(0))\n",
    "sd_delay = np.std(delay.column(0))\n",
    "print('mean:', mean_delay,' ; SD:', sd_delay)"
   ]
  },
  {
   "cell_type": "code",
   "execution_count": null,
   "metadata": {
    "collapsed": false,
    "deletable": true,
    "editable": true
   },
   "outputs": [],
   "source": [
    "def sample_means(sample_size):\n",
    "    means = []\n",
    "    for i in np.arange(10000):\n",
    "        sample = delay.sample(sample_size)\n",
    "        means.append(np.mean(sample.column(0)))\n",
    "    return means\n",
    "\n",
    "def variability(sample_size):\n",
    "    means = sample_means(sample_size)\n",
    "    Table().with_column('Sample mean', means).hist(bins=30, unit='minute')\n",
    "    sqrt_n = np.sqrt(sample_size)\n",
    "    print('Sample size:          ', sample_size)\n",
    "    print('Square root n:        ', sqrt_n)\n",
    "    print('Sample mean SD:       ', np.std(means)) # 7 spaces\n",
    "    print(sd_delay, '/', sqrt_n, '=', sd_delay / sqrt_n)"
   ]
  },
  {
   "cell_type": "code",
   "execution_count": null,
   "metadata": {
    "collapsed": false,
    "deletable": true,
    "editable": true
   },
   "outputs": [],
   "source": [
    "variability(900)"
   ]
  },
  {
   "cell_type": "code",
   "execution_count": null,
   "metadata": {
    "collapsed": false,
    "deletable": true,
    "editable": true
   },
   "outputs": [],
   "source": [
    "variability(4)"
   ]
  },
  {
   "cell_type": "code",
   "execution_count": null,
   "metadata": {
    "collapsed": false,
    "deletable": true,
    "editable": true
   },
   "outputs": [],
   "source": [
    "variability(20)"
   ]
  },
  {
   "cell_type": "code",
   "execution_count": null,
   "metadata": {
    "collapsed": false,
    "deletable": true,
    "editable": true
   },
   "outputs": [],
   "source": [
    "variability(50)"
   ]
  },
  {
   "cell_type": "markdown",
   "metadata": {},
   "source": [
    "## Discussion"
   ]
  },
  {
   "cell_type": "code",
   "execution_count": null,
   "metadata": {
    "collapsed": false
   },
   "outputs": [],
   "source": [
    "0.975 ** 100"
   ]
  },
  {
   "cell_type": "markdown",
   "metadata": {
    "deletable": true,
    "editable": true
   },
   "source": [
    "## Experiment Design"
   ]
  },
  {
   "cell_type": "code",
   "execution_count": null,
   "metadata": {
    "collapsed": false,
    "deletable": true,
    "editable": true
   },
   "outputs": [],
   "source": [
    "votes = [1, 1, 1, 1, 1, 0, 0, 0, 0, 0]\n",
    "np.std(votes)"
   ]
  },
  {
   "cell_type": "code",
   "execution_count": null,
   "metadata": {
    "collapsed": false,
    "deletable": true,
    "editable": true
   },
   "outputs": [],
   "source": [
    "votes = [1, 1, 1, 0, 0, 0, 0, 0, 0, 0]\n",
    "np.std(votes)"
   ]
  },
  {
   "cell_type": "code",
   "execution_count": null,
   "metadata": {
    "collapsed": false,
    "deletable": true,
    "editable": true
   },
   "outputs": [],
   "source": [
    "votes = [1, 1, 0, 0, 0, 0, 0, 0, 0, 0]\n",
    "np.std(votes)"
   ]
  },
  {
   "cell_type": "code",
   "execution_count": null,
   "metadata": {
    "collapsed": false,
    "deletable": true,
    "editable": true
   },
   "outputs": [],
   "source": [
    "votes = [1, 0, 0, 0, 0, 0, 0, 0, 0, 0]\n",
    "np.std(votes)"
   ]
  },
  {
   "cell_type": "code",
   "execution_count": null,
   "metadata": {
    "collapsed": false,
    "deletable": true,
    "editable": true
   },
   "outputs": [],
   "source": [
    "votes = [1, 1, 1, 1, 1, 1, 1, 0, 0, 0]\n",
    "np.std(votes)"
   ]
  },
  {
   "cell_type": "code",
   "execution_count": null,
   "metadata": {
    "collapsed": false,
    "deletable": true,
    "editable": true
   },
   "outputs": [],
   "source": [
    "votes = [1, 1, 1, 1, 1, 1, 1, 1, 0, 0]\n",
    "np.std(votes)"
   ]
  },
  {
   "cell_type": "code",
   "execution_count": null,
   "metadata": {
    "collapsed": false,
    "deletable": true,
    "editable": true
   },
   "outputs": [],
   "source": [
    "votes = [1, 1, 1, 1, 1, 1, 1, 1, 1, 0]\n",
    "np.std(votes)"
   ]
  },
  {
   "cell_type": "code",
   "execution_count": null,
   "metadata": {
    "collapsed": false,
    "deletable": true,
    "editable": true
   },
   "outputs": [],
   "source": [
    "worst_sd_of_population = 0.5\n",
    "width_in_sds = 4 # For 95% of a normal distribution, mean +/- 2 SDs\n",
    "desired_width = 0.03 \n",
    "sample_size = (worst_sd_of_population * width_in_sds / desired_width) ** 2\n",
    "sample_size"
   ]
  },
  {
   "cell_type": "code",
   "execution_count": null,
   "metadata": {
    "collapsed": true,
    "deletable": true,
    "editable": true
   },
   "outputs": [],
   "source": [
    "n = 4445"
   ]
  },
  {
   "cell_type": "markdown",
   "metadata": {
    "deletable": true,
    "editable": true
   },
   "source": [
    "### Conducting the experiment"
   ]
  },
  {
   "cell_type": "code",
   "execution_count": null,
   "metadata": {
    "collapsed": false
   },
   "outputs": [],
   "source": [
    "# Hide before lecture\n",
    "voters = Table().with_column(\n",
    "    'Candidate', ['A', 'B'],\n",
    "    'Chance',    [0.5, 0.5]) # Might be different in live lecture!"
   ]
  },
  {
   "cell_type": "code",
   "execution_count": null,
   "metadata": {
    "collapsed": false
   },
   "outputs": [],
   "source": [
    "voters.labels"
   ]
  },
  {
   "cell_type": "code",
   "execution_count": null,
   "metadata": {
    "collapsed": false
   },
   "outputs": [],
   "source": [
    "voters.select(0)"
   ]
  },
  {
   "cell_type": "code",
   "execution_count": null,
   "metadata": {
    "collapsed": false
   },
   "outputs": [],
   "source": [
    "sum(voters.column(1))"
   ]
  },
  {
   "cell_type": "code",
   "execution_count": null,
   "metadata": {
    "collapsed": false,
    "deletable": true,
    "editable": true
   },
   "outputs": [],
   "source": [
    "observed_sample = voters.select(0).sample(n, weights=coin.column('Chance'))\n",
    "observed_sample"
   ]
  },
  {
   "cell_type": "code",
   "execution_count": null,
   "metadata": {
    "collapsed": false,
    "deletable": true,
    "editable": true
   },
   "outputs": [],
   "source": [
    "means = []\n",
    "for i in np.arange(1000):\n",
    "    resample = observed_sample.sample()\n",
    "    means.append(np.count_nonzero(resample.column(0) == 'A') / n)\n",
    "print(percentile(2.5, means), percentile(97.5, means))"
   ]
  }
 ],
 "metadata": {
  "anaconda-cloud": {},
  "kernelspec": {
   "display_name": "Python 3",
   "language": "python",
   "name": "python3"
  },
  "language_info": {
   "codemirror_mode": {
    "name": "ipython",
    "version": 3
   },
   "file_extension": ".py",
   "mimetype": "text/x-python",
   "name": "python",
   "nbconvert_exporter": "python",
   "pygments_lexer": "ipython3",
   "version": "3.5.2"
  }
 },
 "nbformat": 4,
 "nbformat_minor": 0
}
