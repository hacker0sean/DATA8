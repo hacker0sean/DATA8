{
 "cells": [
  {
   "cell_type": "code",
   "execution_count": null,
   "metadata": {
    "collapsed": false,
    "deletable": true,
    "editable": true
   },
   "outputs": [],
   "source": [
    "from datascience import *\n",
    "import numpy as np\n",
    "\n",
    "import matplotlib.pyplot as plots\n",
    "plots.style.use('fivethirtyeight')\n",
    "%matplotlib inline"
   ]
  },
  {
   "cell_type": "markdown",
   "metadata": {},
   "source": [
    "## Sampling"
   ]
  },
  {
   "cell_type": "code",
   "execution_count": null,
   "metadata": {
    "collapsed": false,
    "deletable": true,
    "editable": true
   },
   "outputs": [],
   "source": [
    "top = Table.read_table('top_movies.csv')\n",
    "top = top.with_column('Row Index', np.arange(top.num_rows)).move_to_start('Row Index')\n",
    "top"
   ]
  },
  {
   "cell_type": "code",
   "execution_count": null,
   "metadata": {
    "collapsed": false,
    "deletable": true,
    "editable": true
   },
   "outputs": [],
   "source": [
    "top.take([3, 5, 7])"
   ]
  },
  {
   "cell_type": "code",
   "execution_count": null,
   "metadata": {
    "collapsed": false,
    "deletable": true,
    "editable": true
   },
   "outputs": [],
   "source": [
    "top.where('Title', are.containing('and the'))"
   ]
  },
  {
   "cell_type": "code",
   "execution_count": null,
   "metadata": {
    "collapsed": false
   },
   "outputs": [],
   "source": [
    "start = np.random.choice(np.arange(10))\n",
    "top.take(np.arange(start, 200, 10))"
   ]
  },
  {
   "cell_type": "code",
   "execution_count": null,
   "metadata": {
    "collapsed": false
   },
   "outputs": [],
   "source": [
    "top.sample(5)"
   ]
  },
  {
   "cell_type": "code",
   "execution_count": null,
   "metadata": {
    "collapsed": false
   },
   "outputs": [],
   "source": [
    "top.sample(5, with_replacement=False)"
   ]
  },
  {
   "cell_type": "markdown",
   "metadata": {
    "deletable": true,
    "editable": true
   },
   "source": [
    "## Dice"
   ]
  },
  {
   "cell_type": "code",
   "execution_count": null,
   "metadata": {
    "collapsed": false,
    "deletable": true,
    "editable": true
   },
   "outputs": [],
   "source": [
    "die = Table().with_column('face', np.arange(6)+1)\n",
    "die"
   ]
  },
  {
   "cell_type": "code",
   "execution_count": null,
   "metadata": {
    "collapsed": false,
    "deletable": true,
    "editable": true
   },
   "outputs": [],
   "source": [
    "def face_hist(t):\n",
    "    t.hist('face', bins=np.arange(0.5, 7, 1), unit='face')\n",
    "    plots.xlabel('Face')\n",
    "    \n",
    "face_hist(die)"
   ]
  },
  {
   "cell_type": "code",
   "execution_count": null,
   "metadata": {
    "collapsed": false,
    "deletable": true,
    "editable": true
   },
   "outputs": [],
   "source": [
    "face_hist(die.sample(10))"
   ]
  },
  {
   "cell_type": "markdown",
   "metadata": {
    "deletable": true,
    "editable": true
   },
   "source": [
    "## Flights"
   ]
  },
  {
   "cell_type": "code",
   "execution_count": null,
   "metadata": {
    "collapsed": false,
    "deletable": true,
    "editable": true
   },
   "outputs": [],
   "source": [
    "united = Table.read_table('united.csv')\n",
    "united"
   ]
  },
  {
   "cell_type": "code",
   "execution_count": null,
   "metadata": {
    "collapsed": false,
    "deletable": true,
    "editable": true
   },
   "outputs": [],
   "source": [
    "united.hist('Delay')"
   ]
  },
  {
   "cell_type": "code",
   "execution_count": null,
   "metadata": {
    "collapsed": false,
    "deletable": true,
    "editable": true
   },
   "outputs": [],
   "source": [
    "def delay_hist(t):\n",
    "    t.hist('Delay', unit='minute', bins=np.arange(-20, 301, 10))\n",
    "    \n",
    "delay_hist(united)"
   ]
  },
  {
   "cell_type": "code",
   "execution_count": null,
   "metadata": {
    "collapsed": false,
    "deletable": true,
    "editable": true
   },
   "outputs": [],
   "source": [
    "united.where('Delay', are.between(10, 20)).num_rows / united.num_rows"
   ]
  },
  {
   "cell_type": "code",
   "execution_count": null,
   "metadata": {
    "collapsed": false,
    "deletable": true,
    "editable": true
   },
   "outputs": [],
   "source": [
    "s = united.sample(1000)\n",
    "delay_hist(s)"
   ]
  },
  {
   "cell_type": "code",
   "execution_count": null,
   "metadata": {
    "collapsed": false,
    "deletable": true,
    "editable": true
   },
   "outputs": [],
   "source": [
    "s.where('Delay', are.between(10, 20)).num_rows / s.num_rows"
   ]
  },
  {
   "cell_type": "markdown",
   "metadata": {
    "deletable": true,
    "editable": true
   },
   "source": [
    "## Monty Hall"
   ]
  },
  {
   "cell_type": "code",
   "execution_count": null,
   "metadata": {
    "collapsed": false,
    "deletable": true,
    "editable": true
   },
   "outputs": [],
   "source": [
    "doors = make_array(1, 2, 3)\n",
    "prizes = make_array('car', 'first goat', 'second goat')\n",
    "\n",
    "def setup():\n",
    "    \"\"\"Return a random game of Let's Make a Deal.\"\"\"\n",
    "    return Table().with_columns(\n",
    "        'Door', doors,\n",
    "        'Prize', np.random.choice(prizes, 3, replace=False))\n",
    "\n",
    "def behind(game, door):\n",
    "    \"\"\"Return the prize behind a door.\"\"\"\n",
    "    return game.where('Door', door).column('Prize').item(0)\n",
    "\n",
    "def location(game, prize):\n",
    "    \"\"\"Return the door that hides a prize.\"\"\"\n",
    "    return game.where('Prize', prize).column('Door').item(0)\n",
    "\n",
    "def expose(game, guess):\n",
    "    \"\"\"Return the door that Monty Hall opens to expose a goat.\"\"\"\n",
    "    guessed_prize = behind(game, guess)\n",
    "    if guessed_prize == 'first goat':\n",
    "        reveal = 'second goat'\n",
    "    elif guessed_prize == 'second goat':\n",
    "        reveal = 'first goat'\n",
    "    else:\n",
    "        reveal = np.random.choice(['first goat', 'second goat'])\n",
    "    return location(game, reveal)\n",
    "\n",
    "def other(game, guess, exposed):\n",
    "    \"\"\"Return the door that is not the guess or the exposed.\"\"\"\n",
    "    return (1 + 2 + 3) - guess - exposed\n",
    "\n",
    "trials = Table(['trial', 'guess', 'exposed', 'remaining'])\n",
    "for i in np.arange(10000)+1:\n",
    "    game = setup()\n",
    "    guess = np.random.choice(doors)\n",
    "    exposed = expose(game, guess)\n",
    "    remaining = other(game, guess, exposed)\n",
    "    trials.append([i, behind(game, guess), behind(game, exposed), behind(game, remaining)])\n",
    "    \n",
    "trials"
   ]
  },
  {
   "cell_type": "code",
   "execution_count": null,
   "metadata": {
    "collapsed": false,
    "deletable": true,
    "editable": true
   },
   "outputs": [],
   "source": [
    "counts = trials.group(['guess', 'exposed', 'remaining'])\n",
    "counts"
   ]
  },
  {
   "cell_type": "code",
   "execution_count": null,
   "metadata": {
    "collapsed": false,
    "deletable": true,
    "editable": true
   },
   "outputs": [],
   "source": [
    "counts.set_format('count', DistributionFormatter)"
   ]
  },
  {
   "cell_type": "code",
   "execution_count": null,
   "metadata": {
    "collapsed": false,
    "deletable": true,
    "editable": true
   },
   "outputs": [],
   "source": [
    "outcomes = counts.drop('count')\n",
    "outcomes"
   ]
  },
  {
   "cell_type": "code",
   "execution_count": null,
   "metadata": {
    "collapsed": false,
    "deletable": true,
    "editable": true
   },
   "outputs": [],
   "source": [
    "chances = make_array(\n",
    "    1/3 * 1/2, \n",
    "    1/3 * 1/2, \n",
    "    1/3 * 1,\n",
    "    1/3 * 1\n",
    ")\n",
    "distribution = outcomes.with_column('chance', chances)\n",
    "distribution.set_format('chance', PercentFormatter)"
   ]
  },
  {
   "cell_type": "code",
   "execution_count": null,
   "metadata": {
    "collapsed": false,
    "deletable": true,
    "editable": true
   },
   "outputs": [],
   "source": [
    "samples = outcomes.sample(10000, weights=chances)\n",
    "samples"
   ]
  },
  {
   "cell_type": "code",
   "execution_count": null,
   "metadata": {
    "collapsed": false,
    "deletable": true,
    "editable": true
   },
   "outputs": [],
   "source": [
    "samples.group(['guess', 'exposed', 'remaining'])"
   ]
  },
  {
   "cell_type": "markdown",
   "metadata": {
    "deletable": true,
    "editable": true
   },
   "source": [
    "Roll a die 4 times. What's P(at least one 6)."
   ]
  },
  {
   "cell_type": "code",
   "execution_count": null,
   "metadata": {
    "collapsed": false,
    "deletable": true,
    "editable": true
   },
   "outputs": [],
   "source": [
    "1 - (5/6) ** 4"
   ]
  },
  {
   "cell_type": "code",
   "execution_count": null,
   "metadata": {
    "collapsed": false,
    "deletable": true,
    "editable": true
   },
   "outputs": [],
   "source": [
    "rolls = np.arange(1, 51, 1)\n",
    "at_least_one = Table().with_columns(\n",
    "    'Rolls', rolls,\n",
    "    'Chance of at least one 6', 1 - (5/6)**rolls\n",
    ")\n",
    "at_least_one.set_format(1, PercentFormatter(3))"
   ]
  },
  {
   "cell_type": "code",
   "execution_count": null,
   "metadata": {
    "collapsed": false,
    "deletable": true,
    "editable": true
   },
   "outputs": [],
   "source": [
    "at_least_one.scatter('Rolls')"
   ]
  },
  {
   "cell_type": "code",
   "execution_count": null,
   "metadata": {
    "collapsed": false,
    "deletable": true,
    "editable": true
   },
   "outputs": [],
   "source": [
    "at_least_one.where('Rolls', 20)"
   ]
  },
  {
   "cell_type": "code",
   "execution_count": null,
   "metadata": {
    "collapsed": false,
    "deletable": true,
    "editable": true
   },
   "outputs": [],
   "source": [
    "rolls = np.random.choice(np.arange(6)+1, 20)\n",
    "rolls"
   ]
  },
  {
   "cell_type": "code",
   "execution_count": null,
   "metadata": {
    "collapsed": false,
    "deletable": true,
    "editable": true
   },
   "outputs": [],
   "source": [
    "np.count_nonzero(rolls==6)"
   ]
  },
  {
   "cell_type": "code",
   "execution_count": null,
   "metadata": {
    "collapsed": false,
    "deletable": true,
    "editable": true
   },
   "outputs": [],
   "source": [
    "trials = 1000\n",
    "successes = 0\n",
    "\n",
    "for i in np.arange(trials):\n",
    "    rolls = np.random.choice(np.arange(6)+1, 20)\n",
    "    if np.count_nonzero(rolls==6) > 0:\n",
    "        successes = successes + 1\n",
    "\n",
    "successes/trials"
   ]
  },
  {
   "cell_type": "code",
   "execution_count": null,
   "metadata": {
    "collapsed": false,
    "deletable": true,
    "editable": true
   },
   "outputs": [],
   "source": [
    "def roll_20():\n",
    "    trials = 1000\n",
    "    successes = 0\n",
    "\n",
    "    for i in np.arange(trials):\n",
    "        rolls = np.random.choice(np.arange(6)+1, 20)\n",
    "        if np.count_nonzero(rolls==6) > 0:\n",
    "            successes = successes + 1\n",
    "\n",
    "    return successes/trials\n",
    "\n",
    "estimates = Table(['estimate'])\n",
    "for k in np.arange(1000):\n",
    "    estimates.append([roll_20()])\n",
    "\n",
    "estimates.hist(normed=False)"
   ]
  },
  {
   "cell_type": "code",
   "execution_count": null,
   "metadata": {
    "collapsed": false,
    "deletable": true,
    "editable": true
   },
   "outputs": [],
   "source": [
    "np.average(estimates.column(0))"
   ]
  }
 ],
 "metadata": {
  "kernelspec": {
   "display_name": "Python 3",
   "language": "python",
   "name": "python3"
  },
  "language_info": {
   "codemirror_mode": {
    "name": "ipython",
    "version": 3
   },
   "file_extension": ".py",
   "mimetype": "text/x-python",
   "name": "python",
   "nbconvert_exporter": "python",
   "pygments_lexer": "ipython3",
   "version": "3.5.2"
  }
 },
 "nbformat": 4,
 "nbformat_minor": 2
}
