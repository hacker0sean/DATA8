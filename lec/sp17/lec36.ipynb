{
 "cells": [
  {
   "cell_type": "code",
   "execution_count": null,
   "metadata": {
    "collapsed": false,
    "deletable": true,
    "editable": true
   },
   "outputs": [],
   "source": [
    "from datascience import *\n",
    "import numpy as np\n",
    "\n",
    "import matplotlib.pyplot as plots\n",
    "plots.style.use('fivethirtyeight')\n",
    "%matplotlib inline"
   ]
  },
  {
   "cell_type": "markdown",
   "metadata": {
    "deletable": true,
    "editable": true
   },
   "source": [
    "## A/B Testing"
   ]
  },
  {
   "cell_type": "code",
   "execution_count": null,
   "metadata": {
    "collapsed": false,
    "deletable": true,
    "editable": true
   },
   "outputs": [],
   "source": [
    "baby = Table.read_table('baby.csv')\n",
    "baby"
   ]
  },
  {
   "cell_type": "code",
   "execution_count": null,
   "metadata": {
    "collapsed": false
   },
   "outputs": [],
   "source": [
    "baby.group('Maternal Smoker')"
   ]
  },
  {
   "cell_type": "code",
   "execution_count": null,
   "metadata": {
    "collapsed": false
   },
   "outputs": [],
   "source": [
    "weight_bins = np.arange(40, 181, 5)\n",
    "baby.where('Maternal Smoker', False).hist('Birth Weight', bins=weight_bins, unit='ounce')"
   ]
  },
  {
   "cell_type": "code",
   "execution_count": null,
   "metadata": {
    "collapsed": false
   },
   "outputs": [],
   "source": [
    "baby.where('Maternal Smoker', True).hist('Birth Weight', bins=weight_bins, unit='ounce')"
   ]
  },
  {
   "cell_type": "code",
   "execution_count": null,
   "metadata": {
    "collapsed": false
   },
   "outputs": [],
   "source": [
    "baby.where('Maternal Smoker', False).bin('Birth Weight', bins=weight_bins).join(\n",
    "    'bin', baby.where('Maternal Smoker', True).bin('Birth Weight', bins=weight_bins)\n",
    ").relabeled(1, 'Non-Smoker').relabeled(2, 'Smoker').hist(bin_column='bin')"
   ]
  },
  {
   "cell_type": "code",
   "execution_count": null,
   "metadata": {
    "collapsed": false
   },
   "outputs": [],
   "source": [
    "smoke_weight = baby.select('Maternal Smoker', 'Birth Weight')\n",
    "means = smoke_weight.group(0, np.mean)\n",
    "means"
   ]
  },
  {
   "cell_type": "code",
   "execution_count": null,
   "metadata": {
    "collapsed": false
   },
   "outputs": [],
   "source": [
    "def difference_in_means(t):\n",
    "    means = t.group(0, np.mean)\n",
    "    return means.column(1).item(0) - means.column(1).item(1)\n",
    "\n",
    "difference_in_means(smoke_weight)"
   ]
  },
  {
   "cell_type": "code",
   "execution_count": null,
   "metadata": {
    "collapsed": true
   },
   "outputs": [],
   "source": [
    "def permutation_test_means(table, variable, classes, repetitions, unit=None):\n",
    "    \"\"\"Test whether two numerical samples \n",
    "    come from the same underlying distribution, \n",
    "    using the absolute difference between the means.\n",
    "    table: name of table containing the sample\n",
    "    variable: label of column containing the numerical variable \n",
    "    classes: label of column containing names of the two samples\n",
    "    repetitions: number of random permutations\n",
    "    \n",
    "    variable -- Label for a numerical variable in table\n",
    "    classes -- Label for a two-category (A & B) variable in table\n",
    "    \"\"\"\n",
    "    \n",
    "    t = table.select(classes, variable)\n",
    "    observed = abs(difference_in_means(t))\n",
    "    \n",
    "    # Assuming the null is true, randomly permute the variable \n",
    "    # and collect all the generated test statistics\n",
    "    stats = make_array()\n",
    "    for i in np.arange(repetitions):\n",
    "        shuffled_var = t.select(variable).sample(with_replacement=False).column(0)\n",
    "        shuffled = t.select(classes).with_column('Shuffled Variable', shuffled_var)\n",
    "        new_stat = abs(difference_in_means(shuffled))\n",
    "        stats = np.append(stats, new_stat)\n",
    "    \n",
    "    # Find the empirical P-value:\n",
    "    p = np.count_nonzero(stats >= observed) / repetitions\n",
    "\n",
    "    # Draw the empirical histogram of the tvd's generated under the null, \n",
    "    # and compare with the value observed in the original sample\n",
    "    Table().with_column('Test Statistic', stats).hist(unit=unit)\n",
    "    plots.title('Empirical Distribution Under the Null')\n",
    "    print('Observed statistic:', observed)\n",
    "    print('Empirical P-value:', p)"
   ]
  },
  {
   "cell_type": "code",
   "execution_count": null,
   "metadata": {
    "collapsed": false
   },
   "outputs": [],
   "source": [
    "permutation_test_means(baby, 'Birth Weight', 'Maternal Smoker', 1000, 'ounce')"
   ]
  },
  {
   "cell_type": "markdown",
   "metadata": {},
   "source": [
    "## Effect Size"
   ]
  },
  {
   "cell_type": "code",
   "execution_count": null,
   "metadata": {
    "collapsed": true
   },
   "outputs": [],
   "source": [
    "def bootstrap_ci_means(table, variable, classes, repetitions, unit=None):\n",
    "    \"\"\"Bootstrap approximate 95% confidence interval\n",
    "    for the difference between the means of the two classes\n",
    "    in the population\n",
    "    \"\"\"\n",
    "    \n",
    "    t = table.select(classes, variable)\n",
    "    \n",
    "    stats = make_array()\n",
    "    for i in np.arange(repetitions):\n",
    "        bootstrap_sample = t.sample()\n",
    "        new_stat = difference_in_means(bootstrap_sample)\n",
    "        stats = np.append(stats, new_stat)\n",
    "        \n",
    "    left = percentile(2.5, stats)\n",
    "    right = percentile(97.5, stats)\n",
    "    \n",
    "    Table().with_column('Difference Between Means', stats).hist(unit=unit)\n",
    "    plots.plot(make_array(left, right), make_array(0, 0), color='yellow', lw=8)\n",
    "    print('Approximate 95% CI for the difference between means:')\n",
    "    print(left, 'to', right)"
   ]
  },
  {
   "cell_type": "code",
   "execution_count": null,
   "metadata": {
    "collapsed": false
   },
   "outputs": [],
   "source": [
    "bootstrap_ci_means(baby, 'Birth Weight', 'Maternal Smoker', 1000, 'ounce')"
   ]
  },
  {
   "cell_type": "code",
   "execution_count": null,
   "metadata": {
    "collapsed": false
   },
   "outputs": [],
   "source": [
    "bootstrap_ci_means(baby, 'Maternal Age', 'Maternal Smoker', 1000, 'year')"
   ]
  },
  {
   "cell_type": "code",
   "execution_count": null,
   "metadata": {
    "collapsed": false
   },
   "outputs": [],
   "source": [
    "bootstrap_ci_means(baby, 'Maternal Height', 'Maternal Smoker', 1000, 'inch')"
   ]
  },
  {
   "cell_type": "markdown",
   "metadata": {},
   "source": [
    "## RCTs"
   ]
  },
  {
   "cell_type": "code",
   "execution_count": null,
   "metadata": {
    "collapsed": false
   },
   "outputs": [],
   "source": [
    "bta = Table.read_table('bta.csv')\n",
    "bta"
   ]
  },
  {
   "cell_type": "code",
   "execution_count": null,
   "metadata": {
    "collapsed": false
   },
   "outputs": [],
   "source": [
    "bta.group('Group', np.mean)"
   ]
  },
  {
   "cell_type": "code",
   "execution_count": null,
   "metadata": {
    "collapsed": false
   },
   "outputs": [],
   "source": [
    "permutation_test_means(bta, 'Result', 'Group', 1000)"
   ]
  },
  {
   "cell_type": "code",
   "execution_count": null,
   "metadata": {
    "collapsed": false
   },
   "outputs": [],
   "source": [
    "bootstrap_ci_means(bta, 'Result', 'Group', 1000)"
   ]
  }
 ],
 "metadata": {
  "kernelspec": {
   "display_name": "Python 3",
   "language": "python",
   "name": "python3"
  },
  "language_info": {
   "codemirror_mode": {
    "name": "ipython",
    "version": 3
   },
   "file_extension": ".py",
   "mimetype": "text/x-python",
   "name": "python",
   "nbconvert_exporter": "python",
   "pygments_lexer": "ipython3",
   "version": "3.5.2"
  }
 },
 "nbformat": 4,
 "nbformat_minor": 2
}
